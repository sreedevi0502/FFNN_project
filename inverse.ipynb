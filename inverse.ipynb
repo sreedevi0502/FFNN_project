{
 "cells": [
  {
   "cell_type": "code",
   "execution_count": 1,
   "id": "0cb8efa0",
   "metadata": {},
   "outputs": [],
   "source": [
    "import time\n",
    "import numpy as np\n",
    "import pandas as pd\n",
    "import pyhodlrlib"
   ]
  },
  {
   "cell_type": "code",
   "execution_count": 14,
   "id": "85aa3c2f",
   "metadata": {},
   "outputs": [],
   "source": [
    "# How to create a dataset for a regression problem\n",
    "from sklearn.datasets import make_regression\n",
    "X, y = make_regression(n_samples=20000, n_features=10, noise=1, random_state=42)\n",
    "N=len(X)\n"
   ]
  },
  {
   "cell_type": "code",
   "execution_count": 15,
   "id": "6d680eff",
   "metadata": {},
   "outputs": [],
   "source": [
    "# View the some sample rows classification dataset\n",
    "X=pd.DataFrame(X,\n",
    "             columns=[\"x\"+ str(i) for i in range(X.shape[1])])"
   ]
  },
  {
   "cell_type": "code",
   "execution_count": 16,
   "id": "94d9f1a6",
   "metadata": {},
   "outputs": [],
   "source": [
    "y=X.apply(lambda row: row.x1/(row.x2*row.x3)-\n",
    "                                  (row.x4*5)+3*(row.x5)+row.x7+3*(row.x6)+row.x8/row.x9+(row.x0), axis = 1)"
   ]
  },
  {
   "cell_type": "code",
   "execution_count": 17,
   "id": "c8905920",
   "metadata": {},
   "outputs": [
    {
     "data": {
      "text/plain": [
       "(20000, 10)"
      ]
     },
     "execution_count": 17,
     "metadata": {},
     "output_type": "execute_result"
    }
   ],
   "source": [
    "X.shape"
   ]
  },
  {
   "cell_type": "code",
   "execution_count": 18,
   "id": "99b1049b",
   "metadata": {},
   "outputs": [],
   "source": [
    "X=np.array(X)"
   ]
  },
  {
   "cell_type": "code",
   "execution_count": 19,
   "id": "d750fb9e",
   "metadata": {},
   "outputs": [
    {
     "data": {
      "text/plain": [
       "(20000, 1)"
      ]
     },
     "execution_count": 19,
     "metadata": {},
     "output_type": "execute_result"
    }
   ],
   "source": [
    "y = np.expand_dims(y, axis=-1)\n",
    "y.shape"
   ]
  },
  {
   "cell_type": "code",
   "execution_count": 20,
   "id": "ed02c17e",
   "metadata": {},
   "outputs": [],
   "source": [
    "def rbf_kernel(X1, X2):\n",
    "    n_samples_X1, n_features = X1.shape\n",
    "    n_samples_X2, _ = X2.shape\n",
    "    kernel_matrix = np.zeros((n_samples_X1, n_samples_X2))\n",
    "\n",
    "    for i in range(n_samples_X1):\n",
    "        for j in range(n_samples_X2):\n",
    "            squared_distance = np.linalg.norm(X1[i] - X2[j])\n",
    "            kernel_matrix[i, j] = np.exp(-0.5* (squared_distance)**2)\n",
    "\n",
    "    return kernel_matrix"
   ]
  },
  {
   "cell_type": "code",
   "execution_count": 21,
   "id": "f1b1d6d4",
   "metadata": {},
   "outputs": [
    {
     "data": {
      "text/plain": [
       "numpy.ndarray"
      ]
     },
     "execution_count": 21,
     "metadata": {},
     "output_type": "execute_result"
    }
   ],
   "source": [
    "type(X)"
   ]
  },
  {
   "cell_type": "code",
   "execution_count": 22,
   "id": "672a95fa",
   "metadata": {},
   "outputs": [
    {
     "name": "stdout",
     "output_type": "stream",
     "text": [
      " time: 5131.639305114746\n"
     ]
    }
   ],
   "source": [
    "import time\n",
    "t0 = time.time()\n",
    "#K2 = Kernel2(N2)\n",
    "#A12 = K2.GP_hod(X1, y1, X2)\n",
    "A11=rbf_kernel(X,X)\n",
    "from scipy import linalg\n",
    "x = linalg.solve(A11, y)\n",
    "print(\" time:\", time.time()-t0)"
   ]
  },
  {
   "cell_type": "code",
   "execution_count": 23,
   "id": "2663cde8",
   "metadata": {},
   "outputs": [
    {
     "name": "stdout",
     "output_type": "stream",
     "text": [
      "15388.508623123169\n"
     ]
    }
   ],
   "source": [
    "# Returning the Gaussian Kernel:\n",
    "class Kernel1(pyhodlrlib.HODLR_Matrix):\n",
    "    def getMatrixEntry(self, i, j):\n",
    "        dist=np.linalg.norm(X[i] - X[j])\n",
    "        #print(dist)\n",
    "        return np.exp(-0.5*(dist)**2)\n",
    "         \n",
    "    def GP_hod(self,X1, y, X2):\n",
    "        # What we are doing here is explicitly generating \n",
    "        # the matrix from its entries\n",
    "        A11=K1.getMatrix(0,0,N,N)\n",
    "        #print(A11,\"A11\")\n",
    "        return A11\n",
    "t0 = time.time()\n",
    "#print(\"A11\",A12,A12.shape)\n",
    "K1 = Kernel1(N)\n",
    "A11 = K1.GP_hod(X, y, X)\n",
    "eps = 1e-12\n",
    "# If we are assembling a symmetric matrix:\n",
    "is_sym = True\n",
    "# If we know that the matrix is also PD:\n",
    "# By setting the matrix to be symmetric-positive definite, \n",
    "# we trigger the fast symmetric factorization method to be used\n",
    "# In all other cases the fast factorization method is used\n",
    "is_pd = True\n",
    "# Creating the HODLR object:\n",
    "#print(type(A11))\n",
    "M=N//5\n",
    "\n",
    "T = pyhodlrlib.HODLR(N, M, eps)\n",
    "T.assemble(K1, 'rookPivoting', is_sym, is_pd)\n",
    "# Factorize elements of the tree:\n",
    "T.factorize()\n",
    "# Solving for x in A x = b:\n",
    "x_hodlr = T.solve(y)\n",
    "    \n",
    "print(time.time()-t0)"
   ]
  },
  {
   "cell_type": "code",
   "execution_count": 12,
   "id": "3332773f",
   "metadata": {},
   "outputs": [
    {
     "data": {
      "text/plain": [
       "array([[  -8.54573192],\n",
       "       [  59.85110639],\n",
       "       [  15.34594327],\n",
       "       ...,\n",
       "       [  -5.69235786],\n",
       "       [ -74.60131908],\n",
       "       [-103.54484362]])"
      ]
     },
     "execution_count": 12,
     "metadata": {},
     "output_type": "execute_result"
    }
   ],
   "source": [
    "x"
   ]
  },
  {
   "cell_type": "code",
   "execution_count": 13,
   "id": "a97e2dd5",
   "metadata": {},
   "outputs": [
    {
     "data": {
      "text/plain": [
       "array([[  -8.54573192],\n",
       "       [  59.85110639],\n",
       "       [  15.34594327],\n",
       "       ...,\n",
       "       [  -5.69235786],\n",
       "       [ -74.60131908],\n",
       "       [-103.54484362]])"
      ]
     },
     "execution_count": 13,
     "metadata": {},
     "output_type": "execute_result"
    }
   ],
   "source": [
    "x_hodlr"
   ]
  },
  {
   "cell_type": "code",
   "execution_count": 26,
   "id": "be4b7e4d",
   "metadata": {},
   "outputs": [
    {
     "name": "stdout",
     "output_type": "stream",
     "text": [
      "+-------------+---------+\n",
      "|   np.linalg |   HODLR |\n",
      "+=============+=========+\n",
      "|     4853.41 | 19096.2 |\n",
      "+-------------+---------+\n",
      "|     5131.63 | 15388.5 |\n",
      "+-------------+---------+\n"
     ]
    }
   ],
   "source": [
    "\n",
    "# import module\n",
    "from tabulate import tabulate\n",
    " \n",
    "# assign data\n",
    "mydata = [\n",
    "    [ 4853.41,19096.183 ], \n",
    "    [5131.63,15388.508 ]\n",
    "    \n",
    "]\n",
    " \n",
    "# create header\n",
    "head = [\"np.linalg\", \"HODLR\"]\n",
    " \n",
    "# display table\n",
    "print(tabulate(mydata, headers=head, tablefmt=\"grid\"))"
   ]
  },
  {
   "cell_type": "code",
   "execution_count": null,
   "id": "65269021",
   "metadata": {},
   "outputs": [],
   "source": []
  }
 ],
 "metadata": {
  "kernelspec": {
   "display_name": "Python 3 (ipykernel)",
   "language": "python",
   "name": "python3"
  },
  "language_info": {
   "codemirror_mode": {
    "name": "ipython",
    "version": 3
   },
   "file_extension": ".py",
   "mimetype": "text/x-python",
   "name": "python",
   "nbconvert_exporter": "python",
   "pygments_lexer": "ipython3",
   "version": "3.8.17"
  }
 },
 "nbformat": 4,
 "nbformat_minor": 5
}
