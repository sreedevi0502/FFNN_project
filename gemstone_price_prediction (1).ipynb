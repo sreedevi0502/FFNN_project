{
 "cells": [
  {
   "cell_type": "code",
   "execution_count": 50,
   "metadata": {
    "colab": {
     "base_uri": "https://localhost:8080/"
    },
    "id": "rwoxShXdUz1b",
    "outputId": "7d78e523-6ad9-46d8-d1d9-8515ab77c1e9",
    "scrolled": true
   },
   "outputs": [],
   "source": [
    "#pip install tensorflow_decision_forests"
   ]
  },
  {
   "cell_type": "code",
   "execution_count": 51,
   "metadata": {
    "colab": {
     "base_uri": "https://localhost:8080/"
    },
    "id": "A994ROw_URHc",
    "outputId": "a9a107c1-a59d-420a-a7df-f83952dcb178"
   },
   "outputs": [
    {
     "name": "stdout",
     "output_type": "stream",
     "text": [
      "3.11.4 | packaged by Anaconda, Inc. | (main, Jul  5 2023, 13:38:37) [MSC v.1916 64 bit (AMD64)]\n"
     ]
    }
   ],
   "source": [
    "import sys\n",
    "print(sys.version)"
   ]
  },
  {
   "cell_type": "code",
   "execution_count": 52,
   "metadata": {
    "id": "y8PB1kjaU0cK"
   },
   "outputs": [],
   "source": [
    "import pandas as pd\n",
    "import seaborn as sns\n",
    "import tensorflow as tf\n",
    "import math\n",
    "import numpy as np\n",
    "import matplotlib.pyplot as plt\n",
    "from sklearn.model_selection import train_test_split\n",
    "from keras.callbacks import EarlyStopping\n",
    "#import tensorflow_decision_forests as tfdf"
   ]
  },
  {
   "cell_type": "code",
   "execution_count": 53,
   "metadata": {
    "colab": {
     "base_uri": "https://localhost:8080/",
     "height": 73
    },
    "id": "rcuXDrqIVB0Q",
    "outputId": "f937e4df-55c4-4158-de39-3f4600cf68e0"
   },
   "outputs": [],
   "source": [
    "#from google.colab import files\n",
    "#uploaded = files.upload()"
   ]
  },
  {
   "cell_type": "markdown",
   "metadata": {
    "id": "_WUTeqw_1uJc"
   },
   "source": [
    "gemstone price\n"
   ]
  },
  {
   "cell_type": "code",
   "execution_count": 54,
   "metadata": {
    "id": "tV7oGCPoVEJ9"
   },
   "outputs": [],
   "source": [
    "import io\n",
    "dataset = pd.read_csv('cubic_zirconia_gemstone.csv')\n",
    "# Dataset is now stored in a Pandas Dataframe"
   ]
  },
  {
   "cell_type": "code",
   "execution_count": 55,
   "metadata": {
    "colab": {
     "base_uri": "https://localhost:8080/",
     "height": 206
    },
    "id": "Y-nMr_vhVJZk",
    "outputId": "730855d3-e45b-48c9-b64f-fd13bdc7bd7b"
   },
   "outputs": [
    {
     "data": {
      "text/html": [
       "<div>\n",
       "<style scoped>\n",
       "    .dataframe tbody tr th:only-of-type {\n",
       "        vertical-align: middle;\n",
       "    }\n",
       "\n",
       "    .dataframe tbody tr th {\n",
       "        vertical-align: top;\n",
       "    }\n",
       "\n",
       "    .dataframe thead th {\n",
       "        text-align: right;\n",
       "    }\n",
       "</style>\n",
       "<table border=\"1\" class=\"dataframe\">\n",
       "  <thead>\n",
       "    <tr style=\"text-align: right;\">\n",
       "      <th></th>\n",
       "      <th>Unnamed: 0</th>\n",
       "      <th>carat</th>\n",
       "      <th>cut</th>\n",
       "      <th>color</th>\n",
       "      <th>clarity</th>\n",
       "      <th>depth</th>\n",
       "      <th>table</th>\n",
       "      <th>x</th>\n",
       "      <th>y</th>\n",
       "      <th>z</th>\n",
       "      <th>price</th>\n",
       "    </tr>\n",
       "  </thead>\n",
       "  <tbody>\n",
       "    <tr>\n",
       "      <th>0</th>\n",
       "      <td>1</td>\n",
       "      <td>0.30</td>\n",
       "      <td>Ideal</td>\n",
       "      <td>E</td>\n",
       "      <td>SI1</td>\n",
       "      <td>62.1</td>\n",
       "      <td>58.0</td>\n",
       "      <td>4.27</td>\n",
       "      <td>4.29</td>\n",
       "      <td>2.66</td>\n",
       "      <td>499</td>\n",
       "    </tr>\n",
       "    <tr>\n",
       "      <th>1</th>\n",
       "      <td>2</td>\n",
       "      <td>0.33</td>\n",
       "      <td>Premium</td>\n",
       "      <td>G</td>\n",
       "      <td>IF</td>\n",
       "      <td>60.8</td>\n",
       "      <td>58.0</td>\n",
       "      <td>4.42</td>\n",
       "      <td>4.46</td>\n",
       "      <td>2.70</td>\n",
       "      <td>984</td>\n",
       "    </tr>\n",
       "    <tr>\n",
       "      <th>2</th>\n",
       "      <td>3</td>\n",
       "      <td>0.90</td>\n",
       "      <td>Very Good</td>\n",
       "      <td>E</td>\n",
       "      <td>VVS2</td>\n",
       "      <td>62.2</td>\n",
       "      <td>60.0</td>\n",
       "      <td>6.04</td>\n",
       "      <td>6.12</td>\n",
       "      <td>3.78</td>\n",
       "      <td>6289</td>\n",
       "    </tr>\n",
       "    <tr>\n",
       "      <th>3</th>\n",
       "      <td>4</td>\n",
       "      <td>0.42</td>\n",
       "      <td>Ideal</td>\n",
       "      <td>F</td>\n",
       "      <td>VS1</td>\n",
       "      <td>61.6</td>\n",
       "      <td>56.0</td>\n",
       "      <td>4.82</td>\n",
       "      <td>4.80</td>\n",
       "      <td>2.96</td>\n",
       "      <td>1082</td>\n",
       "    </tr>\n",
       "    <tr>\n",
       "      <th>4</th>\n",
       "      <td>5</td>\n",
       "      <td>0.31</td>\n",
       "      <td>Ideal</td>\n",
       "      <td>F</td>\n",
       "      <td>VVS1</td>\n",
       "      <td>60.4</td>\n",
       "      <td>59.0</td>\n",
       "      <td>4.35</td>\n",
       "      <td>4.43</td>\n",
       "      <td>2.65</td>\n",
       "      <td>779</td>\n",
       "    </tr>\n",
       "  </tbody>\n",
       "</table>\n",
       "</div>"
      ],
      "text/plain": [
       "   Unnamed: 0  carat        cut color clarity  depth  table     x     y     z  \\\n",
       "0           1   0.30      Ideal     E     SI1   62.1   58.0  4.27  4.29  2.66   \n",
       "1           2   0.33    Premium     G      IF   60.8   58.0  4.42  4.46  2.70   \n",
       "2           3   0.90  Very Good     E    VVS2   62.2   60.0  6.04  6.12  3.78   \n",
       "3           4   0.42      Ideal     F     VS1   61.6   56.0  4.82  4.80  2.96   \n",
       "4           5   0.31      Ideal     F    VVS1   60.4   59.0  4.35  4.43  2.65   \n",
       "\n",
       "   price  \n",
       "0    499  \n",
       "1    984  \n",
       "2   6289  \n",
       "3   1082  \n",
       "4    779  "
      ]
     },
     "execution_count": 55,
     "metadata": {},
     "output_type": "execute_result"
    }
   ],
   "source": [
    "dataset.head()"
   ]
  },
  {
   "cell_type": "code",
   "execution_count": 56,
   "metadata": {
    "colab": {
     "base_uri": "https://localhost:8080/"
    },
    "id": "mROOkEzlZYrr",
    "outputId": "3863227c-865f-4176-f770-cdd4ffe88ee2"
   },
   "outputs": [
    {
     "data": {
      "text/plain": [
       "(26967, 11)"
      ]
     },
     "execution_count": 56,
     "metadata": {},
     "output_type": "execute_result"
    }
   ],
   "source": [
    "#shape of dataframe\n",
    "\n",
    "dataset.shape"
   ]
  },
  {
   "cell_type": "code",
   "execution_count": 57,
   "metadata": {
    "colab": {
     "base_uri": "https://localhost:8080/"
    },
    "id": "06DKpry_Zga0",
    "outputId": "e0f6e1d5-0422-4a51-92d6-2b7e01c0eb84"
   },
   "outputs": [
    {
     "data": {
      "text/plain": [
       "True"
      ]
     },
     "execution_count": 57,
     "metadata": {},
     "output_type": "execute_result"
    }
   ],
   "source": [
    "#check there are any NAN values\n",
    "\n",
    "dataset.isnull().values.any()"
   ]
  },
  {
   "cell_type": "code",
   "execution_count": 58,
   "metadata": {
    "colab": {
     "base_uri": "https://localhost:8080/"
    },
    "id": "c5pi7l8BZl6R",
    "outputId": "df267cb9-26fd-4218-b55a-dd62805b2824"
   },
   "outputs": [
    {
     "data": {
      "text/plain": [
       "Unnamed: 0      0\n",
       "carat           0\n",
       "cut             0\n",
       "color           0\n",
       "clarity         0\n",
       "depth         697\n",
       "table           0\n",
       "x               0\n",
       "y               0\n",
       "z               0\n",
       "price           0\n",
       "dtype: int64"
      ]
     },
     "execution_count": 58,
     "metadata": {},
     "output_type": "execute_result"
    }
   ],
   "source": [
    "dataset.isna().sum()"
   ]
  },
  {
   "cell_type": "code",
   "execution_count": 59,
   "metadata": {
    "id": "7lt9N4L0ZyHG"
   },
   "outputs": [],
   "source": [
    "dataset.dropna(inplace=True)"
   ]
  },
  {
   "cell_type": "code",
   "execution_count": 60,
   "metadata": {
    "colab": {
     "base_uri": "https://localhost:8080/"
    },
    "id": "UJuD6Up3Z3cL",
    "outputId": "4b829e21-6434-43af-a83d-be4607e35460"
   },
   "outputs": [
    {
     "data": {
      "text/plain": [
       "(26270, 11)"
      ]
     },
     "execution_count": 60,
     "metadata": {},
     "output_type": "execute_result"
    }
   ],
   "source": [
    "dataset.shape"
   ]
  },
  {
   "cell_type": "code",
   "execution_count": 61,
   "metadata": {
    "colab": {
     "base_uri": "https://localhost:8080/"
    },
    "id": "DZFOgi9UnP8-",
    "outputId": "e43a0f4f-289a-4ef4-f901-aedf1158b390"
   },
   "outputs": [
    {
     "data": {
      "text/plain": [
       "0"
      ]
     },
     "execution_count": 61,
     "metadata": {},
     "output_type": "execute_result"
    }
   ],
   "source": [
    "dataset.duplicated().sum()"
   ]
  },
  {
   "cell_type": "code",
   "execution_count": 62,
   "metadata": {
    "colab": {
     "base_uri": "https://localhost:8080/",
     "height": 300
    },
    "id": "N301cF8JZ8DI",
    "outputId": "1cfeaf8c-01a1-4484-f311-ffc319572b0a"
   },
   "outputs": [
    {
     "data": {
      "text/html": [
       "<div>\n",
       "<style scoped>\n",
       "    .dataframe tbody tr th:only-of-type {\n",
       "        vertical-align: middle;\n",
       "    }\n",
       "\n",
       "    .dataframe tbody tr th {\n",
       "        vertical-align: top;\n",
       "    }\n",
       "\n",
       "    .dataframe thead th {\n",
       "        text-align: right;\n",
       "    }\n",
       "</style>\n",
       "<table border=\"1\" class=\"dataframe\">\n",
       "  <thead>\n",
       "    <tr style=\"text-align: right;\">\n",
       "      <th></th>\n",
       "      <th>Unnamed: 0</th>\n",
       "      <th>carat</th>\n",
       "      <th>depth</th>\n",
       "      <th>table</th>\n",
       "      <th>x</th>\n",
       "      <th>y</th>\n",
       "      <th>z</th>\n",
       "      <th>price</th>\n",
       "    </tr>\n",
       "  </thead>\n",
       "  <tbody>\n",
       "    <tr>\n",
       "      <th>count</th>\n",
       "      <td>26270.000000</td>\n",
       "      <td>26270.000000</td>\n",
       "      <td>26270.000000</td>\n",
       "      <td>26270.000000</td>\n",
       "      <td>26270.000000</td>\n",
       "      <td>26270.000000</td>\n",
       "      <td>26270.000000</td>\n",
       "      <td>26270.000000</td>\n",
       "    </tr>\n",
       "    <tr>\n",
       "      <th>mean</th>\n",
       "      <td>13487.106509</td>\n",
       "      <td>0.797995</td>\n",
       "      <td>61.745147</td>\n",
       "      <td>57.456011</td>\n",
       "      <td>5.729167</td>\n",
       "      <td>5.732967</td>\n",
       "      <td>3.536636</td>\n",
       "      <td>3937.973734</td>\n",
       "    </tr>\n",
       "    <tr>\n",
       "      <th>std</th>\n",
       "      <td>7782.720039</td>\n",
       "      <td>0.477214</td>\n",
       "      <td>1.412860</td>\n",
       "      <td>2.230776</td>\n",
       "      <td>1.127515</td>\n",
       "      <td>1.166330</td>\n",
       "      <td>0.699335</td>\n",
       "      <td>4022.189341</td>\n",
       "    </tr>\n",
       "    <tr>\n",
       "      <th>min</th>\n",
       "      <td>1.000000</td>\n",
       "      <td>0.200000</td>\n",
       "      <td>50.800000</td>\n",
       "      <td>49.000000</td>\n",
       "      <td>0.000000</td>\n",
       "      <td>0.000000</td>\n",
       "      <td>0.000000</td>\n",
       "      <td>326.000000</td>\n",
       "    </tr>\n",
       "    <tr>\n",
       "      <th>25%</th>\n",
       "      <td>6741.250000</td>\n",
       "      <td>0.400000</td>\n",
       "      <td>61.000000</td>\n",
       "      <td>56.000000</td>\n",
       "      <td>4.710000</td>\n",
       "      <td>4.720000</td>\n",
       "      <td>2.900000</td>\n",
       "      <td>945.000000</td>\n",
       "    </tr>\n",
       "    <tr>\n",
       "      <th>50%</th>\n",
       "      <td>13497.500000</td>\n",
       "      <td>0.700000</td>\n",
       "      <td>61.800000</td>\n",
       "      <td>57.000000</td>\n",
       "      <td>5.690000</td>\n",
       "      <td>5.700000</td>\n",
       "      <td>3.520000</td>\n",
       "      <td>2375.000000</td>\n",
       "    </tr>\n",
       "    <tr>\n",
       "      <th>75%</th>\n",
       "      <td>20223.750000</td>\n",
       "      <td>1.050000</td>\n",
       "      <td>62.500000</td>\n",
       "      <td>59.000000</td>\n",
       "      <td>6.550000</td>\n",
       "      <td>6.540000</td>\n",
       "      <td>4.040000</td>\n",
       "      <td>5361.000000</td>\n",
       "    </tr>\n",
       "    <tr>\n",
       "      <th>max</th>\n",
       "      <td>26967.000000</td>\n",
       "      <td>4.500000</td>\n",
       "      <td>73.600000</td>\n",
       "      <td>79.000000</td>\n",
       "      <td>10.230000</td>\n",
       "      <td>58.900000</td>\n",
       "      <td>8.060000</td>\n",
       "      <td>18818.000000</td>\n",
       "    </tr>\n",
       "  </tbody>\n",
       "</table>\n",
       "</div>"
      ],
      "text/plain": [
       "         Unnamed: 0         carat         depth         table             x  \\\n",
       "count  26270.000000  26270.000000  26270.000000  26270.000000  26270.000000   \n",
       "mean   13487.106509      0.797995     61.745147     57.456011      5.729167   \n",
       "std     7782.720039      0.477214      1.412860      2.230776      1.127515   \n",
       "min        1.000000      0.200000     50.800000     49.000000      0.000000   \n",
       "25%     6741.250000      0.400000     61.000000     56.000000      4.710000   \n",
       "50%    13497.500000      0.700000     61.800000     57.000000      5.690000   \n",
       "75%    20223.750000      1.050000     62.500000     59.000000      6.550000   \n",
       "max    26967.000000      4.500000     73.600000     79.000000     10.230000   \n",
       "\n",
       "                  y             z         price  \n",
       "count  26270.000000  26270.000000  26270.000000  \n",
       "mean       5.732967      3.536636   3937.973734  \n",
       "std        1.166330      0.699335   4022.189341  \n",
       "min        0.000000      0.000000    326.000000  \n",
       "25%        4.720000      2.900000    945.000000  \n",
       "50%        5.700000      3.520000   2375.000000  \n",
       "75%        6.540000      4.040000   5361.000000  \n",
       "max       58.900000      8.060000  18818.000000  "
      ]
     },
     "execution_count": 62,
     "metadata": {},
     "output_type": "execute_result"
    }
   ],
   "source": [
    "dataset.describe()"
   ]
  },
  {
   "cell_type": "code",
   "execution_count": 63,
   "metadata": {
    "colab": {
     "base_uri": "https://localhost:8080/",
     "height": 848
    },
    "id": "6oc3f3ORdZZM",
    "outputId": "66d732ab-6803-47ec-aa9c-2923b2792f33"
   },
   "outputs": [
    {
     "data": {
      "text/plain": [
       "<Axes: >"
      ]
     },
     "execution_count": 63,
     "metadata": {},
     "output_type": "execute_result"
    },
    {
     "data": {
      "image/png": "[encoded data removed]",
      "text/plain": [
       "<Figure size 1600x1000 with 1 Axes>"
      ]
     },
     "metadata": {},
     "output_type": "display_data"
    }
   ],
   "source": [
    "plt.figure(figsize=(16,10))\n",
    "sns.boxplot(dataset)"
   ]
  },
  {
   "cell_type": "code",
   "execution_count": 64,
   "metadata": {
    "colab": {
     "base_uri": "https://localhost:8080/"
    },
    "id": "57qzVTQZzrrf",
    "outputId": "13a60569-6d5c-4f4f-dd2e-2cb02478225f"
   },
   "outputs": [
    {
     "data": {
      "text/plain": [
       "(364.269, 13206.55)"
      ]
     },
     "execution_count": 64,
     "metadata": {},
     "output_type": "execute_result"
    }
   ],
   "source": [
    "min_threshold,max_threshold=dataset.price.quantile([0.001,0.95])\n",
    "\n",
    "min_threshold,max_threshold"
   ]
  },
  {
   "cell_type": "code",
   "execution_count": 65,
   "metadata": {
    "colab": {
     "base_uri": "https://localhost:8080/",
     "height": 895
    },
    "id": "OcdoYUKjz-rZ",
    "outputId": "164bf0dc-2f6b-488c-c904-11bdc5c3f969"
   },
   "outputs": [
    {
     "data": {
      "text/html": [
       "<div>\n",
       "<style scoped>\n",
       "    .dataframe tbody tr th:only-of-type {\n",
       "        vertical-align: middle;\n",
       "    }\n",
       "\n",
       "    .dataframe tbody tr th {\n",
       "        vertical-align: top;\n",
       "    }\n",
       "\n",
       "    .dataframe thead th {\n",
       "        text-align: right;\n",
       "    }\n",
       "</style>\n",
       "<table border=\"1\" class=\"dataframe\">\n",
       "  <thead>\n",
       "    <tr style=\"text-align: right;\">\n",
       "      <th></th>\n",
       "      <th>Unnamed: 0</th>\n",
       "      <th>carat</th>\n",
       "      <th>cut</th>\n",
       "      <th>color</th>\n",
       "      <th>clarity</th>\n",
       "      <th>depth</th>\n",
       "      <th>table</th>\n",
       "      <th>x</th>\n",
       "      <th>y</th>\n",
       "      <th>z</th>\n",
       "      <th>price</th>\n",
       "    </tr>\n",
       "  </thead>\n",
       "  <tbody>\n",
       "    <tr>\n",
       "      <th>1136</th>\n",
       "      <td>1137</td>\n",
       "      <td>0.31</td>\n",
       "      <td>Good</td>\n",
       "      <td>J</td>\n",
       "      <td>SI2</td>\n",
       "      <td>63.3</td>\n",
       "      <td>58.0</td>\n",
       "      <td>4.34</td>\n",
       "      <td>4.35</td>\n",
       "      <td>2.75</td>\n",
       "      <td>335</td>\n",
       "    </tr>\n",
       "    <tr>\n",
       "      <th>4021</th>\n",
       "      <td>4022</td>\n",
       "      <td>0.31</td>\n",
       "      <td>Very Good</td>\n",
       "      <td>J</td>\n",
       "      <td>SI1</td>\n",
       "      <td>62.7</td>\n",
       "      <td>59.0</td>\n",
       "      <td>4.29</td>\n",
       "      <td>4.32</td>\n",
       "      <td>2.70</td>\n",
       "      <td>363</td>\n",
       "    </tr>\n",
       "    <tr>\n",
       "      <th>4713</th>\n",
       "      <td>4714</td>\n",
       "      <td>0.30</td>\n",
       "      <td>Ideal</td>\n",
       "      <td>I</td>\n",
       "      <td>SI2</td>\n",
       "      <td>62.0</td>\n",
       "      <td>54.0</td>\n",
       "      <td>4.31</td>\n",
       "      <td>4.34</td>\n",
       "      <td>2.68</td>\n",
       "      <td>348</td>\n",
       "    </tr>\n",
       "    <tr>\n",
       "      <th>6378</th>\n",
       "      <td>6379</td>\n",
       "      <td>0.23</td>\n",
       "      <td>Ideal</td>\n",
       "      <td>G</td>\n",
       "      <td>SI1</td>\n",
       "      <td>62.0</td>\n",
       "      <td>54.0</td>\n",
       "      <td>3.95</td>\n",
       "      <td>3.99</td>\n",
       "      <td>2.46</td>\n",
       "      <td>364</td>\n",
       "    </tr>\n",
       "    <tr>\n",
       "      <th>6484</th>\n",
       "      <td>6485</td>\n",
       "      <td>0.23</td>\n",
       "      <td>Ideal</td>\n",
       "      <td>E</td>\n",
       "      <td>SI2</td>\n",
       "      <td>61.5</td>\n",
       "      <td>55.0</td>\n",
       "      <td>3.95</td>\n",
       "      <td>3.98</td>\n",
       "      <td>2.43</td>\n",
       "      <td>326</td>\n",
       "    </tr>\n",
       "    <tr>\n",
       "      <th>7275</th>\n",
       "      <td>7276</td>\n",
       "      <td>0.25</td>\n",
       "      <td>Ideal</td>\n",
       "      <td>G</td>\n",
       "      <td>SI1</td>\n",
       "      <td>62.3</td>\n",
       "      <td>53.0</td>\n",
       "      <td>4.06</td>\n",
       "      <td>4.09</td>\n",
       "      <td>2.54</td>\n",
       "      <td>363</td>\n",
       "    </tr>\n",
       "    <tr>\n",
       "      <th>9978</th>\n",
       "      <td>9979</td>\n",
       "      <td>0.21</td>\n",
       "      <td>Premium</td>\n",
       "      <td>E</td>\n",
       "      <td>SI1</td>\n",
       "      <td>59.8</td>\n",
       "      <td>61.0</td>\n",
       "      <td>3.89</td>\n",
       "      <td>3.84</td>\n",
       "      <td>2.31</td>\n",
       "      <td>326</td>\n",
       "    </tr>\n",
       "    <tr>\n",
       "      <th>10669</th>\n",
       "      <td>10670</td>\n",
       "      <td>0.30</td>\n",
       "      <td>Good</td>\n",
       "      <td>I</td>\n",
       "      <td>SI2</td>\n",
       "      <td>63.3</td>\n",
       "      <td>56.0</td>\n",
       "      <td>4.26</td>\n",
       "      <td>4.30</td>\n",
       "      <td>2.71</td>\n",
       "      <td>351</td>\n",
       "    </tr>\n",
       "    <tr>\n",
       "      <th>11008</th>\n",
       "      <td>11009</td>\n",
       "      <td>0.30</td>\n",
       "      <td>Good</td>\n",
       "      <td>J</td>\n",
       "      <td>SI1</td>\n",
       "      <td>63.8</td>\n",
       "      <td>56.0</td>\n",
       "      <td>4.23</td>\n",
       "      <td>4.26</td>\n",
       "      <td>2.71</td>\n",
       "      <td>351</td>\n",
       "    </tr>\n",
       "    <tr>\n",
       "      <th>11633</th>\n",
       "      <td>11634</td>\n",
       "      <td>0.26</td>\n",
       "      <td>Ideal</td>\n",
       "      <td>I</td>\n",
       "      <td>VS1</td>\n",
       "      <td>61.9</td>\n",
       "      <td>56.0</td>\n",
       "      <td>4.08</td>\n",
       "      <td>4.16</td>\n",
       "      <td>2.55</td>\n",
       "      <td>358</td>\n",
       "    </tr>\n",
       "    <tr>\n",
       "      <th>12197</th>\n",
       "      <td>12198</td>\n",
       "      <td>0.30</td>\n",
       "      <td>Very Good</td>\n",
       "      <td>J</td>\n",
       "      <td>VS2</td>\n",
       "      <td>62.2</td>\n",
       "      <td>57.0</td>\n",
       "      <td>4.28</td>\n",
       "      <td>4.30</td>\n",
       "      <td>2.67</td>\n",
       "      <td>357</td>\n",
       "    </tr>\n",
       "    <tr>\n",
       "      <th>13229</th>\n",
       "      <td>13230</td>\n",
       "      <td>0.27</td>\n",
       "      <td>Ideal</td>\n",
       "      <td>G</td>\n",
       "      <td>SI2</td>\n",
       "      <td>62.3</td>\n",
       "      <td>55.0</td>\n",
       "      <td>4.14</td>\n",
       "      <td>4.18</td>\n",
       "      <td>2.59</td>\n",
       "      <td>361</td>\n",
       "    </tr>\n",
       "    <tr>\n",
       "      <th>14337</th>\n",
       "      <td>14338</td>\n",
       "      <td>0.23</td>\n",
       "      <td>Very Good</td>\n",
       "      <td>H</td>\n",
       "      <td>VS1</td>\n",
       "      <td>59.4</td>\n",
       "      <td>61.0</td>\n",
       "      <td>4.00</td>\n",
       "      <td>4.05</td>\n",
       "      <td>2.39</td>\n",
       "      <td>338</td>\n",
       "    </tr>\n",
       "    <tr>\n",
       "      <th>15878</th>\n",
       "      <td>15879</td>\n",
       "      <td>0.30</td>\n",
       "      <td>Ideal</td>\n",
       "      <td>I</td>\n",
       "      <td>SI2</td>\n",
       "      <td>62.0</td>\n",
       "      <td>55.0</td>\n",
       "      <td>4.32</td>\n",
       "      <td>4.33</td>\n",
       "      <td>2.68</td>\n",
       "      <td>360</td>\n",
       "    </tr>\n",
       "    <tr>\n",
       "      <th>17632</th>\n",
       "      <td>17633</td>\n",
       "      <td>0.24</td>\n",
       "      <td>Ideal</td>\n",
       "      <td>G</td>\n",
       "      <td>SI1</td>\n",
       "      <td>62.2</td>\n",
       "      <td>54.0</td>\n",
       "      <td>3.97</td>\n",
       "      <td>4.00</td>\n",
       "      <td>2.48</td>\n",
       "      <td>364</td>\n",
       "    </tr>\n",
       "    <tr>\n",
       "      <th>18624</th>\n",
       "      <td>18625</td>\n",
       "      <td>0.30</td>\n",
       "      <td>Good</td>\n",
       "      <td>J</td>\n",
       "      <td>SI1</td>\n",
       "      <td>63.4</td>\n",
       "      <td>54.0</td>\n",
       "      <td>4.23</td>\n",
       "      <td>4.29</td>\n",
       "      <td>2.70</td>\n",
       "      <td>351</td>\n",
       "    </tr>\n",
       "    <tr>\n",
       "      <th>18781</th>\n",
       "      <td>18782</td>\n",
       "      <td>0.26</td>\n",
       "      <td>Very Good</td>\n",
       "      <td>H</td>\n",
       "      <td>SI1</td>\n",
       "      <td>61.9</td>\n",
       "      <td>55.0</td>\n",
       "      <td>4.07</td>\n",
       "      <td>4.11</td>\n",
       "      <td>2.53</td>\n",
       "      <td>337</td>\n",
       "    </tr>\n",
       "    <tr>\n",
       "      <th>19131</th>\n",
       "      <td>19132</td>\n",
       "      <td>0.31</td>\n",
       "      <td>Good</td>\n",
       "      <td>J</td>\n",
       "      <td>SI1</td>\n",
       "      <td>63.5</td>\n",
       "      <td>55.0</td>\n",
       "      <td>4.30</td>\n",
       "      <td>4.33</td>\n",
       "      <td>2.74</td>\n",
       "      <td>363</td>\n",
       "    </tr>\n",
       "    <tr>\n",
       "      <th>19215</th>\n",
       "      <td>19216</td>\n",
       "      <td>0.28</td>\n",
       "      <td>Very Good</td>\n",
       "      <td>H</td>\n",
       "      <td>SI1</td>\n",
       "      <td>61.5</td>\n",
       "      <td>56.0</td>\n",
       "      <td>4.21</td>\n",
       "      <td>4.24</td>\n",
       "      <td>2.60</td>\n",
       "      <td>360</td>\n",
       "    </tr>\n",
       "    <tr>\n",
       "      <th>20759</th>\n",
       "      <td>20760</td>\n",
       "      <td>0.24</td>\n",
       "      <td>Very Good</td>\n",
       "      <td>I</td>\n",
       "      <td>VVS1</td>\n",
       "      <td>62.3</td>\n",
       "      <td>57.0</td>\n",
       "      <td>3.95</td>\n",
       "      <td>3.98</td>\n",
       "      <td>2.47</td>\n",
       "      <td>336</td>\n",
       "    </tr>\n",
       "    <tr>\n",
       "      <th>21302</th>\n",
       "      <td>21303</td>\n",
       "      <td>0.23</td>\n",
       "      <td>Very Good</td>\n",
       "      <td>D</td>\n",
       "      <td>VS2</td>\n",
       "      <td>62.7</td>\n",
       "      <td>58.0</td>\n",
       "      <td>3.86</td>\n",
       "      <td>3.89</td>\n",
       "      <td>2.43</td>\n",
       "      <td>362</td>\n",
       "    </tr>\n",
       "    <tr>\n",
       "      <th>22629</th>\n",
       "      <td>22630</td>\n",
       "      <td>0.32</td>\n",
       "      <td>Good</td>\n",
       "      <td>D</td>\n",
       "      <td>I1</td>\n",
       "      <td>64.0</td>\n",
       "      <td>54.0</td>\n",
       "      <td>4.33</td>\n",
       "      <td>4.36</td>\n",
       "      <td>2.78</td>\n",
       "      <td>361</td>\n",
       "    </tr>\n",
       "    <tr>\n",
       "      <th>22844</th>\n",
       "      <td>22845</td>\n",
       "      <td>0.23</td>\n",
       "      <td>Very Good</td>\n",
       "      <td>D</td>\n",
       "      <td>VS1</td>\n",
       "      <td>61.8</td>\n",
       "      <td>57.0</td>\n",
       "      <td>3.90</td>\n",
       "      <td>3.93</td>\n",
       "      <td>2.42</td>\n",
       "      <td>357</td>\n",
       "    </tr>\n",
       "    <tr>\n",
       "      <th>23726</th>\n",
       "      <td>23727</td>\n",
       "      <td>0.23</td>\n",
       "      <td>Very Good</td>\n",
       "      <td>F</td>\n",
       "      <td>VS1</td>\n",
       "      <td>60.9</td>\n",
       "      <td>57.0</td>\n",
       "      <td>3.96</td>\n",
       "      <td>3.99</td>\n",
       "      <td>2.42</td>\n",
       "      <td>357</td>\n",
       "    </tr>\n",
       "    <tr>\n",
       "      <th>23750</th>\n",
       "      <td>23751</td>\n",
       "      <td>0.25</td>\n",
       "      <td>Ideal</td>\n",
       "      <td>H</td>\n",
       "      <td>SI1</td>\n",
       "      <td>62.8</td>\n",
       "      <td>54.0</td>\n",
       "      <td>4.05</td>\n",
       "      <td>4.07</td>\n",
       "      <td>2.55</td>\n",
       "      <td>357</td>\n",
       "    </tr>\n",
       "    <tr>\n",
       "      <th>24956</th>\n",
       "      <td>24957</td>\n",
       "      <td>0.32</td>\n",
       "      <td>Premium</td>\n",
       "      <td>E</td>\n",
       "      <td>I1</td>\n",
       "      <td>60.9</td>\n",
       "      <td>58.0</td>\n",
       "      <td>4.38</td>\n",
       "      <td>4.42</td>\n",
       "      <td>2.68</td>\n",
       "      <td>345</td>\n",
       "    </tr>\n",
       "    <tr>\n",
       "      <th>25198</th>\n",
       "      <td>25199</td>\n",
       "      <td>0.24</td>\n",
       "      <td>Very Good</td>\n",
       "      <td>J</td>\n",
       "      <td>VVS2</td>\n",
       "      <td>62.8</td>\n",
       "      <td>57.0</td>\n",
       "      <td>3.94</td>\n",
       "      <td>3.96</td>\n",
       "      <td>2.48</td>\n",
       "      <td>336</td>\n",
       "    </tr>\n",
       "  </tbody>\n",
       "</table>\n",
       "</div>"
      ],
      "text/plain": [
       "       Unnamed: 0  carat        cut color clarity  depth  table     x     y  \\\n",
       "1136         1137   0.31       Good     J     SI2   63.3   58.0  4.34  4.35   \n",
       "4021         4022   0.31  Very Good     J     SI1   62.7   59.0  4.29  4.32   \n",
       "4713         4714   0.30      Ideal     I     SI2   62.0   54.0  4.31  4.34   \n",
       "6378         6379   0.23      Ideal     G     SI1   62.0   54.0  3.95  3.99   \n",
       "6484         6485   0.23      Ideal     E     SI2   61.5   55.0  3.95  3.98   \n",
       "7275         7276   0.25      Ideal     G     SI1   62.3   53.0  4.06  4.09   \n",
       "9978         9979   0.21    Premium     E     SI1   59.8   61.0  3.89  3.84   \n",
       "10669       10670   0.30       Good     I     SI2   63.3   56.0  4.26  4.30   \n",
       "11008       11009   0.30       Good     J     SI1   63.8   56.0  4.23  4.26   \n",
       "11633       11634   0.26      Ideal     I     VS1   61.9   56.0  4.08  4.16   \n",
       "12197       12198   0.30  Very Good     J     VS2   62.2   57.0  4.28  4.30   \n",
       "13229       13230   0.27      Ideal     G     SI2   62.3   55.0  4.14  4.18   \n",
       "14337       14338   0.23  Very Good     H     VS1   59.4   61.0  4.00  4.05   \n",
       "15878       15879   0.30      Ideal     I     SI2   62.0   55.0  4.32  4.33   \n",
       "17632       17633   0.24      Ideal     G     SI1   62.2   54.0  3.97  4.00   \n",
       "18624       18625   0.30       Good     J     SI1   63.4   54.0  4.23  4.29   \n",
       "18781       18782   0.26  Very Good     H     SI1   61.9   55.0  4.07  4.11   \n",
       "19131       19132   0.31       Good     J     SI1   63.5   55.0  4.30  4.33   \n",
       "19215       19216   0.28  Very Good     H     SI1   61.5   56.0  4.21  4.24   \n",
       "20759       20760   0.24  Very Good     I    VVS1   62.3   57.0  3.95  3.98   \n",
       "21302       21303   0.23  Very Good     D     VS2   62.7   58.0  3.86  3.89   \n",
       "22629       22630   0.32       Good     D      I1   64.0   54.0  4.33  4.36   \n",
       "22844       22845   0.23  Very Good     D     VS1   61.8   57.0  3.90  3.93   \n",
       "23726       23727   0.23  Very Good     F     VS1   60.9   57.0  3.96  3.99   \n",
       "23750       23751   0.25      Ideal     H     SI1   62.8   54.0  4.05  4.07   \n",
       "24956       24957   0.32    Premium     E      I1   60.9   58.0  4.38  4.42   \n",
       "25198       25199   0.24  Very Good     J    VVS2   62.8   57.0  3.94  3.96   \n",
       "\n",
       "          z  price  \n",
       "1136   2.75    335  \n",
       "4021   2.70    363  \n",
       "4713   2.68    348  \n",
       "6378   2.46    364  \n",
       "6484   2.43    326  \n",
       "7275   2.54    363  \n",
       "9978   2.31    326  \n",
       "10669  2.71    351  \n",
       "11008  2.71    351  \n",
       "11633  2.55    358  \n",
       "12197  2.67    357  \n",
       "13229  2.59    361  \n",
       "14337  2.39    338  \n",
       "15878  2.68    360  \n",
       "17632  2.48    364  \n",
       "18624  2.70    351  \n",
       "18781  2.53    337  \n",
       "19131  2.74    363  \n",
       "19215  2.60    360  \n",
       "20759  2.47    336  \n",
       "21302  2.43    362  \n",
       "22629  2.78    361  \n",
       "22844  2.42    357  \n",
       "23726  2.42    357  \n",
       "23750  2.55    357  \n",
       "24956  2.68    345  \n",
       "25198  2.48    336  "
      ]
     },
     "execution_count": 65,
     "metadata": {},
     "output_type": "execute_result"
    }
   ],
   "source": [
    "dataset[dataset.price<min_threshold]"
   ]
  },
  {
   "cell_type": "code",
   "execution_count": 66,
   "metadata": {
    "colab": {
     "base_uri": "https://localhost:8080/",
     "height": 423
    },
    "id": "EgolzRqS12HS",
    "outputId": "8806c407-8c32-4630-f378-02353e895558"
   },
   "outputs": [
    {
     "data": {
      "text/html": [
       "<div>\n",
       "<style scoped>\n",
       "    .dataframe tbody tr th:only-of-type {\n",
       "        vertical-align: middle;\n",
       "    }\n",
       "\n",
       "    .dataframe tbody tr th {\n",
       "        vertical-align: top;\n",
       "    }\n",
       "\n",
       "    .dataframe thead th {\n",
       "        text-align: right;\n",
       "    }\n",
       "</style>\n",
       "<table border=\"1\" class=\"dataframe\">\n",
       "  <thead>\n",
       "    <tr style=\"text-align: right;\">\n",
       "      <th></th>\n",
       "      <th>Unnamed: 0</th>\n",
       "      <th>carat</th>\n",
       "      <th>cut</th>\n",
       "      <th>color</th>\n",
       "      <th>clarity</th>\n",
       "      <th>depth</th>\n",
       "      <th>table</th>\n",
       "      <th>x</th>\n",
       "      <th>y</th>\n",
       "      <th>z</th>\n",
       "      <th>price</th>\n",
       "    </tr>\n",
       "  </thead>\n",
       "  <tbody>\n",
       "    <tr>\n",
       "      <th>62</th>\n",
       "      <td>63</td>\n",
       "      <td>1.80</td>\n",
       "      <td>Very Good</td>\n",
       "      <td>E</td>\n",
       "      <td>SI1</td>\n",
       "      <td>62.2</td>\n",
       "      <td>57.0</td>\n",
       "      <td>7.81</td>\n",
       "      <td>7.89</td>\n",
       "      <td>4.88</td>\n",
       "      <td>17273</td>\n",
       "    </tr>\n",
       "    <tr>\n",
       "      <th>102</th>\n",
       "      <td>103</td>\n",
       "      <td>1.69</td>\n",
       "      <td>Ideal</td>\n",
       "      <td>F</td>\n",
       "      <td>VS2</td>\n",
       "      <td>62.2</td>\n",
       "      <td>57.0</td>\n",
       "      <td>7.59</td>\n",
       "      <td>7.66</td>\n",
       "      <td>4.74</td>\n",
       "      <td>16789</td>\n",
       "    </tr>\n",
       "    <tr>\n",
       "      <th>124</th>\n",
       "      <td>125</td>\n",
       "      <td>2.80</td>\n",
       "      <td>Premium</td>\n",
       "      <td>I</td>\n",
       "      <td>SI2</td>\n",
       "      <td>61.1</td>\n",
       "      <td>59.0</td>\n",
       "      <td>9.03</td>\n",
       "      <td>8.98</td>\n",
       "      <td>5.50</td>\n",
       "      <td>15030</td>\n",
       "    </tr>\n",
       "    <tr>\n",
       "      <th>130</th>\n",
       "      <td>131</td>\n",
       "      <td>1.56</td>\n",
       "      <td>Premium</td>\n",
       "      <td>G</td>\n",
       "      <td>VS2</td>\n",
       "      <td>61.9</td>\n",
       "      <td>58.0</td>\n",
       "      <td>7.44</td>\n",
       "      <td>7.40</td>\n",
       "      <td>4.59</td>\n",
       "      <td>13299</td>\n",
       "    </tr>\n",
       "    <tr>\n",
       "      <th>135</th>\n",
       "      <td>136</td>\n",
       "      <td>2.20</td>\n",
       "      <td>Ideal</td>\n",
       "      <td>G</td>\n",
       "      <td>SI2</td>\n",
       "      <td>59.9</td>\n",
       "      <td>57.0</td>\n",
       "      <td>8.54</td>\n",
       "      <td>8.49</td>\n",
       "      <td>5.10</td>\n",
       "      <td>14691</td>\n",
       "    </tr>\n",
       "    <tr>\n",
       "      <th>...</th>\n",
       "      <td>...</td>\n",
       "      <td>...</td>\n",
       "      <td>...</td>\n",
       "      <td>...</td>\n",
       "      <td>...</td>\n",
       "      <td>...</td>\n",
       "      <td>...</td>\n",
       "      <td>...</td>\n",
       "      <td>...</td>\n",
       "      <td>...</td>\n",
       "      <td>...</td>\n",
       "    </tr>\n",
       "    <tr>\n",
       "      <th>26898</th>\n",
       "      <td>26899</td>\n",
       "      <td>1.50</td>\n",
       "      <td>Good</td>\n",
       "      <td>G</td>\n",
       "      <td>VS2</td>\n",
       "      <td>61.4</td>\n",
       "      <td>58.8</td>\n",
       "      <td>7.32</td>\n",
       "      <td>7.37</td>\n",
       "      <td>4.50</td>\n",
       "      <td>13307</td>\n",
       "    </tr>\n",
       "    <tr>\n",
       "      <th>26907</th>\n",
       "      <td>26908</td>\n",
       "      <td>1.63</td>\n",
       "      <td>Very Good</td>\n",
       "      <td>G</td>\n",
       "      <td>VS1</td>\n",
       "      <td>62.5</td>\n",
       "      <td>60.0</td>\n",
       "      <td>7.43</td>\n",
       "      <td>7.51</td>\n",
       "      <td>4.67</td>\n",
       "      <td>14404</td>\n",
       "    </tr>\n",
       "    <tr>\n",
       "      <th>26924</th>\n",
       "      <td>26925</td>\n",
       "      <td>2.03</td>\n",
       "      <td>Good</td>\n",
       "      <td>H</td>\n",
       "      <td>SI2</td>\n",
       "      <td>59.6</td>\n",
       "      <td>61.0</td>\n",
       "      <td>8.16</td>\n",
       "      <td>8.21</td>\n",
       "      <td>4.88</td>\n",
       "      <td>14720</td>\n",
       "    </tr>\n",
       "    <tr>\n",
       "      <th>26934</th>\n",
       "      <td>26935</td>\n",
       "      <td>1.75</td>\n",
       "      <td>Ideal</td>\n",
       "      <td>I</td>\n",
       "      <td>SI1</td>\n",
       "      <td>61.8</td>\n",
       "      <td>56.0</td>\n",
       "      <td>7.67</td>\n",
       "      <td>7.71</td>\n",
       "      <td>4.75</td>\n",
       "      <td>13393</td>\n",
       "    </tr>\n",
       "    <tr>\n",
       "      <th>26957</th>\n",
       "      <td>26958</td>\n",
       "      <td>2.09</td>\n",
       "      <td>Premium</td>\n",
       "      <td>H</td>\n",
       "      <td>SI2</td>\n",
       "      <td>60.6</td>\n",
       "      <td>59.0</td>\n",
       "      <td>8.27</td>\n",
       "      <td>8.22</td>\n",
       "      <td>5.00</td>\n",
       "      <td>17805</td>\n",
       "    </tr>\n",
       "  </tbody>\n",
       "</table>\n",
       "<p>1314 rows × 11 columns</p>\n",
       "</div>"
      ],
      "text/plain": [
       "       Unnamed: 0  carat        cut color clarity  depth  table     x     y  \\\n",
       "62             63   1.80  Very Good     E     SI1   62.2   57.0  7.81  7.89   \n",
       "102           103   1.69      Ideal     F     VS2   62.2   57.0  7.59  7.66   \n",
       "124           125   2.80    Premium     I     SI2   61.1   59.0  9.03  8.98   \n",
       "130           131   1.56    Premium     G     VS2   61.9   58.0  7.44  7.40   \n",
       "135           136   2.20      Ideal     G     SI2   59.9   57.0  8.54  8.49   \n",
       "...           ...    ...        ...   ...     ...    ...    ...   ...   ...   \n",
       "26898       26899   1.50       Good     G     VS2   61.4   58.8  7.32  7.37   \n",
       "26907       26908   1.63  Very Good     G     VS1   62.5   60.0  7.43  7.51   \n",
       "26924       26925   2.03       Good     H     SI2   59.6   61.0  8.16  8.21   \n",
       "26934       26935   1.75      Ideal     I     SI1   61.8   56.0  7.67  7.71   \n",
       "26957       26958   2.09    Premium     H     SI2   60.6   59.0  8.27  8.22   \n",
       "\n",
       "          z  price  \n",
       "62     4.88  17273  \n",
       "102    4.74  16789  \n",
       "124    5.50  15030  \n",
       "130    4.59  13299  \n",
       "135    5.10  14691  \n",
       "...     ...    ...  \n",
       "26898  4.50  13307  \n",
       "26907  4.67  14404  \n",
       "26924  4.88  14720  \n",
       "26934  4.75  13393  \n",
       "26957  5.00  17805  \n",
       "\n",
       "[1314 rows x 11 columns]"
      ]
     },
     "execution_count": 66,
     "metadata": {},
     "output_type": "execute_result"
    }
   ],
   "source": [
    "dataset[dataset.price>max_threshold]"
   ]
  },
  {
   "cell_type": "code",
   "execution_count": 67,
   "metadata": {
    "colab": {
     "base_uri": "https://localhost:8080/"
    },
    "id": "GOQNwFF65eEH",
    "outputId": "8df59948-7adc-4c1d-a1ec-b8ba5adf64e8"
   },
   "outputs": [
    {
     "data": {
      "text/plain": [
       "18818"
      ]
     },
     "execution_count": 67,
     "metadata": {},
     "output_type": "execute_result"
    }
   ],
   "source": [
    "max(dataset.price)"
   ]
  },
  {
   "cell_type": "code",
   "execution_count": 68,
   "metadata": {
    "colab": {
     "base_uri": "https://localhost:8080/"
    },
    "id": "bOK8o79t6mxY",
    "outputId": "eaa65b70-5871-4c6a-d6cd-c465d2eee176"
   },
   "outputs": [
    {
     "data": {
      "text/plain": [
       "(24956, 11)"
      ]
     },
     "execution_count": 68,
     "metadata": {},
     "output_type": "execute_result"
    }
   ],
   "source": [
    "dataset=dataset[dataset.price<max_threshold]\n",
    "dataset.shape"
   ]
  },
  {
   "cell_type": "code",
   "execution_count": 69,
   "metadata": {
    "id": "YDbs8ITunDTl"
   },
   "outputs": [],
   "source": [
    "from sklearn.preprocessing import LabelEncoder\n",
    "\n",
    "labelencoder = LabelEncoder()\n",
    "dataset[\"cut\"]= labelencoder.fit_transform(dataset[\"cut\"])\n",
    "dataset[\"color\"]= labelencoder.fit_transform(dataset[\"color\"])\n",
    "dataset[\"clarity\"]= labelencoder.fit_transform(dataset[\"clarity\"])"
   ]
  },
  {
   "cell_type": "code",
   "execution_count": 70,
   "metadata": {
    "colab": {
     "base_uri": "https://localhost:8080/",
     "height": 423
    },
    "id": "eUcw8ntXoF9S",
    "outputId": "75f07cee-f02e-4195-a8ee-a74061e8e3ac"
   },
   "outputs": [
    {
     "data": {
      "text/html": [
       "<div>\n",
       "<style scoped>\n",
       "    .dataframe tbody tr th:only-of-type {\n",
       "        vertical-align: middle;\n",
       "    }\n",
       "\n",
       "    .dataframe tbody tr th {\n",
       "        vertical-align: top;\n",
       "    }\n",
       "\n",
       "    .dataframe thead th {\n",
       "        text-align: right;\n",
       "    }\n",
       "</style>\n",
       "<table border=\"1\" class=\"dataframe\">\n",
       "  <thead>\n",
       "    <tr style=\"text-align: right;\">\n",
       "      <th></th>\n",
       "      <th>Unnamed: 0</th>\n",
       "      <th>carat</th>\n",
       "      <th>cut</th>\n",
       "      <th>color</th>\n",
       "      <th>clarity</th>\n",
       "      <th>depth</th>\n",
       "      <th>table</th>\n",
       "      <th>x</th>\n",
       "      <th>y</th>\n",
       "      <th>z</th>\n",
       "      <th>price</th>\n",
       "    </tr>\n",
       "  </thead>\n",
       "  <tbody>\n",
       "    <tr>\n",
       "      <th>0</th>\n",
       "      <td>1</td>\n",
       "      <td>0.30</td>\n",
       "      <td>2</td>\n",
       "      <td>1</td>\n",
       "      <td>2</td>\n",
       "      <td>62.1</td>\n",
       "      <td>58.0</td>\n",
       "      <td>4.27</td>\n",
       "      <td>4.29</td>\n",
       "      <td>2.66</td>\n",
       "      <td>499</td>\n",
       "    </tr>\n",
       "    <tr>\n",
       "      <th>1</th>\n",
       "      <td>2</td>\n",
       "      <td>0.33</td>\n",
       "      <td>3</td>\n",
       "      <td>3</td>\n",
       "      <td>1</td>\n",
       "      <td>60.8</td>\n",
       "      <td>58.0</td>\n",
       "      <td>4.42</td>\n",
       "      <td>4.46</td>\n",
       "      <td>2.70</td>\n",
       "      <td>984</td>\n",
       "    </tr>\n",
       "    <tr>\n",
       "      <th>2</th>\n",
       "      <td>3</td>\n",
       "      <td>0.90</td>\n",
       "      <td>4</td>\n",
       "      <td>1</td>\n",
       "      <td>7</td>\n",
       "      <td>62.2</td>\n",
       "      <td>60.0</td>\n",
       "      <td>6.04</td>\n",
       "      <td>6.12</td>\n",
       "      <td>3.78</td>\n",
       "      <td>6289</td>\n",
       "    </tr>\n",
       "    <tr>\n",
       "      <th>3</th>\n",
       "      <td>4</td>\n",
       "      <td>0.42</td>\n",
       "      <td>2</td>\n",
       "      <td>2</td>\n",
       "      <td>4</td>\n",
       "      <td>61.6</td>\n",
       "      <td>56.0</td>\n",
       "      <td>4.82</td>\n",
       "      <td>4.80</td>\n",
       "      <td>2.96</td>\n",
       "      <td>1082</td>\n",
       "    </tr>\n",
       "    <tr>\n",
       "      <th>4</th>\n",
       "      <td>5</td>\n",
       "      <td>0.31</td>\n",
       "      <td>2</td>\n",
       "      <td>2</td>\n",
       "      <td>6</td>\n",
       "      <td>60.4</td>\n",
       "      <td>59.0</td>\n",
       "      <td>4.35</td>\n",
       "      <td>4.43</td>\n",
       "      <td>2.65</td>\n",
       "      <td>779</td>\n",
       "    </tr>\n",
       "    <tr>\n",
       "      <th>...</th>\n",
       "      <td>...</td>\n",
       "      <td>...</td>\n",
       "      <td>...</td>\n",
       "      <td>...</td>\n",
       "      <td>...</td>\n",
       "      <td>...</td>\n",
       "      <td>...</td>\n",
       "      <td>...</td>\n",
       "      <td>...</td>\n",
       "      <td>...</td>\n",
       "      <td>...</td>\n",
       "    </tr>\n",
       "    <tr>\n",
       "      <th>26962</th>\n",
       "      <td>26963</td>\n",
       "      <td>1.11</td>\n",
       "      <td>3</td>\n",
       "      <td>3</td>\n",
       "      <td>2</td>\n",
       "      <td>62.3</td>\n",
       "      <td>58.0</td>\n",
       "      <td>6.61</td>\n",
       "      <td>6.52</td>\n",
       "      <td>4.09</td>\n",
       "      <td>5408</td>\n",
       "    </tr>\n",
       "    <tr>\n",
       "      <th>26963</th>\n",
       "      <td>26964</td>\n",
       "      <td>0.33</td>\n",
       "      <td>2</td>\n",
       "      <td>4</td>\n",
       "      <td>1</td>\n",
       "      <td>61.9</td>\n",
       "      <td>55.0</td>\n",
       "      <td>4.44</td>\n",
       "      <td>4.42</td>\n",
       "      <td>2.74</td>\n",
       "      <td>1114</td>\n",
       "    </tr>\n",
       "    <tr>\n",
       "      <th>26964</th>\n",
       "      <td>26965</td>\n",
       "      <td>0.51</td>\n",
       "      <td>3</td>\n",
       "      <td>1</td>\n",
       "      <td>5</td>\n",
       "      <td>61.7</td>\n",
       "      <td>58.0</td>\n",
       "      <td>5.12</td>\n",
       "      <td>5.15</td>\n",
       "      <td>3.17</td>\n",
       "      <td>1656</td>\n",
       "    </tr>\n",
       "    <tr>\n",
       "      <th>26965</th>\n",
       "      <td>26966</td>\n",
       "      <td>0.27</td>\n",
       "      <td>4</td>\n",
       "      <td>2</td>\n",
       "      <td>7</td>\n",
       "      <td>61.8</td>\n",
       "      <td>56.0</td>\n",
       "      <td>4.19</td>\n",
       "      <td>4.20</td>\n",
       "      <td>2.60</td>\n",
       "      <td>682</td>\n",
       "    </tr>\n",
       "    <tr>\n",
       "      <th>26966</th>\n",
       "      <td>26967</td>\n",
       "      <td>1.25</td>\n",
       "      <td>3</td>\n",
       "      <td>6</td>\n",
       "      <td>2</td>\n",
       "      <td>62.0</td>\n",
       "      <td>58.0</td>\n",
       "      <td>6.90</td>\n",
       "      <td>6.88</td>\n",
       "      <td>4.27</td>\n",
       "      <td>5166</td>\n",
       "    </tr>\n",
       "  </tbody>\n",
       "</table>\n",
       "<p>24956 rows × 11 columns</p>\n",
       "</div>"
      ],
      "text/plain": [
       "       Unnamed: 0  carat  cut  color  clarity  depth  table     x     y     z  \\\n",
       "0               1   0.30    2      1        2   62.1   58.0  4.27  4.29  2.66   \n",
       "1               2   0.33    3      3        1   60.8   58.0  4.42  4.46  2.70   \n",
       "2               3   0.90    4      1        7   62.2   60.0  6.04  6.12  3.78   \n",
       "3               4   0.42    2      2        4   61.6   56.0  4.82  4.80  2.96   \n",
       "4               5   0.31    2      2        6   60.4   59.0  4.35  4.43  2.65   \n",
       "...           ...    ...  ...    ...      ...    ...    ...   ...   ...   ...   \n",
       "26962       26963   1.11    3      3        2   62.3   58.0  6.61  6.52  4.09   \n",
       "26963       26964   0.33    2      4        1   61.9   55.0  4.44  4.42  2.74   \n",
       "26964       26965   0.51    3      1        5   61.7   58.0  5.12  5.15  3.17   \n",
       "26965       26966   0.27    4      2        7   61.8   56.0  4.19  4.20  2.60   \n",
       "26966       26967   1.25    3      6        2   62.0   58.0  6.90  6.88  4.27   \n",
       "\n",
       "       price  \n",
       "0        499  \n",
       "1        984  \n",
       "2       6289  \n",
       "3       1082  \n",
       "4        779  \n",
       "...      ...  \n",
       "26962   5408  \n",
       "26963   1114  \n",
       "26964   1656  \n",
       "26965    682  \n",
       "26966   5166  \n",
       "\n",
       "[24956 rows x 11 columns]"
      ]
     },
     "execution_count": 70,
     "metadata": {},
     "output_type": "execute_result"
    }
   ],
   "source": [
    "dataset"
   ]
  },
  {
   "cell_type": "code",
   "execution_count": 71,
   "metadata": {
    "id": "JRbGBhSzkfwo"
   },
   "outputs": [],
   "source": [
    "# Dividing the dataset into independant and dependant variables\n",
    "#X=pd.DataFrame(columns=['longitude','latitude','housing_median_age','total_rooms','total_bedrooms','population','households','median_income','ocean_proximity'],data=dataset)\n",
    "#y=pd.DataFrame(columns=['median_house_value'],data=dataset)"
   ]
  },
  {
   "cell_type": "code",
   "execution_count": 72,
   "metadata": {
    "id": "KL2JDui8aCC5"
   },
   "outputs": [],
   "source": [
    "#Creating the dummy values for ocean_proximity\n",
    "\n",
    "#X = pd.get_dummies(data = X, columns = ['ocean_proximity'] , prefix = ['ocean_proximity'] , drop_first = True)"
   ]
  },
  {
   "cell_type": "code",
   "execution_count": 73,
   "metadata": {
    "id": "iR3G6eE7aKZs"
   },
   "outputs": [],
   "source": [
    "#X"
   ]
  },
  {
   "cell_type": "code",
   "execution_count": 74,
   "metadata": {
    "id": "H7XW27AqcDHt"
   },
   "outputs": [],
   "source": [
    "#define the features and the labels, X and y\n",
    "X = dataset.drop(['price'], axis=1)\n",
    "y = dataset['price']"
   ]
  },
  {
   "cell_type": "code",
   "execution_count": 75,
   "metadata": {
    "colab": {
     "base_uri": "https://localhost:8080/",
     "height": 423
    },
    "id": "XW9Yj9S9a0Hn",
    "outputId": "d9470efc-f300-43ed-9ce2-ab7522ee9d36"
   },
   "outputs": [
    {
     "data": {
      "text/html": [
       "<div>\n",
       "<style scoped>\n",
       "    .dataframe tbody tr th:only-of-type {\n",
       "        vertical-align: middle;\n",
       "    }\n",
       "\n",
       "    .dataframe tbody tr th {\n",
       "        vertical-align: top;\n",
       "    }\n",
       "\n",
       "    .dataframe thead th {\n",
       "        text-align: right;\n",
       "    }\n",
       "</style>\n",
       "<table border=\"1\" class=\"dataframe\">\n",
       "  <thead>\n",
       "    <tr style=\"text-align: right;\">\n",
       "      <th></th>\n",
       "      <th>Unnamed: 0</th>\n",
       "      <th>carat</th>\n",
       "      <th>cut</th>\n",
       "      <th>color</th>\n",
       "      <th>clarity</th>\n",
       "      <th>depth</th>\n",
       "      <th>table</th>\n",
       "      <th>x</th>\n",
       "      <th>y</th>\n",
       "      <th>z</th>\n",
       "    </tr>\n",
       "  </thead>\n",
       "  <tbody>\n",
       "    <tr>\n",
       "      <th>0</th>\n",
       "      <td>1</td>\n",
       "      <td>0.30</td>\n",
       "      <td>2</td>\n",
       "      <td>1</td>\n",
       "      <td>2</td>\n",
       "      <td>62.1</td>\n",
       "      <td>58.0</td>\n",
       "      <td>4.27</td>\n",
       "      <td>4.29</td>\n",
       "      <td>2.66</td>\n",
       "    </tr>\n",
       "    <tr>\n",
       "      <th>1</th>\n",
       "      <td>2</td>\n",
       "      <td>0.33</td>\n",
       "      <td>3</td>\n",
       "      <td>3</td>\n",
       "      <td>1</td>\n",
       "      <td>60.8</td>\n",
       "      <td>58.0</td>\n",
       "      <td>4.42</td>\n",
       "      <td>4.46</td>\n",
       "      <td>2.70</td>\n",
       "    </tr>\n",
       "    <tr>\n",
       "      <th>2</th>\n",
       "      <td>3</td>\n",
       "      <td>0.90</td>\n",
       "      <td>4</td>\n",
       "      <td>1</td>\n",
       "      <td>7</td>\n",
       "      <td>62.2</td>\n",
       "      <td>60.0</td>\n",
       "      <td>6.04</td>\n",
       "      <td>6.12</td>\n",
       "      <td>3.78</td>\n",
       "    </tr>\n",
       "    <tr>\n",
       "      <th>3</th>\n",
       "      <td>4</td>\n",
       "      <td>0.42</td>\n",
       "      <td>2</td>\n",
       "      <td>2</td>\n",
       "      <td>4</td>\n",
       "      <td>61.6</td>\n",
       "      <td>56.0</td>\n",
       "      <td>4.82</td>\n",
       "      <td>4.80</td>\n",
       "      <td>2.96</td>\n",
       "    </tr>\n",
       "    <tr>\n",
       "      <th>4</th>\n",
       "      <td>5</td>\n",
       "      <td>0.31</td>\n",
       "      <td>2</td>\n",
       "      <td>2</td>\n",
       "      <td>6</td>\n",
       "      <td>60.4</td>\n",
       "      <td>59.0</td>\n",
       "      <td>4.35</td>\n",
       "      <td>4.43</td>\n",
       "      <td>2.65</td>\n",
       "    </tr>\n",
       "    <tr>\n",
       "      <th>...</th>\n",
       "      <td>...</td>\n",
       "      <td>...</td>\n",
       "      <td>...</td>\n",
       "      <td>...</td>\n",
       "      <td>...</td>\n",
       "      <td>...</td>\n",
       "      <td>...</td>\n",
       "      <td>...</td>\n",
       "      <td>...</td>\n",
       "      <td>...</td>\n",
       "    </tr>\n",
       "    <tr>\n",
       "      <th>26962</th>\n",
       "      <td>26963</td>\n",
       "      <td>1.11</td>\n",
       "      <td>3</td>\n",
       "      <td>3</td>\n",
       "      <td>2</td>\n",
       "      <td>62.3</td>\n",
       "      <td>58.0</td>\n",
       "      <td>6.61</td>\n",
       "      <td>6.52</td>\n",
       "      <td>4.09</td>\n",
       "    </tr>\n",
       "    <tr>\n",
       "      <th>26963</th>\n",
       "      <td>26964</td>\n",
       "      <td>0.33</td>\n",
       "      <td>2</td>\n",
       "      <td>4</td>\n",
       "      <td>1</td>\n",
       "      <td>61.9</td>\n",
       "      <td>55.0</td>\n",
       "      <td>4.44</td>\n",
       "      <td>4.42</td>\n",
       "      <td>2.74</td>\n",
       "    </tr>\n",
       "    <tr>\n",
       "      <th>26964</th>\n",
       "      <td>26965</td>\n",
       "      <td>0.51</td>\n",
       "      <td>3</td>\n",
       "      <td>1</td>\n",
       "      <td>5</td>\n",
       "      <td>61.7</td>\n",
       "      <td>58.0</td>\n",
       "      <td>5.12</td>\n",
       "      <td>5.15</td>\n",
       "      <td>3.17</td>\n",
       "    </tr>\n",
       "    <tr>\n",
       "      <th>26965</th>\n",
       "      <td>26966</td>\n",
       "      <td>0.27</td>\n",
       "      <td>4</td>\n",
       "      <td>2</td>\n",
       "      <td>7</td>\n",
       "      <td>61.8</td>\n",
       "      <td>56.0</td>\n",
       "      <td>4.19</td>\n",
       "      <td>4.20</td>\n",
       "      <td>2.60</td>\n",
       "    </tr>\n",
       "    <tr>\n",
       "      <th>26966</th>\n",
       "      <td>26967</td>\n",
       "      <td>1.25</td>\n",
       "      <td>3</td>\n",
       "      <td>6</td>\n",
       "      <td>2</td>\n",
       "      <td>62.0</td>\n",
       "      <td>58.0</td>\n",
       "      <td>6.90</td>\n",
       "      <td>6.88</td>\n",
       "      <td>4.27</td>\n",
       "    </tr>\n",
       "  </tbody>\n",
       "</table>\n",
       "<p>24956 rows × 10 columns</p>\n",
       "</div>"
      ],
      "text/plain": [
       "       Unnamed: 0  carat  cut  color  clarity  depth  table     x     y     z\n",
       "0               1   0.30    2      1        2   62.1   58.0  4.27  4.29  2.66\n",
       "1               2   0.33    3      3        1   60.8   58.0  4.42  4.46  2.70\n",
       "2               3   0.90    4      1        7   62.2   60.0  6.04  6.12  3.78\n",
       "3               4   0.42    2      2        4   61.6   56.0  4.82  4.80  2.96\n",
       "4               5   0.31    2      2        6   60.4   59.0  4.35  4.43  2.65\n",
       "...           ...    ...  ...    ...      ...    ...    ...   ...   ...   ...\n",
       "26962       26963   1.11    3      3        2   62.3   58.0  6.61  6.52  4.09\n",
       "26963       26964   0.33    2      4        1   61.9   55.0  4.44  4.42  2.74\n",
       "26964       26965   0.51    3      1        5   61.7   58.0  5.12  5.15  3.17\n",
       "26965       26966   0.27    4      2        7   61.8   56.0  4.19  4.20  2.60\n",
       "26966       26967   1.25    3      6        2   62.0   58.0  6.90  6.88  4.27\n",
       "\n",
       "[24956 rows x 10 columns]"
      ]
     },
     "execution_count": 75,
     "metadata": {},
     "output_type": "execute_result"
    }
   ],
   "source": [
    "X"
   ]
  },
  {
   "cell_type": "code",
   "execution_count": 76,
   "metadata": {
    "colab": {
     "base_uri": "https://localhost:8080/",
     "height": 806
    },
    "id": "LefmRGwmh4RF",
    "outputId": "24e4e48c-8a88-45b4-e64d-5f2bb755c6b8"
   },
   "outputs": [
    {
     "data": {
      "text/plain": [
       "<Axes: >"
      ]
     },
     "execution_count": 76,
     "metadata": {},
     "output_type": "execute_result"
    },
    {
     "data": {
      "image/png": "[encoded data removed]",
      "text/plain": [
       "<Figure size 2000x1000 with 1 Axes>"
      ]
     },
     "metadata": {},
     "output_type": "display_data"
    }
   ],
   "source": [
    "plt.figure(figsize=(20,10))\n",
    "sns.boxplot(X)"
   ]
  },
  {
   "cell_type": "code",
   "execution_count": 77,
   "metadata": {
    "colab": {
     "base_uri": "https://localhost:8080/"
    },
    "id": "bLxzP0dOcS5E",
    "outputId": "4286eb73-df68-408f-d640-27cef69b2ee0"
   },
   "outputs": [
    {
     "data": {
      "text/plain": [
       "0         499\n",
       "1         984\n",
       "2        6289\n",
       "3        1082\n",
       "4         779\n",
       "         ... \n",
       "26962    5408\n",
       "26963    1114\n",
       "26964    1656\n",
       "26965     682\n",
       "26966    5166\n",
       "Name: price, Length: 24956, dtype: int64"
      ]
     },
     "execution_count": 77,
     "metadata": {},
     "output_type": "execute_result"
    }
   ],
   "source": [
    "y"
   ]
  },
  {
   "cell_type": "code",
   "execution_count": 78,
   "metadata": {
    "colab": {
     "base_uri": "https://localhost:8080/",
     "height": 848
    },
    "id": "lM-TIPStiSHE",
    "outputId": "e94936e1-377a-4a92-f841-956b7b04b511"
   },
   "outputs": [
    {
     "data": {
      "text/plain": [
       "<Axes: >"
      ]
     },
     "execution_count": 78,
     "metadata": {},
     "output_type": "execute_result"
    },
    {
     "data": {
      "image/png": "[encoded data removed]",
      "text/plain": [
       "<Figure size 1600x1000 with 1 Axes>"
      ]
     },
     "metadata": {},
     "output_type": "display_data"
    }
   ],
   "source": [
    "plt.figure(figsize=(16,10))\n",
    "sns.boxplot(y)"
   ]
  },
  {
   "cell_type": "code",
   "execution_count": 79,
   "metadata": {
    "id": "AqWBmGw3WBsI"
   },
   "outputs": [],
   "source": [
    "#Creating the dummy values for ocean_proximity\n",
    "\n",
    "#X = pd.get_dummies(data = X, columns = ['cut','color','clarity'] , prefix = ['cut','color','clarity'] , drop_first = True)\n",
    "#X"
   ]
  },
  {
   "cell_type": "code",
   "execution_count": 80,
   "metadata": {
    "colab": {
     "base_uri": "https://localhost:8080/",
     "height": 1000
    },
    "id": "H-e8Rz7Gj8iM",
    "outputId": "feced2de-7263-4ade-b95d-69aa6ae2228b"
   },
   "outputs": [
    {
     "data": {
      "image/png": "[encoded data removed]",
      "text/plain": [
       "<Figure size 1600x1600 with 10 Axes>"
      ]
     },
     "metadata": {},
     "output_type": "display_data"
    }
   ],
   "source": [
    "# visiualize all variables  with median_house_priceprice)\n",
    "from scipy import stats\n",
    "#creates figure\n",
    "plt.figure(figsize=(16, 16))\n",
    "\n",
    "for i, col in enumerate(X.columns[:]): #iterates over all columns except for price column (last one)\n",
    "    plt.subplot(5, 3, i+1) # each row three figure\n",
    "    x = X[col] #x-axis\n",
    "    y = y #y-axis\n",
    "    plt.xlabel(col)\n",
    "    plt.ylabel('price')\n",
    "    plt.plot(x, y, 'o')\n"
   ]
  },
  {
   "cell_type": "code",
   "execution_count": 81,
   "metadata": {
    "id": "ruMvQJIayS4u"
   },
   "outputs": [],
   "source": [
    "#min_threshold,max_threshold=dataset.median_house_value"
   ]
  },
  {
   "cell_type": "code",
   "execution_count": 82,
   "metadata": {
    "colab": {
     "base_uri": "https://localhost:8080/"
    },
    "id": "QM9igQKzlqgY",
    "outputId": "b34eb12f-4e6e-4dab-d1e9-39f7f35d8360"
   },
   "outputs": [
    {
     "name": "stdout",
     "output_type": "stream",
     "text": [
      "the shape of the inputs x is: (24956, 10)\n",
      "the shape of the targets y is: (24956,)\n"
     ]
    }
   ],
   "source": [
    "print(f\"the shape of the inputs x is: {X.shape}\")\n",
    "print(f\"the shape of the targets y is: {y.shape}\")"
   ]
  },
  {
   "cell_type": "code",
   "execution_count": 83,
   "metadata": {
    "colab": {
     "base_uri": "https://localhost:8080/"
    },
    "id": "x6OYCWo0l6hU",
    "outputId": "2eae8e06-2811-4ff8-ef9e-d3abdf27a1c8"
   },
   "outputs": [
    {
     "data": {
      "text/plain": [
       "pandas.core.series.Series"
      ]
     },
     "execution_count": 83,
     "metadata": {},
     "output_type": "execute_result"
    }
   ],
   "source": [
    "type(y)"
   ]
  },
  {
   "cell_type": "code",
   "execution_count": 84,
   "metadata": {
    "colab": {
     "base_uri": "https://localhost:8080/"
    },
    "id": "Jx_m5S5jl8gP",
    "outputId": "6f5fdca8-9406-453a-f2e4-df9e2f871610"
   },
   "outputs": [
    {
     "data": {
      "text/plain": [
       "pandas.core.frame.DataFrame"
      ]
     },
     "execution_count": 84,
     "metadata": {},
     "output_type": "execute_result"
    }
   ],
   "source": [
    "type(X)"
   ]
  },
  {
   "cell_type": "code",
   "execution_count": 85,
   "metadata": {
    "colab": {
     "base_uri": "https://localhost:8080/"
    },
    "id": "NJkqDGQsmPXj",
    "outputId": "5ed8f4b2-1700-4510-927f-afea7782305e"
   },
   "outputs": [
    {
     "name": "stdout",
     "output_type": "stream",
     "text": [
      "the shape of the training set (input) is: (17469, 10)\n",
      "the shape of the training set (target) is: (17469,)\n",
      "\n",
      "the shape of the cross validation set (input) is: (3743, 10)\n",
      "the shape of the cross validation set (target) is: (3743,)\n",
      "\n",
      "the shape of the test set (input) is: (3744, 10)\n",
      "the shape of the test set (target) is: (3744,)\n"
     ]
    }
   ],
   "source": [
    "from sklearn.model_selection import train_test_split\n",
    "# Get 70% of the dataset as the training set. Put the remaining 30% in temporary variables: x_ and y_.\n",
    "X_train, X_, y_train, y_ = train_test_split(X, y, test_size=0.30, random_state=1)\n",
    "\n",
    "# Split the 30% subset above into two: one half for cross validation and the other for the test set\n",
    "X_cv, X_test, y_cv, y_test = train_test_split(X_, y_, test_size=0.50, random_state=1)\n",
    "\n",
    "# Delete temporary variables\n",
    "#del X_, y_\n",
    "\n",
    "print(f\"the shape of the training set (input) is: {X_train.shape}\")\n",
    "print(f\"the shape of the training set (target) is: {y_train.shape}\\n\")\n",
    "print(f\"the shape of the cross validation set (input) is: {X_cv.shape}\")\n",
    "print(f\"the shape of the cross validation set (target) is: {y_cv.shape}\\n\")\n",
    "print(f\"the shape of the test set (input) is: {X_test.shape}\")\n",
    "print(f\"the shape of the test set (target) is: {y_test.shape}\")"
   ]
  },
  {
   "cell_type": "code",
   "execution_count": 86,
   "metadata": {
    "colab": {
     "base_uri": "https://localhost:8080/"
    },
    "id": "HMEkXodHnLTs",
    "outputId": "954a7835-7610-4963-899e-d257d02b60da"
   },
   "outputs": [
    {
     "data": {
      "text/plain": [
       "(7487, 10)"
      ]
     },
     "execution_count": 86,
     "metadata": {},
     "output_type": "execute_result"
    }
   ],
   "source": [
    "X_.shape"
   ]
  },
  {
   "cell_type": "code",
   "execution_count": 87,
   "metadata": {
    "colab": {
     "base_uri": "https://localhost:8080/"
    },
    "id": "t_eLbhgIjy-D",
    "outputId": "f0e4b2c2-26cc-496f-9314-bb6f1254a5a6"
   },
   "outputs": [
    {
     "data": {
      "text/plain": [
       "(17469,)"
      ]
     },
     "execution_count": 87,
     "metadata": {},
     "output_type": "execute_result"
    }
   ],
   "source": [
    "y_train.shape"
   ]
  },
  {
   "cell_type": "code",
   "execution_count": 88,
   "metadata": {
    "id": "V0R0KeSnY1b5"
   },
   "outputs": [],
   "source": [
    "import numpy as np\n",
    "y_train = np.expand_dims(y_train, axis=-1)\n",
    "y_ = np.expand_dims(y_, axis=-1)\n",
    "y_test = np.expand_dims(y_test, axis=-1)\n",
    "y_cv = np.expand_dims(y_cv, axis=-1)"
   ]
  },
  {
   "cell_type": "code",
   "execution_count": 89,
   "metadata": {
    "id": "yM272KONnP49"
   },
   "outputs": [],
   "source": [
    "#Feature Standardization\n",
    "\n",
    "from sklearn.preprocessing import StandardScaler\n",
    "\n",
    "# Initialize the class\n",
    "scaler = StandardScaler()\n",
    "\n",
    "# Compute the mean and standard deviation of the training set,cv set,test set then transform it\n",
    "X_train = scaler.fit_transform(X_train)\n",
    "X_cv = scaler.fit_transform(X_cv)\n",
    "X_test = scaler.transform(X_test)\n",
    "X_ = scaler.transform(X_)\n",
    "y_train = scaler.fit_transform(y_train)\n",
    "y_cv = scaler.fit_transform(y_cv)\n",
    "y_test = scaler.transform(y_test)\n",
    "y_ = scaler.transform(y_)"
   ]
  },
  {
   "cell_type": "code",
   "execution_count": 90,
   "metadata": {
    "id": "gPp1USTE2dM3"
   },
   "outputs": [],
   "source": [
    "import pandas as pd\n",
    "import numpy as np\n",
    "\n",
    "# Define the function to return the SMAPE value\n",
    "def calculate_smape(actual, predicted) -> float:\n",
    "\n",
    "\t# Convert actual and predicted to numpy\n",
    "\t# array data type if not already\n",
    "\tif not all([isinstance(actual, np.ndarray),\n",
    "\t\t\t\tisinstance(predicted, np.ndarray)]):\n",
    "\t\tactual, predicted = np.array(actual),np.array(predicted)\n",
    "\n",
    "\treturn round(\n",
    "\t\tnp.mean(\n",
    "\t\t\tnp.abs(predicted - actual) /\n",
    "\t\t\t((np.abs(predicted) + np.abs(actual))/2)\n",
    "\t\t)*100, 2\n",
    "\t)\n"
   ]
  },
  {
   "cell_type": "markdown",
   "metadata": {
    "id": "5E40HVW-njr7"
   },
   "source": [
    "## Linear regression"
   ]
  },
  {
   "cell_type": "code",
   "execution_count": 91,
   "metadata": {
    "id": "YxsQveJuniyU"
   },
   "outputs": [],
   "source": [
    "from sklearn.linear_model import LinearRegression\n",
    "import time"
   ]
  },
  {
   "cell_type": "code",
   "execution_count": 92,
   "metadata": {
    "id": "Wj67FQIXoD8Y"
   },
   "outputs": [],
   "source": [
    "X_test_new=X_\n",
    "y_test_new=y_"
   ]
  },
  {
   "cell_type": "code",
   "execution_count": 93,
   "metadata": {
    "colab": {
     "base_uri": "https://localhost:8080/"
    },
    "id": "0poEVtfBnyJV",
    "outputId": "4fac18e6-9b39-433b-f28c-4bf7a6d2c6fd"
   },
   "outputs": [
    {
     "name": "stdout",
     "output_type": "stream",
     "text": [
      "(17469, 10)\n",
      "(17469, 1)\n"
     ]
    }
   ],
   "source": [
    "X_train_array = np.asarray(X_train)\n",
    "y_train_array   = np.asarray(y_train)\n",
    "X_test_new_array = np.asarray(X_test_new)\n",
    "y_test_new_array   = np.asarray(y_test_new)\n",
    "print(X_train_array.shape)\n",
    "print(y_train_array.shape)"
   ]
  },
  {
   "cell_type": "code",
   "execution_count": 94,
   "metadata": {
    "colab": {
     "base_uri": "https://localhost:8080/"
    },
    "id": "RIJ2j8i4oXLl",
    "outputId": "4b365624-e6b1-4965-8a1b-9817926db0a2"
   },
   "outputs": [
    {
     "name": "stdout",
     "output_type": "stream",
     "text": [
      "Training time: 0.09427285194396973\n"
     ]
    }
   ],
   "source": [
    "lm = LinearRegression()\n",
    "t0 = time.time()\n",
    "lm.fit(X_train, y_train)\n",
    "print(\"Training time:\", time.time()-t0)"
   ]
  },
  {
   "cell_type": "code",
   "execution_count": 95,
   "metadata": {
    "colab": {
     "base_uri": "https://localhost:8080/"
    },
    "id": "5xDnCZIIofaW",
    "outputId": "2110c66a-9d49-46b4-e2b2-2476d4d0e464"
   },
   "outputs": [
    {
     "data": {
      "text/plain": [
       "array([[-0.00325006,  1.18855983,  0.01771238, -0.11842864,  0.14438518,\n",
       "        -0.05765298, -0.05807235, -0.25426008,  0.00130947,  0.05763526]])"
      ]
     },
     "execution_count": 95,
     "metadata": {},
     "output_type": "execute_result"
    }
   ],
   "source": [
    "lm.coef_"
   ]
  },
  {
   "cell_type": "code",
   "execution_count": 96,
   "metadata": {
    "colab": {
     "base_uri": "https://localhost:8080/"
    },
    "id": "ACFGm_8uouTy",
    "outputId": "b39fd5c2-2203-4525-9d04-e692c1ea3467"
   },
   "outputs": [
    {
     "data": {
      "text/plain": [
       "0.8787557410101666"
      ]
     },
     "execution_count": 96,
     "metadata": {},
     "output_type": "execute_result"
    }
   ],
   "source": [
    "#values from 0 to 1\n",
    "#0 model explain None of the variability\n",
    "#1 model explain Entire of the variability\n",
    "lm.score(X_train,y_train)"
   ]
  },
  {
   "cell_type": "code",
   "execution_count": 97,
   "metadata": {
    "id": "F7trWOJAoyGD"
   },
   "outputs": [],
   "source": [
    "from sklearn.metrics import r2_score\n",
    "from sklearn.metrics import mean_squared_error"
   ]
  },
  {
   "cell_type": "code",
   "execution_count": 98,
   "metadata": {
    "colab": {
     "base_uri": "https://localhost:8080/"
    },
    "id": "4biEKURDo1nE",
    "outputId": "9cf3c745-1193-4948-99f5-8f85f02b1c69"
   },
   "outputs": [
    {
     "name": "stdout",
     "output_type": "stream",
     "text": [
      "The model performance for training set\n",
      "--------------------------------------\n",
      "MSE is 0.12124425898983332\n",
      "RMSE is 0.3482014632218442\n",
      "R2 score is 0.8787557410101666\n",
      "\n",
      "\n"
     ]
    }
   ],
   "source": [
    "# model evaluation for training set\n",
    "y_train_predict = lm.predict(X_train)\n",
    "mse = (mean_squared_error(y_train, y_train_predict))\n",
    "rmse=  np.sqrt(mse)\n",
    "r2 = r2_score(y_train, y_train_predict)\n",
    "#print(y_train_predict.shape)\n",
    "#mape = mape(y_train, y_train_predict)\n",
    "\n",
    "print(\"The model performance for training set\")\n",
    "print(\"--------------------------------------\")\n",
    "print('MSE is {}'.format(mse))\n",
    "print('RMSE is {}'.format(rmse))\n",
    "print('R2 score is {}'.format(r2))\n",
    "#print('MAPE score is {}'.format(mape))\n",
    "print(\"\\n\")"
   ]
  },
  {
   "cell_type": "code",
   "execution_count": 99,
   "metadata": {
    "colab": {
     "base_uri": "https://localhost:8080/"
    },
    "id": "Ebifp1S6pGbJ",
    "outputId": "02c1891d-ff42-42b8-e5f1-39cb6e01b4e2"
   },
   "outputs": [
    {
     "name": "stdout",
     "output_type": "stream",
     "text": [
      "The model performance for testing set\n",
      "--------------------------------------\n",
      "MSE is 0.11983416849781604\n",
      "RMSE is 0.3461707216068627\n",
      "R2 score is 0.8805136412749519\n",
      "SMAPE score is 42.81\n"
     ]
    }
   ],
   "source": [
    "# model evaluation for testing set\n",
    "y_test_predict = lm.predict(X_)\n",
    "mse = (mean_squared_error(y_, y_test_predict))\n",
    "rmse=  np.sqrt(mse)\n",
    "r2 = r2_score(y_, y_test_predict)\n",
    "#mape=mape(y_, y_test_predict)\n",
    "smape=calculate_smape(y_, y_test_predict)\n",
    "\n",
    "print(\"The model performance for testing set\")\n",
    "print(\"--------------------------------------\")\n",
    "print('MSE is {}'.format(mse))\n",
    "print('RMSE is {}'.format(rmse))\n",
    "print('R2 score is {}'.format(r2))\n",
    "print('SMAPE score is {}'.format(smape))"
   ]
  },
  {
   "cell_type": "code",
   "execution_count": 100,
   "metadata": {
    "colab": {
     "base_uri": "https://localhost:8080/"
    },
    "id": "QPYkYOTVtCi0",
    "outputId": "0ecfa6eb-964d-47d6-e417-381ab2f4170a"
   },
   "outputs": [
    {
     "name": "stdout",
     "output_type": "stream",
     "text": [
      "MAPE score is 0.8862661416478494\n"
     ]
    }
   ],
   "source": [
    "from sklearn.metrics import mean_absolute_percentage_error\n",
    "mape = mean_absolute_percentage_error(y_,y_test_predict)\n",
    "print('MAPE score is {}'.format(mape))"
   ]
  },
  {
   "cell_type": "markdown",
   "metadata": {
    "id": "GxljGWObpNYm"
   },
   "source": [
    "## Random forest"
   ]
  },
  {
   "cell_type": "code",
   "execution_count": 102,
   "metadata": {
    "colab": {
     "base_uri": "https://localhost:8080/"
    },
    "id": "R7ef0yc7pMhp",
    "outputId": "e5e7486f-9d12-48f5-8b7c-d4cf0ca928cd"
   },
   "outputs": [],
   "source": [
    "# Configure the model.\n",
    "#model= tfdf.keras.RandomForestModel(task = tfdf.keras.Task.REGRESSION,verbose=2)\n",
    "#t0 = time.time()\n",
    "\n",
    "# Train the model.\n",
    "#model.fit(X_train,y_train)\n",
    "#print(\"Training time:\", time.time()-t0)"
   ]
  },
  {
   "cell_type": "code",
   "execution_count": 103,
   "metadata": {},
   "outputs": [],
   "source": [
    "from sklearn.ensemble import RandomForestRegressor"
   ]
  },
  {
   "cell_type": "code",
   "execution_count": 104,
   "metadata": {},
   "outputs": [],
   "source": [
    "model_ran = RandomForestRegressor(random_state=0)"
   ]
  },
  {
   "cell_type": "code",
   "execution_count": 106,
   "metadata": {},
   "outputs": [
    {
     "name": "stdout",
     "output_type": "stream",
     "text": [
      "(17469,)\n"
     ]
    }
   ],
   "source": [
    "y_train_dim = np.squeeze(y_train, axis=-1)\n",
    "print(y_train_dim.shape)"
   ]
  },
  {
   "cell_type": "code",
   "execution_count": 107,
   "metadata": {},
   "outputs": [
    {
     "name": "stdout",
     "output_type": "stream",
     "text": [
      "Training time: 26.797444820404053\n"
     ]
    }
   ],
   "source": [
    "t0 = time.time()\n",
    "\n",
    "# Train the model.\n",
    "model_ran.fit(X_train,y_train_dim)\n",
    "print(\"Training time:\", time.time()-t0)"
   ]
  },
  {
   "cell_type": "code",
   "execution_count": 111,
   "metadata": {
    "colab": {
     "base_uri": "https://localhost:8080/"
    },
    "id": "XDZR1lH5pw4r",
    "outputId": "ebbd741e-78d2-4e8f-9333-5e72cecee346"
   },
   "outputs": [],
   "source": [
    "# Evaluate the model on the test dataset.\n",
    "#model_ran.compile(metrics=[\"mse\"])\n",
    "#evaluation = model_ran.evaluate(X_,y_, return_dict=True)\n",
    "\n",
    "#print(evaluation)\n",
    "#print()\n",
    "#print(f\"MSE: {evaluation['mse']}\")\n",
    "#print(f\"RMSE: {math.sqrt(evaluation['mse'])}\")"
   ]
  },
  {
   "cell_type": "code",
   "execution_count": 112,
   "metadata": {
    "colab": {
     "base_uri": "https://localhost:8080/"
    },
    "id": "dg3dYcLHrHX6",
    "outputId": "7109e47c-f8a1-45f4-f4f5-a076d325b851"
   },
   "outputs": [
    {
     "name": "stdout",
     "output_type": "stream",
     "text": [
      "The model performance for testing set\n",
      "--------------------------------------\n",
      "MSE is 0.023562003366162904\n",
      "RMSE is 0.15349919663035017\n",
      "R2 score is 0.9765063835984189\n",
      "SMAPE score is 128.17\n"
     ]
    }
   ],
   "source": [
    "# model evaluation for testing set\n",
    "y_test_predict = model_ran.predict(X_)\n",
    "mse = (mean_squared_error(y_, y_test_predict))\n",
    "rmse=  np.sqrt(mse)\n",
    "r2 = r2_score(y_, y_test_predict)\n",
    "smape=calculate_smape(y_, y_test_predict)\n",
    "\n",
    "print(\"The model performance for testing set\")\n",
    "print(\"--------------------------------------\")\n",
    "print('MSE is {}'.format(mse))\n",
    "print('RMSE is {}'.format(rmse))\n",
    "print('R2 score is {}'.format(r2))\n",
    "print('SMAPE score is {}'.format(smape))"
   ]
  },
  {
   "cell_type": "code",
   "execution_count": 113,
   "metadata": {
    "colab": {
     "base_uri": "https://localhost:8080/"
    },
    "id": "XO9XDQ3st0Ug",
    "outputId": "06780eb4-7314-4a2f-aef6-ab7f00dea183"
   },
   "outputs": [
    {
     "name": "stdout",
     "output_type": "stream",
     "text": [
      "MAPE score is 0.359655488142916\n"
     ]
    }
   ],
   "source": [
    "from sklearn.metrics import mean_absolute_percentage_error\n",
    "mape = mean_absolute_percentage_error(y_,y_test_predict)\n",
    "print('MAPE score is {}'.format(mape))"
   ]
  },
  {
   "cell_type": "markdown",
   "metadata": {
    "id": "uhA6pphcqIzd"
   },
   "source": [
    "## XGBOOST"
   ]
  },
  {
   "cell_type": "code",
   "execution_count": 116,
   "metadata": {
    "colab": {
     "base_uri": "https://localhost:8080/"
    },
    "id": "iwBnq2ylqL6N",
    "outputId": "8f62469d-ba1f-4c61-bdbe-b0e60a2c278b"
   },
   "outputs": [],
   "source": [
    "#model_2 = tfdf.keras.GradientBoostedTreesModel(task = tfdf.keras.Task.REGRESSION,verbose=2)\n",
    "import xgboost as xgb"
   ]
  },
  {
   "cell_type": "code",
   "execution_count": 117,
   "metadata": {},
   "outputs": [],
   "source": [
    "xg_reg = xgb.XGBRegressor(objective='reg:squarederror', seed=123, n_estimators=10)"
   ]
  },
  {
   "cell_type": "code",
   "execution_count": 118,
   "metadata": {},
   "outputs": [
    {
     "name": "stdout",
     "output_type": "stream",
     "text": [
      "Training time: 0.8109402656555176\n",
      "RMSE: 0.165661\n"
     ]
    }
   ],
   "source": [
    "# Fit the regressor to the training set\n",
    "t0 = time.time()\n",
    "xg_reg.fit(X_train, y_train)\n",
    "print(\"Training time:\", time.time()-t0)\n",
    "# Predict the labels of the test set: preds\n",
    "preds = xg_reg.predict(X_test)\n",
    "\n",
    "# compute the rmse: rmse\n",
    "rmse = np.sqrt(mean_squared_error(y_test, preds))\n",
    "print(\"RMSE: %f\" % (rmse))"
   ]
  },
  {
   "cell_type": "code",
   "execution_count": 120,
   "metadata": {
    "colab": {
     "base_uri": "https://localhost:8080/"
    },
    "id": "nFCH-0sdqwEm",
    "outputId": "130d930a-d828-4b4c-9ee5-409ff55b7767"
   },
   "outputs": [],
   "source": [
    "#print(model_2.summary())"
   ]
  },
  {
   "cell_type": "code",
   "execution_count": 121,
   "metadata": {
    "colab": {
     "base_uri": "https://localhost:8080/"
    },
    "id": "2RrJuYNBq0xg",
    "outputId": "cb5d8115-93db-4dea-844a-f7dede34858e"
   },
   "outputs": [],
   "source": [
    "# Evaluate the model on the test dataset.\n",
    "#model_2.compile(metrics=[\"mse\"])\n",
    "#evaluation = model_2.evaluate(X_,y_, return_dict=True)\n",
    "\n",
    "#print(evaluation)\n",
    "#print()\n",
    "#print(f\"MSE: {evaluation['mse']}\")\n",
    "#print(f\"RMSE: {math.sqrt(evaluation['mse'])}\")"
   ]
  },
  {
   "cell_type": "code",
   "execution_count": 123,
   "metadata": {
    "colab": {
     "base_uri": "https://localhost:8080/"
    },
    "id": "NpKAy-EluI7q",
    "outputId": "0ce2222d-4e50-4954-d9f5-d45fa3e488af"
   },
   "outputs": [
    {
     "name": "stdout",
     "output_type": "stream",
     "text": [
      "The model performance for testing set\n",
      "--------------------------------------\n",
      "MSE is 0.027655787165966235\n",
      "RMSE is 0.16630029214035144\n",
      "R2 score is 0.9724244817020077\n",
      "SMAPE score is 128.55\n"
     ]
    }
   ],
   "source": [
    "# model evaluation for testing set\n",
    "y_test_predict = xg_reg.predict(X_)\n",
    "mse = (mean_squared_error(y_, y_test_predict))\n",
    "rmse=  np.sqrt(mse)\n",
    "r2 = r2_score(y_, y_test_predict)\n",
    "smape=calculate_smape(y_, y_test_predict)\n",
    "\n",
    "print(\"The model performance for testing set\")\n",
    "print(\"--------------------------------------\")\n",
    "print('MSE is {}'.format(mse))\n",
    "print('RMSE is {}'.format(rmse))\n",
    "print('R2 score is {}'.format(r2))\n",
    "print('SMAPE score is {}'.format(smape))"
   ]
  },
  {
   "cell_type": "code",
   "execution_count": 124,
   "metadata": {
    "colab": {
     "base_uri": "https://localhost:8080/"
    },
    "id": "qN2Hr7ZnuELG",
    "outputId": "b9081059-7bc6-41c0-febe-1d1480e45736"
   },
   "outputs": [
    {
     "name": "stdout",
     "output_type": "stream",
     "text": [
      "MAPE score is 0.4018792576963924\n"
     ]
    }
   ],
   "source": [
    "from sklearn.metrics import mean_absolute_percentage_error\n",
    "mape = mean_absolute_percentage_error(y_,y_test_predict)\n",
    "print('MAPE score is {}'.format(mape))"
   ]
  },
  {
   "cell_type": "markdown",
   "metadata": {},
   "source": [
    "# Guassian process regression"
   ]
  },
  {
   "cell_type": "code",
   "execution_count": 125,
   "metadata": {},
   "outputs": [],
   "source": [
    "from sklearn.gaussian_process import GaussianProcessRegressor\n",
    "from sklearn.gaussian_process.kernels import RBF\n",
    "  \n",
    "# create the squared exponential (RBF) kernel\n",
    "kernel = RBF()\n",
    "  \n",
    "# create the Gaussian process regressor with the RBF kernel\n",
    "gp = GaussianProcessRegressor(kernel=kernel)\n",
    "  "
   ]
  },
  {
   "cell_type": "code",
   "execution_count": null,
   "metadata": {},
   "outputs": [],
   "source": [
    "t0 = time.time()\n",
    "# fit the model to the data\n",
    "gp.fit(X_train, y_train)\n",
    "\n",
    "print(\"Training time:\", time.time()-t0)"
   ]
  },
  {
   "cell_type": "code",
   "execution_count": null,
   "metadata": {},
   "outputs": [],
   "source": [
    "# model evaluation for testing set\n",
    "y_test_predict = gp.predict(X_)\n",
    "mse = (mean_squared_error(y_, y_test_predict))\n",
    "rmse=  np.sqrt(mse)\n",
    "r2 = r2_score(y_, y_test_predict)\n",
    "#smape=calculate_smape(y_, y_test_predict)\n",
    "\n",
    "print(\"The model performance for testing set\")\n",
    "print(\"--------------------------------------\")\n",
    "print('MSE is {}'.format(mse))\n",
    "print('RMSE is {}'.format(rmse))\n",
    "print('R2 score is {}'.format(r2))\n",
    "#print('SMAPE score is {}'.format(smape))"
   ]
  },
  {
   "cell_type": "markdown",
   "metadata": {
    "id": "Tz_2jN3sXa9O"
   },
   "source": [
    "## Neural Network\n"
   ]
  },
  {
   "cell_type": "code",
   "execution_count": null,
   "metadata": {
    "id": "aRc7fiimXh2V"
   },
   "outputs": [],
   "source": [
    "from tensorflow.keras import Sequential\n",
    "from tensorflow.keras.layers import Dense\n",
    "from sklearn.metrics import mean_squared_error"
   ]
  },
  {
   "cell_type": "code",
   "execution_count": null,
   "metadata": {
    "id": "pWXZPqcTXdcd"
   },
   "outputs": [],
   "source": [
    "#get number of columns in training data\n",
    "n_cols = X_train.shape[1]\n",
    "\n",
    "# builds model\n",
    "model = Sequential()\n",
    "\n",
    "model.add(Dense(150, activation='relu',input_shape=(n_cols,)))\n",
    "model.add(Dense(150, activation='relu'))\n",
    "model.add(Dense(150, activation='relu'))\n",
    "model.add(Dense(150, activation='relu'))\n",
    "model.add(Dense(150, activation='relu'))\n",
    "model.add(Dense(1,activation='linear'))"
   ]
  },
  {
   "cell_type": "code",
   "execution_count": null,
   "metadata": {
    "id": "I68kcsprXZ3J"
   },
   "outputs": [],
   "source": [
    "#compile model\n",
    "model.compile(loss='mse', optimizer='adam', metrics=['mae']) # use metric as mean absolute error"
   ]
  },
  {
   "cell_type": "code",
   "execution_count": null,
   "metadata": {
    "colab": {
     "base_uri": "https://localhost:8080/"
    },
    "id": "-3EAM2NTq8wp",
    "outputId": "2f12761c-5ab2-4c3a-cc89-954be0241223"
   },
   "outputs": [
    {
     "name": "stdout",
     "output_type": "stream",
     "text": [
      "Model: \"sequential\"\n",
      "_________________________________________________________________\n",
      " Layer (type)                Output Shape              Param #   \n",
      "=================================================================\n",
      " dense (Dense)               (None, 150)               1650      \n",
      "                                                                 \n",
      " dense_1 (Dense)             (None, 150)               22650     \n",
      "                                                                 \n",
      " dense_2 (Dense)             (None, 150)               22650     \n",
      "                                                                 \n",
      " dense_3 (Dense)             (None, 150)               22650     \n",
      "                                                                 \n",
      " dense_4 (Dense)             (None, 150)               22650     \n",
      "                                                                 \n",
      " dense_5 (Dense)             (None, 1)                 151       \n",
      "                                                                 \n",
      "=================================================================\n",
      "Total params: 92401 (360.94 KB)\n",
      "Trainable params: 92401 (360.94 KB)\n",
      "Non-trainable params: 0 (0.00 Byte)\n",
      "_________________________________________________________________\n"
     ]
    }
   ],
   "source": [
    "#inspect the model\n",
    "model.summary()"
   ]
  },
  {
   "cell_type": "code",
   "execution_count": null,
   "metadata": {
    "colab": {
     "base_uri": "https://localhost:8080/"
    },
    "id": "7ASHOklYZoLC",
    "outputId": "150ef9ca-cc10-4263-c102-73494089a6fa"
   },
   "outputs": [
    {
     "name": "stdout",
     "output_type": "stream",
     "text": [
      "(17469, 10)\n",
      "(17469, 1)\n"
     ]
    }
   ],
   "source": [
    "X_train = np.asarray(X_train)\n",
    "y_train   = np.asarray(y_train)\n",
    "print(X_train.shape)\n",
    "print(y_train.shape)"
   ]
  },
  {
   "cell_type": "code",
   "execution_count": null,
   "metadata": {
    "colab": {
     "base_uri": "https://localhost:8080/"
    },
    "id": "5_8oVs5IZrgq",
    "outputId": "87aa164e-720a-4dcd-bacc-45a3a4b70b97"
   },
   "outputs": [
    {
     "name": "stdout",
     "output_type": "stream",
     "text": [
      "Epoch 1/300\n",
      "546/546 [==============================] - 4s 4ms/step - loss: 0.1270 - mae: 0.1943 - val_loss: 0.0730 - val_mae: 0.1574\n",
      "Epoch 2/300\n",
      "546/546 [==============================] - 3s 6ms/step - loss: 0.0693 - mae: 0.1564 - val_loss: 0.0676 - val_mae: 0.1487\n",
      "Epoch 3/300\n",
      "546/546 [==============================] - 3s 6ms/step - loss: 0.0668 - mae: 0.1516 - val_loss: 0.0641 - val_mae: 0.1425\n",
      "Epoch 4/300\n",
      "546/546 [==============================] - 2s 3ms/step - loss: 0.0845 - mae: 0.1499 - val_loss: 0.0596 - val_mae: 0.1425\n",
      "Epoch 5/300\n",
      "546/546 [==============================] - 2s 4ms/step - loss: 0.0447 - mae: 0.1231 - val_loss: 0.0346 - val_mae: 0.1091\n",
      "Epoch 6/300\n",
      "546/546 [==============================] - 2s 3ms/step - loss: 0.0345 - mae: 0.1098 - val_loss: 0.0262 - val_mae: 0.0960\n",
      "Epoch 7/300\n",
      "546/546 [==============================] - 2s 4ms/step - loss: 0.0280 - mae: 0.1004 - val_loss: 0.0253 - val_mae: 0.0937\n",
      "Epoch 8/300\n",
      "546/546 [==============================] - 2s 4ms/step - loss: 0.0267 - mae: 0.0964 - val_loss: 0.0300 - val_mae: 0.1064\n",
      "Epoch 9/300\n",
      "546/546 [==============================] - 3s 6ms/step - loss: 0.0246 - mae: 0.0943 - val_loss: 0.0249 - val_mae: 0.0956\n",
      "Epoch 10/300\n",
      "546/546 [==============================] - 3s 6ms/step - loss: 0.0233 - mae: 0.0928 - val_loss: 0.0224 - val_mae: 0.0879\n",
      "Epoch 11/300\n",
      "546/546 [==============================] - 2s 4ms/step - loss: 0.0242 - mae: 0.0921 - val_loss: 0.0237 - val_mae: 0.0899\n",
      "Epoch 12/300\n",
      "546/546 [==============================] - 2s 4ms/step - loss: 0.0246 - mae: 0.0918 - val_loss: 0.0236 - val_mae: 0.0900\n",
      "Epoch 13/300\n",
      "546/546 [==============================] - 2s 3ms/step - loss: 0.0212 - mae: 0.0876 - val_loss: 0.0230 - val_mae: 0.0924\n",
      "Epoch 14/300\n",
      "546/546 [==============================] - 2s 3ms/step - loss: 0.0223 - mae: 0.0893 - val_loss: 0.0230 - val_mae: 0.0949\n",
      "Epoch 15/300\n",
      "546/546 [==============================] - 2s 4ms/step - loss: 0.0219 - mae: 0.0888 - val_loss: 0.0246 - val_mae: 0.0939\n",
      "Epoch 16/300\n",
      "546/546 [==============================] - 3s 5ms/step - loss: 0.0209 - mae: 0.0872 - val_loss: 0.0232 - val_mae: 0.0905\n",
      "Epoch 17/300\n",
      "546/546 [==============================] - 3s 6ms/step - loss: 0.0202 - mae: 0.0857 - val_loss: 0.0253 - val_mae: 0.0923\n",
      "Epoch 18/300\n",
      "546/546 [==============================] - 2s 5ms/step - loss: 0.0209 - mae: 0.0865 - val_loss: 0.0211 - val_mae: 0.0867\n",
      "Epoch 19/300\n",
      "546/546 [==============================] - 3s 5ms/step - loss: 0.0249 - mae: 0.0913 - val_loss: 0.0230 - val_mae: 0.0893\n",
      "Epoch 20/300\n",
      "546/546 [==============================] - 2s 4ms/step - loss: 0.0200 - mae: 0.0847 - val_loss: 0.0235 - val_mae: 0.0903\n",
      "Epoch 21/300\n",
      "546/546 [==============================] - 2s 4ms/step - loss: 0.0210 - mae: 0.0847 - val_loss: 0.0217 - val_mae: 0.0857\n",
      "Epoch 22/300\n",
      "546/546 [==============================] - 2s 4ms/step - loss: 0.0192 - mae: 0.0832 - val_loss: 0.0254 - val_mae: 0.1001\n",
      "Epoch 23/300\n",
      "546/546 [==============================] - 3s 6ms/step - loss: 0.0190 - mae: 0.0826 - val_loss: 0.0218 - val_mae: 0.0864\n",
      "Epoch 24/300\n",
      "546/546 [==============================] - 3s 6ms/step - loss: 0.0200 - mae: 0.0834 - val_loss: 0.0245 - val_mae: 0.0922\n",
      "Epoch 25/300\n",
      "546/546 [==============================] - 2s 4ms/step - loss: 0.0206 - mae: 0.0839 - val_loss: 0.0206 - val_mae: 0.0858\n",
      "Epoch 26/300\n",
      "546/546 [==============================] - 2s 4ms/step - loss: 0.0185 - mae: 0.0815 - val_loss: 0.0259 - val_mae: 0.0949\n",
      "Epoch 27/300\n",
      "546/546 [==============================] - 2s 4ms/step - loss: 0.0248 - mae: 0.0872 - val_loss: 0.0233 - val_mae: 0.0925\n",
      "Epoch 28/300\n",
      "546/546 [==============================] - 2s 4ms/step - loss: 0.0186 - mae: 0.0813 - val_loss: 0.0218 - val_mae: 0.0946\n",
      "Epoch 29/300\n",
      "546/546 [==============================] - 2s 4ms/step - loss: 0.0182 - mae: 0.0801 - val_loss: 0.0223 - val_mae: 0.0888\n",
      "Epoch 30/300\n",
      "546/546 [==============================] - 3s 6ms/step - loss: 0.0176 - mae: 0.0799 - val_loss: 0.0203 - val_mae: 0.0883\n",
      "Epoch 31/300\n",
      "546/546 [==============================] - 3s 6ms/step - loss: 0.0183 - mae: 0.0804 - val_loss: 0.0236 - val_mae: 0.0886\n",
      "Epoch 32/300\n",
      "546/546 [==============================] - 2s 4ms/step - loss: 0.0177 - mae: 0.0796 - val_loss: 0.0215 - val_mae: 0.0849\n",
      "Epoch 33/300\n",
      "546/546 [==============================] - 2s 4ms/step - loss: 0.0174 - mae: 0.0786 - val_loss: 0.0200 - val_mae: 0.0837\n",
      "Epoch 34/300\n",
      "546/546 [==============================] - 2s 3ms/step - loss: 0.0173 - mae: 0.0789 - val_loss: 0.0258 - val_mae: 0.0929\n",
      "Epoch 35/300\n",
      "546/546 [==============================] - 2s 4ms/step - loss: 0.0178 - mae: 0.0798 - val_loss: 0.0265 - val_mae: 0.0965\n",
      "Epoch 36/300\n",
      "546/546 [==============================] - 2s 4ms/step - loss: 0.0162 - mae: 0.0771 - val_loss: 0.0232 - val_mae: 0.0968\n",
      "Epoch 37/300\n",
      "546/546 [==============================] - 3s 6ms/step - loss: 0.0174 - mae: 0.0787 - val_loss: 0.0223 - val_mae: 0.0880\n",
      "Epoch 38/300\n",
      "546/546 [==============================] - 3s 6ms/step - loss: 0.0180 - mae: 0.0790 - val_loss: 0.0227 - val_mae: 0.0900\n",
      "Epoch 39/300\n",
      "546/546 [==============================] - 2s 4ms/step - loss: 0.0175 - mae: 0.0798 - val_loss: 0.0230 - val_mae: 0.0894\n",
      "Epoch 40/300\n",
      "546/546 [==============================] - 2s 4ms/step - loss: 0.0160 - mae: 0.0768 - val_loss: 0.0216 - val_mae: 0.0868\n",
      "Epoch 41/300\n",
      "546/546 [==============================] - 2s 4ms/step - loss: 0.0157 - mae: 0.0755 - val_loss: 0.0209 - val_mae: 0.0835\n",
      "Epoch 42/300\n",
      "546/546 [==============================] - 2s 4ms/step - loss: 0.0161 - mae: 0.0765 - val_loss: 0.0218 - val_mae: 0.0871\n",
      "Epoch 43/300\n",
      "546/546 [==============================] - 2s 4ms/step - loss: 0.0160 - mae: 0.0762 - val_loss: 0.0216 - val_mae: 0.0898\n",
      "Epoch 44/300\n",
      "546/546 [==============================] - 3s 6ms/step - loss: 0.0162 - mae: 0.0754 - val_loss: 0.0222 - val_mae: 0.0867\n",
      "Epoch 45/300\n",
      "546/546 [==============================] - 3s 6ms/step - loss: 0.0187 - mae: 0.0790 - val_loss: 0.0241 - val_mae: 0.0989\n",
      "Epoch 46/300\n",
      "546/546 [==============================] - 2s 4ms/step - loss: 0.0149 - mae: 0.0733 - val_loss: 0.0216 - val_mae: 0.0874\n",
      "Epoch 47/300\n",
      "546/546 [==============================] - 2s 4ms/step - loss: 0.0151 - mae: 0.0739 - val_loss: 0.0210 - val_mae: 0.0833\n",
      "Epoch 48/300\n",
      "546/546 [==============================] - 2s 4ms/step - loss: 0.0149 - mae: 0.0739 - val_loss: 0.0248 - val_mae: 0.0918\n",
      "Training time: 116.98134160041809\n"
     ]
    }
   ],
   "source": [
    "#train model and perform validation test\n",
    "import time\n",
    "early_stop = EarlyStopping(monitor='val_loss', patience=15) # stops training when it doesn't show improvemnet.\n",
    "t0 = time.time()\n",
    "history = model.fit(X_train, y_train, epochs=300,\n",
    "          validation_data=(X_cv,y_cv), verbose=1, callbacks=[early_stop])\n",
    "print(\"Training time:\", time.time()-t0)"
   ]
  },
  {
   "cell_type": "code",
   "execution_count": null,
   "metadata": {
    "colab": {
     "base_uri": "https://localhost:8080/",
     "height": 736
    },
    "id": "i7AD7RccaH5U",
    "outputId": "129465cd-d065-445d-dbe8-0a2f7cbbb530"
   },
   "outputs": [
    {
     "data": {
      "text/plain": [
       "<matplotlib.legend.Legend at 0x7fd7b1e5e650>"
      ]
     },
     "execution_count": 70,
     "metadata": {},
     "output_type": "execute_result"
    },
    {
     "data": {
      "image/png": "[encoded data removed]",
      "text/plain": [
       "<Figure size 1500x800 with 1 Axes>"
      ]
     },
     "metadata": {},
     "output_type": "display_data"
    }
   ],
   "source": [
    "# show the graph of model loss in trainig and validation\n",
    "\n",
    "plt.figure(figsize=(15,8))\n",
    "plt.xlabel('Epoch')\n",
    "plt.ylabel('Mean Square Error')\n",
    "plt.plot(history.epoch, history.history['loss'],\n",
    "           label='Train Loss')\n",
    "plt.plot(history.epoch, history.history['val_loss'],\n",
    "           label = 'Val loss')\n",
    "plt.title('Model loss')\n",
    "plt.legend()"
   ]
  },
  {
   "cell_type": "code",
   "execution_count": null,
   "metadata": {
    "colab": {
     "base_uri": "https://localhost:8080/"
    },
    "id": "qucyUJkraPGZ",
    "outputId": "a21e2305-21c9-45a0-9585-bf28ebd30c2d"
   },
   "outputs": [
    {
     "name": "stdout",
     "output_type": "stream",
     "text": [
      "546/546 [==============================] - 1s 2ms/step - loss: 0.0141 - mae: 0.0729\n",
      "Mean square error:  0.014140648767352104\n",
      "Root Mean square error:  0.11891445987495425\n",
      "Mean absolute error:  0.0729411169886589\n"
     ]
    }
   ],
   "source": [
    "#check the model performace in test dataset\n",
    "score = model.evaluate(X_train, y_train, verbose=1)\n",
    "\n",
    "print('Mean square error: ', score[0])\n",
    "\n",
    "print('Root Mean square error: ', np.sqrt(score[0]))\n",
    "print('Mean absolute error: ', score[1])"
   ]
  },
  {
   "cell_type": "code",
   "execution_count": null,
   "metadata": {
    "colab": {
     "base_uri": "https://localhost:8080/"
    },
    "id": "bDyjcsg1aSf0",
    "outputId": "3648ed06-a64f-469a-b17a-4894989fc25b"
   },
   "outputs": [
    {
     "name": "stdout",
     "output_type": "stream",
     "text": [
      "117/117 [==============================] - 0s 2ms/step - loss: 0.0239 - mae: 0.0898\n",
      "Mean square error:  0.023911302909255028\n",
      "Root Mean square error:  0.15463280023738504\n",
      "Mean absolute error:  0.08982112258672714\n"
     ]
    }
   ],
   "source": [
    "#check the model performace in test dataset\n",
    "score = model.evaluate(X_test, y_test, verbose=1)\n",
    "\n",
    "print('Mean square error: ', score[0])\n",
    "\n",
    "print('Root Mean square error: ', np.sqrt(score[0]))\n",
    "print('Mean absolute error: ', score[1])"
   ]
  },
  {
   "cell_type": "code",
   "execution_count": null,
   "metadata": {
    "colab": {
     "base_uri": "https://localhost:8080/"
    },
    "id": "WL74Ypmmy7NL",
    "outputId": "d20519ef-2af8-4238-ec17-56040e957642"
   },
   "outputs": [
    {
     "name": "stdout",
     "output_type": "stream",
     "text": [
      "234/234 [==============================] - 1s 2ms/step\n",
      "The model performance for testing set\n",
      "--------------------------------------\n",
      "MSE is 0.024354373713002427\n",
      "RMSE is 0.1560588789944437\n",
      "R2 score is 0.9757163130476536\n",
      "SMAPE score is 20.46\n"
     ]
    }
   ],
   "source": [
    "# model evaluation for testing set\n",
    "y_test_predict = model.predict(X_)\n",
    "mse = (mean_squared_error(y_, y_test_predict))\n",
    "rmse=  np.sqrt(mse)\n",
    "r2 = r2_score(y_, y_test_predict)\n",
    "smape=calculate_smape(y_, y_test_predict)\n",
    "\n",
    "print(\"The model performance for testing set\")\n",
    "print(\"--------------------------------------\")\n",
    "print('MSE is {}'.format(mse))\n",
    "print('RMSE is {}'.format(rmse))\n",
    "print('R2 score is {}'.format(r2))\n",
    "print('SMAPE score is {}'.format(smape))"
   ]
  },
  {
   "cell_type": "code",
   "execution_count": null,
   "metadata": {
    "colab": {
     "base_uri": "https://localhost:8080/"
    },
    "id": "76fIKZt8y7Vg",
    "outputId": "69fe609e-54b2-4d40-d502-f0878a6261bc"
   },
   "outputs": [
    {
     "name": "stdout",
     "output_type": "stream",
     "text": [
      "MAPE score is 0.4126962083287174\n"
     ]
    }
   ],
   "source": [
    "from sklearn.metrics import mean_absolute_percentage_error\n",
    "mape = mean_absolute_percentage_error(y_,y_test_predict)\n",
    "print('MAPE score is {}'.format(mape))"
   ]
  },
  {
   "cell_type": "markdown",
   "metadata": {
    "id": "--yVcTY_bFOv"
   },
   "source": [
    "model1"
   ]
  },
  {
   "cell_type": "code",
   "execution_count": null,
   "metadata": {
    "id": "NBtw5Preaod8"
   },
   "outputs": [],
   "source": [
    "#get number of columns in training data\n",
    "n_cols = X_train.shape[1]\n",
    "\n",
    "# builds model\n",
    "model1 = Sequential()\n",
    "\n",
    "model1.add(Dense(7, activation='relu',input_shape=(n_cols,)))\n",
    "\n",
    "model1.add(Dense(1,activation='linear'))"
   ]
  },
  {
   "cell_type": "code",
   "execution_count": null,
   "metadata": {
    "id": "-m2m8cgha3tI"
   },
   "outputs": [],
   "source": [
    "#compile model\n",
    "model1.compile(loss='mse', optimizer='adam', metrics=['mae']) # use metric as mean absolute error"
   ]
  },
  {
   "cell_type": "code",
   "execution_count": null,
   "metadata": {
    "colab": {
     "base_uri": "https://localhost:8080/"
    },
    "id": "AlqnXn1pa6-s",
    "outputId": "b58da543-42e3-4664-dd3a-cb8d6dfbb06f"
   },
   "outputs": [
    {
     "name": "stdout",
     "output_type": "stream",
     "text": [
      "Model: \"sequential_1\"\n",
      "_________________________________________________________________\n",
      " Layer (type)                Output Shape              Param #   \n",
      "=================================================================\n",
      " dense_6 (Dense)             (None, 7)                 77        \n",
      "                                                                 \n",
      " dense_7 (Dense)             (None, 1)                 8         \n",
      "                                                                 \n",
      "=================================================================\n",
      "Total params: 85 (340.00 Byte)\n",
      "Trainable params: 85 (340.00 Byte)\n",
      "Non-trainable params: 0 (0.00 Byte)\n",
      "_________________________________________________________________\n"
     ]
    }
   ],
   "source": [
    "#inspect the model\n",
    "model1.summary()"
   ]
  },
  {
   "cell_type": "code",
   "execution_count": null,
   "metadata": {
    "colab": {
     "base_uri": "https://localhost:8080/"
    },
    "id": "3Jrvj8RSbA6B",
    "outputId": "e445fe68-e760-4a29-b29a-ceb9d9575509"
   },
   "outputs": [
    {
     "name": "stdout",
     "output_type": "stream",
     "text": [
      "Epoch 1/300\n",
      "546/546 [==============================] - 2s 3ms/step - loss: 0.3338 - mae: 0.3990 - val_loss: 0.1396 - val_mae: 0.2623\n",
      "Epoch 2/300\n",
      "546/546 [==============================] - 1s 3ms/step - loss: 0.1224 - mae: 0.2287 - val_loss: 0.0991 - val_mae: 0.2057\n",
      "Epoch 3/300\n",
      "546/546 [==============================] - 2s 3ms/step - loss: 0.0991 - mae: 0.1957 - val_loss: 0.0906 - val_mae: 0.1897\n",
      "Epoch 4/300\n",
      "546/546 [==============================] - 4s 7ms/step - loss: 0.0912 - mae: 0.1848 - val_loss: 0.0872 - val_mae: 0.1831\n",
      "Epoch 5/300\n",
      "546/546 [==============================] - 1s 2ms/step - loss: 0.0864 - mae: 0.1797 - val_loss: 0.0856 - val_mae: 0.1792\n",
      "Epoch 6/300\n",
      "546/546 [==============================] - 1s 2ms/step - loss: 0.0837 - mae: 0.1762 - val_loss: 0.0840 - val_mae: 0.1759\n",
      "Epoch 7/300\n",
      "546/546 [==============================] - 1s 2ms/step - loss: 0.0822 - mae: 0.1740 - val_loss: 0.0838 - val_mae: 0.1755\n",
      "Epoch 8/300\n",
      "546/546 [==============================] - 1s 2ms/step - loss: 0.0807 - mae: 0.1729 - val_loss: 0.0830 - val_mae: 0.1751\n",
      "Epoch 9/300\n",
      "546/546 [==============================] - 1s 2ms/step - loss: 0.0798 - mae: 0.1719 - val_loss: 0.0821 - val_mae: 0.1738\n",
      "Epoch 10/300\n",
      "546/546 [==============================] - 1s 2ms/step - loss: 0.0795 - mae: 0.1713 - val_loss: 0.0816 - val_mae: 0.1721\n",
      "Epoch 11/300\n",
      "546/546 [==============================] - 1s 2ms/step - loss: 0.0789 - mae: 0.1710 - val_loss: 0.0813 - val_mae: 0.1716\n",
      "Epoch 12/300\n",
      "546/546 [==============================] - 1s 2ms/step - loss: 0.0785 - mae: 0.1703 - val_loss: 0.0815 - val_mae: 0.1741\n",
      "Epoch 13/300\n",
      "546/546 [==============================] - 2s 3ms/step - loss: 0.0780 - mae: 0.1699 - val_loss: 0.0806 - val_mae: 0.1724\n",
      "Epoch 14/300\n",
      "546/546 [==============================] - 2s 3ms/step - loss: 0.0775 - mae: 0.1692 - val_loss: 0.0800 - val_mae: 0.1704\n",
      "Epoch 15/300\n",
      "546/546 [==============================] - 2s 4ms/step - loss: 0.0769 - mae: 0.1687 - val_loss: 0.0795 - val_mae: 0.1696\n",
      "Epoch 16/300\n",
      "546/546 [==============================] - 2s 3ms/step - loss: 0.0765 - mae: 0.1681 - val_loss: 0.0800 - val_mae: 0.1714\n",
      "Epoch 17/300\n",
      "546/546 [==============================] - 1s 3ms/step - loss: 0.0762 - mae: 0.1680 - val_loss: 0.0798 - val_mae: 0.1706\n",
      "Epoch 18/300\n",
      "546/546 [==============================] - 1s 2ms/step - loss: 0.0758 - mae: 0.1674 - val_loss: 0.0780 - val_mae: 0.1675\n",
      "Epoch 19/300\n",
      "546/546 [==============================] - 1s 2ms/step - loss: 0.0755 - mae: 0.1669 - val_loss: 0.0782 - val_mae: 0.1685\n",
      "Epoch 20/300\n",
      "546/546 [==============================] - 1s 2ms/step - loss: 0.0751 - mae: 0.1663 - val_loss: 0.0776 - val_mae: 0.1669\n",
      "Epoch 21/300\n",
      "546/546 [==============================] - 1s 2ms/step - loss: 0.0747 - mae: 0.1659 - val_loss: 0.0770 - val_mae: 0.1665\n",
      "Epoch 22/300\n",
      "546/546 [==============================] - 2s 3ms/step - loss: 0.0743 - mae: 0.1660 - val_loss: 0.0763 - val_mae: 0.1667\n",
      "Epoch 23/300\n",
      "546/546 [==============================] - 1s 2ms/step - loss: 0.0735 - mae: 0.1650 - val_loss: 0.0770 - val_mae: 0.1671\n",
      "Epoch 24/300\n",
      "546/546 [==============================] - 2s 4ms/step - loss: 0.0736 - mae: 0.1650 - val_loss: 0.0766 - val_mae: 0.1665\n",
      "Epoch 25/300\n",
      "546/546 [==============================] - 2s 4ms/step - loss: 0.0730 - mae: 0.1645 - val_loss: 0.0761 - val_mae: 0.1669\n",
      "Epoch 26/300\n",
      "546/546 [==============================] - 2s 4ms/step - loss: 0.0728 - mae: 0.1645 - val_loss: 0.0771 - val_mae: 0.1695\n",
      "Epoch 27/300\n",
      "546/546 [==============================] - 1s 3ms/step - loss: 0.0726 - mae: 0.1647 - val_loss: 0.0754 - val_mae: 0.1676\n",
      "Epoch 28/300\n",
      "546/546 [==============================] - 1s 2ms/step - loss: 0.0724 - mae: 0.1642 - val_loss: 0.0757 - val_mae: 0.1662\n",
      "Epoch 29/300\n",
      "546/546 [==============================] - 1s 2ms/step - loss: 0.0721 - mae: 0.1640 - val_loss: 0.0750 - val_mae: 0.1659\n",
      "Epoch 30/300\n",
      "546/546 [==============================] - 1s 2ms/step - loss: 0.0721 - mae: 0.1644 - val_loss: 0.0753 - val_mae: 0.1679\n",
      "Epoch 31/300\n",
      "546/546 [==============================] - 1s 3ms/step - loss: 0.0720 - mae: 0.1638 - val_loss: 0.0746 - val_mae: 0.1663\n",
      "Epoch 32/300\n",
      "546/546 [==============================] - 1s 2ms/step - loss: 0.0716 - mae: 0.1639 - val_loss: 0.0740 - val_mae: 0.1656\n",
      "Epoch 33/300\n",
      "546/546 [==============================] - 1s 2ms/step - loss: 0.0714 - mae: 0.1635 - val_loss: 0.0743 - val_mae: 0.1661\n",
      "Epoch 34/300\n",
      "546/546 [==============================] - 1s 3ms/step - loss: 0.0710 - mae: 0.1631 - val_loss: 0.0744 - val_mae: 0.1661\n",
      "Epoch 35/300\n",
      "546/546 [==============================] - 2s 3ms/step - loss: 0.0707 - mae: 0.1623 - val_loss: 0.0732 - val_mae: 0.1641\n",
      "Epoch 36/300\n",
      "546/546 [==============================] - 2s 3ms/step - loss: 0.0706 - mae: 0.1621 - val_loss: 0.0731 - val_mae: 0.1648\n",
      "Epoch 37/300\n",
      "546/546 [==============================] - 2s 4ms/step - loss: 0.0698 - mae: 0.1616 - val_loss: 0.0727 - val_mae: 0.1621\n",
      "Epoch 38/300\n",
      "546/546 [==============================] - 2s 3ms/step - loss: 0.0696 - mae: 0.1610 - val_loss: 0.0726 - val_mae: 0.1635\n",
      "Epoch 39/300\n",
      "546/546 [==============================] - 1s 2ms/step - loss: 0.0691 - mae: 0.1609 - val_loss: 0.0726 - val_mae: 0.1621\n",
      "Epoch 40/300\n",
      "546/546 [==============================] - 1s 2ms/step - loss: 0.0690 - mae: 0.1603 - val_loss: 0.0715 - val_mae: 0.1614\n",
      "Epoch 41/300\n",
      "546/546 [==============================] - 1s 2ms/step - loss: 0.0684 - mae: 0.1598 - val_loss: 0.0704 - val_mae: 0.1593\n",
      "Epoch 42/300\n",
      "546/546 [==============================] - 1s 3ms/step - loss: 0.0678 - mae: 0.1591 - val_loss: 0.0705 - val_mae: 0.1616\n",
      "Epoch 43/300\n",
      "546/546 [==============================] - 1s 3ms/step - loss: 0.0667 - mae: 0.1579 - val_loss: 0.0694 - val_mae: 0.1585\n",
      "Epoch 44/300\n",
      "546/546 [==============================] - 1s 2ms/step - loss: 0.0652 - mae: 0.1554 - val_loss: 0.0677 - val_mae: 0.1573\n",
      "Epoch 45/300\n",
      "546/546 [==============================] - 1s 2ms/step - loss: 0.0638 - mae: 0.1531 - val_loss: 0.0681 - val_mae: 0.1597\n",
      "Epoch 46/300\n",
      "546/546 [==============================] - 2s 3ms/step - loss: 0.0625 - mae: 0.1507 - val_loss: 0.0657 - val_mae: 0.1530\n",
      "Epoch 47/300\n",
      "546/546 [==============================] - 2s 4ms/step - loss: 0.0614 - mae: 0.1477 - val_loss: 0.0661 - val_mae: 0.1555\n",
      "Epoch 48/300\n",
      "546/546 [==============================] - 2s 4ms/step - loss: 0.0606 - mae: 0.1471 - val_loss: 0.0639 - val_mae: 0.1495\n",
      "Epoch 49/300\n",
      "546/546 [==============================] - 2s 3ms/step - loss: 0.0600 - mae: 0.1460 - val_loss: 0.0630 - val_mae: 0.1492\n",
      "Epoch 50/300\n",
      "546/546 [==============================] - 1s 2ms/step - loss: 0.0592 - mae: 0.1455 - val_loss: 0.0661 - val_mae: 0.1558\n",
      "Epoch 51/300\n",
      "546/546 [==============================] - 1s 2ms/step - loss: 0.0584 - mae: 0.1445 - val_loss: 0.0631 - val_mae: 0.1482\n",
      "Epoch 52/300\n",
      "546/546 [==============================] - 1s 2ms/step - loss: 0.0578 - mae: 0.1437 - val_loss: 0.0605 - val_mae: 0.1460\n",
      "Epoch 53/300\n",
      "546/546 [==============================] - 1s 3ms/step - loss: 0.0569 - mae: 0.1430 - val_loss: 0.0595 - val_mae: 0.1443\n",
      "Epoch 54/300\n",
      "546/546 [==============================] - 1s 2ms/step - loss: 0.0567 - mae: 0.1425 - val_loss: 0.0622 - val_mae: 0.1531\n",
      "Epoch 55/300\n",
      "546/546 [==============================] - 1s 2ms/step - loss: 0.0560 - mae: 0.1416 - val_loss: 0.0591 - val_mae: 0.1445\n",
      "Epoch 56/300\n",
      "546/546 [==============================] - 1s 2ms/step - loss: 0.0553 - mae: 0.1409 - val_loss: 0.0589 - val_mae: 0.1453\n",
      "Epoch 57/300\n",
      "546/546 [==============================] - 2s 3ms/step - loss: 0.0548 - mae: 0.1404 - val_loss: 0.0598 - val_mae: 0.1468\n",
      "Epoch 58/300\n",
      "546/546 [==============================] - 2s 3ms/step - loss: 0.0545 - mae: 0.1406 - val_loss: 0.0593 - val_mae: 0.1475\n",
      "Epoch 59/300\n",
      "546/546 [==============================] - 2s 3ms/step - loss: 0.0539 - mae: 0.1397 - val_loss: 0.0587 - val_mae: 0.1463\n",
      "Epoch 60/300\n",
      "546/546 [==============================] - 2s 4ms/step - loss: 0.0532 - mae: 0.1386 - val_loss: 0.0574 - val_mae: 0.1422\n",
      "Epoch 61/300\n",
      "546/546 [==============================] - 1s 2ms/step - loss: 0.0530 - mae: 0.1375 - val_loss: 0.0568 - val_mae: 0.1448\n",
      "Epoch 62/300\n",
      "546/546 [==============================] - 1s 2ms/step - loss: 0.0525 - mae: 0.1367 - val_loss: 0.0569 - val_mae: 0.1424\n",
      "Epoch 63/300\n",
      "546/546 [==============================] - 1s 2ms/step - loss: 0.0519 - mae: 0.1355 - val_loss: 0.0551 - val_mae: 0.1402\n",
      "Epoch 64/300\n",
      "546/546 [==============================] - 1s 2ms/step - loss: 0.0516 - mae: 0.1354 - val_loss: 0.0550 - val_mae: 0.1410\n",
      "Epoch 65/300\n",
      "546/546 [==============================] - 1s 2ms/step - loss: 0.0516 - mae: 0.1346 - val_loss: 0.0537 - val_mae: 0.1360\n",
      "Epoch 66/300\n",
      "546/546 [==============================] - 1s 2ms/step - loss: 0.0508 - mae: 0.1337 - val_loss: 0.0560 - val_mae: 0.1425\n",
      "Epoch 67/300\n",
      "546/546 [==============================] - 1s 2ms/step - loss: 0.0505 - mae: 0.1337 - val_loss: 0.0616 - val_mae: 0.1510\n",
      "Epoch 68/300\n",
      "546/546 [==============================] - 1s 2ms/step - loss: 0.0505 - mae: 0.1337 - val_loss: 0.0532 - val_mae: 0.1350\n",
      "Epoch 69/300\n",
      "546/546 [==============================] - 2s 3ms/step - loss: 0.0495 - mae: 0.1324 - val_loss: 0.0527 - val_mae: 0.1346\n",
      "Epoch 70/300\n",
      "546/546 [==============================] - 2s 4ms/step - loss: 0.0494 - mae: 0.1319 - val_loss: 0.0551 - val_mae: 0.1414\n",
      "Epoch 71/300\n",
      "546/546 [==============================] - 2s 4ms/step - loss: 0.0493 - mae: 0.1322 - val_loss: 0.0560 - val_mae: 0.1429\n",
      "Epoch 72/300\n",
      "546/546 [==============================] - 2s 3ms/step - loss: 0.0492 - mae: 0.1319 - val_loss: 0.0524 - val_mae: 0.1343\n",
      "Epoch 73/300\n",
      "546/546 [==============================] - 1s 3ms/step - loss: 0.0491 - mae: 0.1313 - val_loss: 0.0538 - val_mae: 0.1385\n",
      "Epoch 74/300\n",
      "546/546 [==============================] - 1s 3ms/step - loss: 0.0486 - mae: 0.1313 - val_loss: 0.0522 - val_mae: 0.1351\n",
      "Epoch 75/300\n",
      "546/546 [==============================] - 1s 2ms/step - loss: 0.0483 - mae: 0.1308 - val_loss: 0.0519 - val_mae: 0.1360\n",
      "Epoch 76/300\n",
      "546/546 [==============================] - 1s 2ms/step - loss: 0.0482 - mae: 0.1305 - val_loss: 0.0535 - val_mae: 0.1401\n",
      "Epoch 77/300\n",
      "546/546 [==============================] - 1s 2ms/step - loss: 0.0478 - mae: 0.1302 - val_loss: 0.0538 - val_mae: 0.1399\n",
      "Epoch 78/300\n",
      "546/546 [==============================] - 1s 3ms/step - loss: 0.0476 - mae: 0.1305 - val_loss: 0.0508 - val_mae: 0.1323\n",
      "Epoch 79/300\n",
      "546/546 [==============================] - 1s 3ms/step - loss: 0.0475 - mae: 0.1298 - val_loss: 0.0507 - val_mae: 0.1348\n",
      "Epoch 80/300\n",
      "546/546 [==============================] - 2s 3ms/step - loss: 0.0475 - mae: 0.1299 - val_loss: 0.0516 - val_mae: 0.1346\n",
      "Epoch 81/300\n",
      "546/546 [==============================] - 2s 3ms/step - loss: 0.0474 - mae: 0.1299 - val_loss: 0.0513 - val_mae: 0.1386\n",
      "Epoch 82/300\n",
      "546/546 [==============================] - 2s 4ms/step - loss: 0.0476 - mae: 0.1298 - val_loss: 0.0506 - val_mae: 0.1349\n",
      "Epoch 83/300\n",
      "546/546 [==============================] - 1s 2ms/step - loss: 0.0471 - mae: 0.1295 - val_loss: 0.0500 - val_mae: 0.1316\n",
      "Epoch 84/300\n",
      "546/546 [==============================] - 1s 2ms/step - loss: 0.0469 - mae: 0.1289 - val_loss: 0.0520 - val_mae: 0.1390\n",
      "Epoch 85/300\n",
      "546/546 [==============================] - 1s 2ms/step - loss: 0.0467 - mae: 0.1289 - val_loss: 0.0515 - val_mae: 0.1376\n",
      "Epoch 86/300\n",
      "546/546 [==============================] - 1s 3ms/step - loss: 0.0469 - mae: 0.1295 - val_loss: 0.0500 - val_mae: 0.1342\n",
      "Epoch 87/300\n",
      "546/546 [==============================] - 1s 2ms/step - loss: 0.0467 - mae: 0.1290 - val_loss: 0.0497 - val_mae: 0.1333\n",
      "Epoch 88/300\n",
      "546/546 [==============================] - 1s 2ms/step - loss: 0.0466 - mae: 0.1287 - val_loss: 0.0516 - val_mae: 0.1365\n",
      "Epoch 89/300\n",
      "546/546 [==============================] - 1s 2ms/step - loss: 0.0467 - mae: 0.1291 - val_loss: 0.0490 - val_mae: 0.1311\n",
      "Epoch 90/300\n",
      "546/546 [==============================] - 1s 2ms/step - loss: 0.0465 - mae: 0.1288 - val_loss: 0.0503 - val_mae: 0.1338\n",
      "Epoch 91/300\n",
      "546/546 [==============================] - 2s 4ms/step - loss: 0.0462 - mae: 0.1286 - val_loss: 0.0505 - val_mae: 0.1350\n",
      "Epoch 92/300\n",
      "546/546 [==============================] - 2s 3ms/step - loss: 0.0462 - mae: 0.1283 - val_loss: 0.0484 - val_mae: 0.1301\n",
      "Epoch 93/300\n",
      "546/546 [==============================] - 2s 3ms/step - loss: 0.0461 - mae: 0.1283 - val_loss: 0.0527 - val_mae: 0.1433\n",
      "Epoch 94/300\n",
      "546/546 [==============================] - 2s 4ms/step - loss: 0.0464 - mae: 0.1291 - val_loss: 0.0492 - val_mae: 0.1304\n",
      "Epoch 95/300\n",
      "546/546 [==============================] - 1s 3ms/step - loss: 0.0460 - mae: 0.1285 - val_loss: 0.0527 - val_mae: 0.1428\n",
      "Epoch 96/300\n",
      "546/546 [==============================] - 1s 2ms/step - loss: 0.0460 - mae: 0.1286 - val_loss: 0.0489 - val_mae: 0.1359\n",
      "Epoch 97/300\n",
      "546/546 [==============================] - 1s 2ms/step - loss: 0.0457 - mae: 0.1283 - val_loss: 0.0477 - val_mae: 0.1306\n",
      "Epoch 98/300\n",
      "546/546 [==============================] - 1s 3ms/step - loss: 0.0462 - mae: 0.1283 - val_loss: 0.0505 - val_mae: 0.1363\n",
      "Epoch 99/300\n",
      "546/546 [==============================] - 1s 2ms/step - loss: 0.0459 - mae: 0.1284 - val_loss: 0.0477 - val_mae: 0.1295\n",
      "Epoch 100/300\n",
      "546/546 [==============================] - 1s 2ms/step - loss: 0.0458 - mae: 0.1284 - val_loss: 0.0478 - val_mae: 0.1307\n",
      "Epoch 101/300\n",
      "546/546 [==============================] - 1s 2ms/step - loss: 0.0454 - mae: 0.1279 - val_loss: 0.0486 - val_mae: 0.1327\n",
      "Epoch 102/300\n",
      "546/546 [==============================] - 2s 3ms/step - loss: 0.0456 - mae: 0.1281 - val_loss: 0.0501 - val_mae: 0.1356\n",
      "Epoch 103/300\n",
      "546/546 [==============================] - 2s 4ms/step - loss: 0.0454 - mae: 0.1279 - val_loss: 0.0502 - val_mae: 0.1371\n",
      "Epoch 104/300\n",
      "546/546 [==============================] - 2s 4ms/step - loss: 0.0461 - mae: 0.1282 - val_loss: 0.0486 - val_mae: 0.1317\n",
      "Epoch 105/300\n",
      "546/546 [==============================] - 2s 3ms/step - loss: 0.0454 - mae: 0.1280 - val_loss: 0.0478 - val_mae: 0.1294\n",
      "Epoch 106/300\n",
      "546/546 [==============================] - 1s 3ms/step - loss: 0.0456 - mae: 0.1289 - val_loss: 0.0487 - val_mae: 0.1330\n",
      "Epoch 107/300\n",
      "546/546 [==============================] - 1s 2ms/step - loss: 0.0453 - mae: 0.1279 - val_loss: 0.0471 - val_mae: 0.1283\n",
      "Epoch 108/300\n",
      "546/546 [==============================] - 1s 3ms/step - loss: 0.0457 - mae: 0.1282 - val_loss: 0.0491 - val_mae: 0.1366\n",
      "Epoch 109/300\n",
      "546/546 [==============================] - 1s 2ms/step - loss: 0.0454 - mae: 0.1281 - val_loss: 0.0492 - val_mae: 0.1334\n",
      "Epoch 110/300\n",
      "546/546 [==============================] - 1s 3ms/step - loss: 0.0450 - mae: 0.1275 - val_loss: 0.0480 - val_mae: 0.1313\n",
      "Epoch 111/300\n",
      "546/546 [==============================] - 1s 3ms/step - loss: 0.0451 - mae: 0.1280 - val_loss: 0.0483 - val_mae: 0.1321\n",
      "Epoch 112/300\n",
      "546/546 [==============================] - 1s 3ms/step - loss: 0.0455 - mae: 0.1278 - val_loss: 0.0474 - val_mae: 0.1295\n",
      "Epoch 113/300\n",
      "546/546 [==============================] - 2s 3ms/step - loss: 0.0456 - mae: 0.1279 - val_loss: 0.0521 - val_mae: 0.1400\n",
      "Epoch 114/300\n",
      "546/546 [==============================] - 2s 4ms/step - loss: 0.0452 - mae: 0.1276 - val_loss: 0.0496 - val_mae: 0.1301\n",
      "Epoch 115/300\n",
      "546/546 [==============================] - 2s 4ms/step - loss: 0.0453 - mae: 0.1276 - val_loss: 0.0482 - val_mae: 0.1309\n",
      "Epoch 116/300\n",
      "546/546 [==============================] - 1s 2ms/step - loss: 0.0450 - mae: 0.1274 - val_loss: 0.0483 - val_mae: 0.1346\n",
      "Epoch 117/300\n",
      "546/546 [==============================] - 1s 2ms/step - loss: 0.0448 - mae: 0.1272 - val_loss: 0.0464 - val_mae: 0.1289\n",
      "Epoch 118/300\n",
      "546/546 [==============================] - 1s 2ms/step - loss: 0.0449 - mae: 0.1275 - val_loss: 0.0476 - val_mae: 0.1312\n",
      "Epoch 119/300\n",
      "546/546 [==============================] - 1s 2ms/step - loss: 0.0452 - mae: 0.1280 - val_loss: 0.0495 - val_mae: 0.1410\n",
      "Epoch 120/300\n",
      "546/546 [==============================] - 1s 2ms/step - loss: 0.0455 - mae: 0.1281 - val_loss: 0.0483 - val_mae: 0.1323\n",
      "Epoch 121/300\n",
      "546/546 [==============================] - 1s 2ms/step - loss: 0.0447 - mae: 0.1275 - val_loss: 0.0455 - val_mae: 0.1273\n",
      "Epoch 122/300\n",
      "546/546 [==============================] - 1s 2ms/step - loss: 0.0448 - mae: 0.1273 - val_loss: 0.0472 - val_mae: 0.1314\n",
      "Epoch 123/300\n",
      "546/546 [==============================] - 1s 2ms/step - loss: 0.0451 - mae: 0.1282 - val_loss: 0.0483 - val_mae: 0.1327\n",
      "Epoch 124/300\n",
      "546/546 [==============================] - 2s 3ms/step - loss: 0.0451 - mae: 0.1274 - val_loss: 0.0479 - val_mae: 0.1325\n",
      "Epoch 125/300\n",
      "546/546 [==============================] - 2s 4ms/step - loss: 0.0448 - mae: 0.1276 - val_loss: 0.0486 - val_mae: 0.1341\n",
      "Epoch 126/300\n",
      "546/546 [==============================] - 2s 3ms/step - loss: 0.0450 - mae: 0.1273 - val_loss: 0.0468 - val_mae: 0.1305\n",
      "Epoch 127/300\n",
      "546/546 [==============================] - 2s 4ms/step - loss: 0.0448 - mae: 0.1274 - val_loss: 0.0481 - val_mae: 0.1335\n",
      "Epoch 128/300\n",
      "546/546 [==============================] - 1s 3ms/step - loss: 0.0447 - mae: 0.1271 - val_loss: 0.0470 - val_mae: 0.1304\n",
      "Epoch 129/300\n",
      "546/546 [==============================] - 1s 3ms/step - loss: 0.0452 - mae: 0.1277 - val_loss: 0.0486 - val_mae: 0.1334\n",
      "Epoch 130/300\n",
      "546/546 [==============================] - 2s 3ms/step - loss: 0.0448 - mae: 0.1274 - val_loss: 0.0473 - val_mae: 0.1309\n",
      "Epoch 131/300\n",
      "546/546 [==============================] - 1s 2ms/step - loss: 0.0447 - mae: 0.1272 - val_loss: 0.0472 - val_mae: 0.1342\n",
      "Epoch 132/300\n",
      "546/546 [==============================] - 1s 2ms/step - loss: 0.0446 - mae: 0.1271 - val_loss: 0.0463 - val_mae: 0.1296\n",
      "Epoch 133/300\n",
      "546/546 [==============================] - 1s 2ms/step - loss: 0.0446 - mae: 0.1274 - val_loss: 0.0480 - val_mae: 0.1337\n",
      "Epoch 134/300\n",
      "546/546 [==============================] - 1s 2ms/step - loss: 0.0448 - mae: 0.1270 - val_loss: 0.0462 - val_mae: 0.1317\n",
      "Epoch 135/300\n",
      "546/546 [==============================] - 1s 3ms/step - loss: 0.0449 - mae: 0.1275 - val_loss: 0.0489 - val_mae: 0.1360\n",
      "Epoch 136/300\n",
      "546/546 [==============================] - 2s 4ms/step - loss: 0.0448 - mae: 0.1273 - val_loss: 0.0462 - val_mae: 0.1306\n",
      "Training time: 206.7258815765381\n"
     ]
    }
   ],
   "source": [
    "#train model and perform validation test\n",
    "import time\n",
    "early_stop = EarlyStopping(monitor='val_loss', patience=15) # stops training when it doesn't show improvemnet.\n",
    "t0 = time.time()\n",
    "history = model1.fit(X_train, y_train, epochs=300,\n",
    "          validation_data=(X_cv,y_cv), verbose=1, callbacks=[early_stop])\n",
    "print(\"Training time:\", time.time()-t0)"
   ]
  },
  {
   "cell_type": "code",
   "execution_count": null,
   "metadata": {
    "colab": {
     "base_uri": "https://localhost:8080/",
     "height": 736
    },
    "id": "RDyfSmcabQ8G",
    "outputId": "b7e3704a-8348-4264-cb36-c15b144a1ab2"
   },
   "outputs": [
    {
     "data": {
      "text/plain": [
       "<matplotlib.legend.Legend at 0x7fd7ad04cc70>"
      ]
     },
     "execution_count": 79,
     "metadata": {},
     "output_type": "execute_result"
    },
    {
     "data": {
      "image/png": "[encoded data removed]",
      "text/plain": [
       "<Figure size 1500x800 with 1 Axes>"
      ]
     },
     "metadata": {},
     "output_type": "display_data"
    }
   ],
   "source": [
    "# show the graph of model loss in trainig and validation\n",
    "\n",
    "plt.figure(figsize=(15,8))\n",
    "plt.xlabel('Epoch')\n",
    "plt.ylabel('Mean Square Error')\n",
    "plt.plot(history.epoch, history.history['loss'],\n",
    "           label='Train Loss')\n",
    "plt.plot(history.epoch, history.history['val_loss'],\n",
    "           label = 'Val loss')\n",
    "plt.title('Model1 loss')\n",
    "plt.legend()"
   ]
  },
  {
   "cell_type": "code",
   "execution_count": null,
   "metadata": {
    "colab": {
     "base_uri": "https://localhost:8080/"
    },
    "id": "1zzFkAvZbUiz",
    "outputId": "4e80c315-a17e-4583-ccb9-2beee04ecc8c"
   },
   "outputs": [
    {
     "name": "stdout",
     "output_type": "stream",
     "text": [
      "546/546 [==============================] - 1s 3ms/step - loss: 0.0443 - mae: 0.1272\n",
      "Mean square error:  0.04428505897521973\n",
      "Root Mean square error:  0.21044015532977475\n",
      "Mean absolute error:  0.12723208963871002\n"
     ]
    }
   ],
   "source": [
    "#check the model performace in test dataset\n",
    "score = model1.evaluate(X_train, y_train, verbose=1)\n",
    "\n",
    "print('Mean square error: ', score[0])\n",
    "\n",
    "print('Root Mean square error: ', np.sqrt(score[0]))\n",
    "print('Mean absolute error: ', score[1])"
   ]
  },
  {
   "cell_type": "code",
   "execution_count": null,
   "metadata": {
    "colab": {
     "base_uri": "https://localhost:8080/"
    },
    "id": "0Bn0LHKNbXb7",
    "outputId": "0f819fe4-f588-4fc5-a591-9d460decd87a"
   },
   "outputs": [
    {
     "name": "stdout",
     "output_type": "stream",
     "text": [
      "117/117 [==============================] - 0s 3ms/step - loss: 0.0447 - mae: 0.1309\n",
      "Mean square error:  0.04474271088838577\n",
      "Root Mean square error:  0.21152472878693349\n",
      "Mean absolute error:  0.13086454570293427\n"
     ]
    }
   ],
   "source": [
    "#check the model performace in test dataset\n",
    "score = model1.evaluate(X_test, y_test, verbose=1)\n",
    "\n",
    "print('Mean square error: ', score[0])\n",
    "\n",
    "print('Root Mean square error: ', np.sqrt(score[0]))\n",
    "print('Mean absolute error: ', score[1])"
   ]
  },
  {
   "cell_type": "code",
   "execution_count": null,
   "metadata": {
    "colab": {
     "base_uri": "https://localhost:8080/"
    },
    "id": "68CYCia_y2LA",
    "outputId": "66c97b5e-c7aa-444d-dbd8-817921f4a19f"
   },
   "outputs": [
    {
     "name": "stdout",
     "output_type": "stream",
     "text": [
      "234/234 [==============================] - 1s 2ms/step\n",
      "The model performance for testing set\n",
      "--------------------------------------\n",
      "MSE is 0.04546853721714355\n",
      "RMSE is 0.213233527422738\n",
      "R2 score is 0.9546634318347206\n",
      "SMAPE score is 27.33\n"
     ]
    }
   ],
   "source": [
    "# model evaluation for testing set\n",
    "y_test_predict = model1.predict(X_)\n",
    "mse = (mean_squared_error(y_, y_test_predict))\n",
    "rmse=  np.sqrt(mse)\n",
    "r2 = r2_score(y_, y_test_predict)\n",
    "smape=calculate_smape(y_, y_test_predict)\n",
    "\n",
    "print(\"The model performance for testing set\")\n",
    "print(\"--------------------------------------\")\n",
    "print('MSE is {}'.format(mse))\n",
    "print('RMSE is {}'.format(rmse))\n",
    "print('R2 score is {}'.format(r2))\n",
    "print('SMAPE score is {}'.format(smape))"
   ]
  },
  {
   "cell_type": "code",
   "execution_count": null,
   "metadata": {
    "colab": {
     "base_uri": "https://localhost:8080/"
    },
    "id": "tZsW4FwIv5pr",
    "outputId": "69309ac3-5404-4356-e4fd-bea170ab31cb"
   },
   "outputs": [
    {
     "name": "stdout",
     "output_type": "stream",
     "text": [
      "MAPE score is 0.5702063272457171\n"
     ]
    }
   ],
   "source": [
    "from sklearn.metrics import mean_absolute_percentage_error\n",
    "mape = mean_absolute_percentage_error(y_,y_test_predict)\n",
    "print('MAPE score is {}'.format(mape))"
   ]
  },
  {
   "cell_type": "markdown",
   "metadata": {
    "id": "JLfsoFV_bkIS"
   },
   "source": [
    "model2"
   ]
  },
  {
   "cell_type": "code",
   "execution_count": null,
   "metadata": {
    "id": "Rm4RAbw-baWC"
   },
   "outputs": [],
   "source": [
    "#get number of columns in training data\n",
    "n_cols = X_train.shape[1]\n",
    "\n",
    "# builds model\n",
    "model2 = Sequential()\n",
    "\n",
    "model2.add(Dense(9, activation='relu',input_shape=(n_cols,)))\n",
    "\n",
    "model2.add(Dense(1,activation='linear'))"
   ]
  },
  {
   "cell_type": "code",
   "execution_count": null,
   "metadata": {
    "id": "N2bcmzRabjCX"
   },
   "outputs": [],
   "source": [
    "#compile model\n",
    "model2.compile(loss='mse', optimizer='adam', metrics=['mae']) # use metric as mean absolute error"
   ]
  },
  {
   "cell_type": "code",
   "execution_count": null,
   "metadata": {
    "colab": {
     "base_uri": "https://localhost:8080/"
    },
    "id": "2zg90lSgb1SS",
    "outputId": "10ccadd2-8d6a-4bb3-e952-29dcd0614ce7"
   },
   "outputs": [
    {
     "name": "stdout",
     "output_type": "stream",
     "text": [
      "Model: \"sequential_2\"\n",
      "_________________________________________________________________\n",
      " Layer (type)                Output Shape              Param #   \n",
      "=================================================================\n",
      " dense_8 (Dense)             (None, 9)                 99        \n",
      "                                                                 \n",
      " dense_9 (Dense)             (None, 1)                 10        \n",
      "                                                                 \n",
      "=================================================================\n",
      "Total params: 109 (436.00 Byte)\n",
      "Trainable params: 109 (436.00 Byte)\n",
      "Non-trainable params: 0 (0.00 Byte)\n",
      "_________________________________________________________________\n"
     ]
    }
   ],
   "source": [
    "#inspect the model\n",
    "model2.summary()"
   ]
  },
  {
   "cell_type": "code",
   "execution_count": null,
   "metadata": {
    "colab": {
     "base_uri": "https://localhost:8080/"
    },
    "id": "iVFclff4b4s3",
    "outputId": "d341fbb1-df04-40b1-e6dd-c9207fd56234"
   },
   "outputs": [
    {
     "name": "stdout",
     "output_type": "stream",
     "text": [
      "Epoch 1/300\n",
      "546/546 [==============================] - 3s 4ms/step - loss: 0.1664 - mae: 0.2854 - val_loss: 0.0891 - val_mae: 0.1939\n",
      "Epoch 2/300\n",
      "546/546 [==============================] - 1s 2ms/step - loss: 0.0875 - mae: 0.1827 - val_loss: 0.0816 - val_mae: 0.1771\n",
      "Epoch 3/300\n",
      "546/546 [==============================] - 1s 2ms/step - loss: 0.0802 - mae: 0.1740 - val_loss: 0.0802 - val_mae: 0.1757\n",
      "Epoch 4/300\n",
      "546/546 [==============================] - 1s 2ms/step - loss: 0.0775 - mae: 0.1723 - val_loss: 0.0781 - val_mae: 0.1739\n",
      "Epoch 5/300\n",
      "546/546 [==============================] - 1s 3ms/step - loss: 0.0758 - mae: 0.1697 - val_loss: 0.0770 - val_mae: 0.1734\n",
      "Epoch 6/300\n",
      "546/546 [==============================] - 1s 3ms/step - loss: 0.0746 - mae: 0.1684 - val_loss: 0.0766 - val_mae: 0.1722\n",
      "Epoch 7/300\n",
      "546/546 [==============================] - 1s 2ms/step - loss: 0.0737 - mae: 0.1669 - val_loss: 0.0747 - val_mae: 0.1686\n",
      "Epoch 8/300\n",
      "546/546 [==============================] - 1s 2ms/step - loss: 0.0728 - mae: 0.1655 - val_loss: 0.0753 - val_mae: 0.1723\n",
      "Epoch 9/300\n",
      "546/546 [==============================] - 2s 3ms/step - loss: 0.0721 - mae: 0.1645 - val_loss: 0.0745 - val_mae: 0.1680\n",
      "Epoch 10/300\n",
      "546/546 [==============================] - 2s 3ms/step - loss: 0.0716 - mae: 0.1632 - val_loss: 0.0737 - val_mae: 0.1668\n",
      "Epoch 11/300\n",
      "546/546 [==============================] - 2s 4ms/step - loss: 0.0706 - mae: 0.1616 - val_loss: 0.0732 - val_mae: 0.1656\n",
      "Epoch 12/300\n",
      "546/546 [==============================] - 2s 4ms/step - loss: 0.0698 - mae: 0.1591 - val_loss: 0.0722 - val_mae: 0.1623\n",
      "Epoch 13/300\n",
      "546/546 [==============================] - 1s 2ms/step - loss: 0.0684 - mae: 0.1556 - val_loss: 0.0709 - val_mae: 0.1601\n",
      "Epoch 14/300\n",
      "546/546 [==============================] - 1s 2ms/step - loss: 0.0668 - mae: 0.1524 - val_loss: 0.0716 - val_mae: 0.1607\n",
      "Epoch 15/300\n",
      "546/546 [==============================] - 1s 2ms/step - loss: 0.0658 - mae: 0.1513 - val_loss: 0.0686 - val_mae: 0.1564\n",
      "Epoch 16/300\n",
      "546/546 [==============================] - 1s 2ms/step - loss: 0.0652 - mae: 0.1508 - val_loss: 0.0687 - val_mae: 0.1583\n",
      "Epoch 17/300\n",
      "546/546 [==============================] - 1s 2ms/step - loss: 0.0647 - mae: 0.1499 - val_loss: 0.0687 - val_mae: 0.1572\n",
      "Epoch 18/300\n",
      "546/546 [==============================] - 1s 2ms/step - loss: 0.0650 - mae: 0.1493 - val_loss: 0.0684 - val_mae: 0.1570\n",
      "Epoch 19/300\n",
      "546/546 [==============================] - 1s 3ms/step - loss: 0.0643 - mae: 0.1489 - val_loss: 0.0688 - val_mae: 0.1594\n",
      "Epoch 20/300\n",
      "546/546 [==============================] - 2s 3ms/step - loss: 0.0643 - mae: 0.1493 - val_loss: 0.0674 - val_mae: 0.1563\n",
      "Epoch 21/300\n",
      "546/546 [==============================] - 2s 3ms/step - loss: 0.0636 - mae: 0.1482 - val_loss: 0.0681 - val_mae: 0.1557\n",
      "Epoch 22/300\n",
      "546/546 [==============================] - 2s 3ms/step - loss: 0.0638 - mae: 0.1482 - val_loss: 0.0682 - val_mae: 0.1565\n",
      "Epoch 23/300\n",
      "546/546 [==============================] - 2s 4ms/step - loss: 0.0633 - mae: 0.1476 - val_loss: 0.0672 - val_mae: 0.1549\n",
      "Epoch 24/300\n",
      "546/546 [==============================] - 1s 2ms/step - loss: 0.0637 - mae: 0.1476 - val_loss: 0.0668 - val_mae: 0.1549\n",
      "Epoch 25/300\n",
      "546/546 [==============================] - 1s 2ms/step - loss: 0.0634 - mae: 0.1479 - val_loss: 0.0663 - val_mae: 0.1546\n",
      "Epoch 26/300\n",
      "546/546 [==============================] - 1s 2ms/step - loss: 0.0629 - mae: 0.1470 - val_loss: 0.0662 - val_mae: 0.1541\n",
      "Epoch 27/300\n",
      "546/546 [==============================] - 1s 2ms/step - loss: 0.0629 - mae: 0.1468 - val_loss: 0.0664 - val_mae: 0.1528\n",
      "Epoch 28/300\n",
      "546/546 [==============================] - 1s 2ms/step - loss: 0.0626 - mae: 0.1466 - val_loss: 0.0664 - val_mae: 0.1544\n",
      "Epoch 29/300\n",
      "546/546 [==============================] - 1s 2ms/step - loss: 0.0625 - mae: 0.1466 - val_loss: 0.0663 - val_mae: 0.1547\n",
      "Epoch 30/300\n",
      "546/546 [==============================] - 1s 2ms/step - loss: 0.0625 - mae: 0.1462 - val_loss: 0.0657 - val_mae: 0.1535\n",
      "Epoch 31/300\n",
      "546/546 [==============================] - 1s 2ms/step - loss: 0.0625 - mae: 0.1460 - val_loss: 0.0666 - val_mae: 0.1560\n",
      "Epoch 32/300\n",
      "546/546 [==============================] - 2s 3ms/step - loss: 0.0623 - mae: 0.1458 - val_loss: 0.0666 - val_mae: 0.1534\n",
      "Epoch 33/300\n",
      "546/546 [==============================] - 2s 3ms/step - loss: 0.0621 - mae: 0.1457 - val_loss: 0.0660 - val_mae: 0.1522\n",
      "Epoch 34/300\n",
      "546/546 [==============================] - 2s 4ms/step - loss: 0.0626 - mae: 0.1458 - val_loss: 0.0653 - val_mae: 0.1536\n",
      "Epoch 35/300\n",
      "546/546 [==============================] - 2s 3ms/step - loss: 0.0623 - mae: 0.1459 - val_loss: 0.0655 - val_mae: 0.1515\n",
      "Epoch 36/300\n",
      "546/546 [==============================] - 1s 2ms/step - loss: 0.0623 - mae: 0.1456 - val_loss: 0.0659 - val_mae: 0.1537\n",
      "Epoch 37/300\n",
      "546/546 [==============================] - 1s 2ms/step - loss: 0.0619 - mae: 0.1452 - val_loss: 0.0658 - val_mae: 0.1528\n",
      "Epoch 38/300\n",
      "546/546 [==============================] - 1s 2ms/step - loss: 0.0620 - mae: 0.1454 - val_loss: 0.0639 - val_mae: 0.1474\n",
      "Epoch 39/300\n",
      "546/546 [==============================] - 1s 2ms/step - loss: 0.0617 - mae: 0.1451 - val_loss: 0.0656 - val_mae: 0.1549\n",
      "Epoch 40/300\n",
      "546/546 [==============================] - 1s 2ms/step - loss: 0.0620 - mae: 0.1448 - val_loss: 0.0646 - val_mae: 0.1535\n",
      "Epoch 41/300\n",
      "546/546 [==============================] - 1s 2ms/step - loss: 0.0618 - mae: 0.1448 - val_loss: 0.0641 - val_mae: 0.1499\n",
      "Epoch 42/300\n",
      "546/546 [==============================] - 1s 2ms/step - loss: 0.0618 - mae: 0.1448 - val_loss: 0.0652 - val_mae: 0.1522\n",
      "Epoch 43/300\n",
      "546/546 [==============================] - 2s 3ms/step - loss: 0.0612 - mae: 0.1444 - val_loss: 0.0637 - val_mae: 0.1479\n",
      "Epoch 44/300\n",
      "546/546 [==============================] - 2s 4ms/step - loss: 0.0614 - mae: 0.1442 - val_loss: 0.0639 - val_mae: 0.1491\n",
      "Epoch 45/300\n",
      "546/546 [==============================] - 2s 4ms/step - loss: 0.0614 - mae: 0.1439 - val_loss: 0.0634 - val_mae: 0.1460\n",
      "Epoch 46/300\n",
      "546/546 [==============================] - 1s 2ms/step - loss: 0.0614 - mae: 0.1439 - val_loss: 0.0637 - val_mae: 0.1478\n",
      "Epoch 47/300\n",
      "546/546 [==============================] - 1s 3ms/step - loss: 0.0612 - mae: 0.1441 - val_loss: 0.0632 - val_mae: 0.1475\n",
      "Epoch 48/300\n",
      "546/546 [==============================] - 1s 3ms/step - loss: 0.0620 - mae: 0.1439 - val_loss: 0.0642 - val_mae: 0.1534\n",
      "Epoch 49/300\n",
      "546/546 [==============================] - 1s 3ms/step - loss: 0.0611 - mae: 0.1437 - val_loss: 0.0629 - val_mae: 0.1462\n",
      "Epoch 50/300\n",
      "546/546 [==============================] - 1s 2ms/step - loss: 0.0607 - mae: 0.1429 - val_loss: 0.0628 - val_mae: 0.1478\n",
      "Epoch 51/300\n",
      "546/546 [==============================] - 1s 2ms/step - loss: 0.0602 - mae: 0.1425 - val_loss: 0.0627 - val_mae: 0.1471\n",
      "Epoch 52/300\n",
      "546/546 [==============================] - 1s 2ms/step - loss: 0.0601 - mae: 0.1426 - val_loss: 0.0631 - val_mae: 0.1498\n",
      "Epoch 53/300\n",
      "546/546 [==============================] - 1s 2ms/step - loss: 0.0599 - mae: 0.1420 - val_loss: 0.0621 - val_mae: 0.1459\n",
      "Epoch 54/300\n",
      "546/546 [==============================] - 2s 3ms/step - loss: 0.0597 - mae: 0.1425 - val_loss: 0.0623 - val_mae: 0.1483\n",
      "Epoch 55/300\n",
      "546/546 [==============================] - 2s 3ms/step - loss: 0.0588 - mae: 0.1417 - val_loss: 0.0627 - val_mae: 0.1512\n",
      "Epoch 56/300\n",
      "546/546 [==============================] - 2s 4ms/step - loss: 0.0588 - mae: 0.1418 - val_loss: 0.0617 - val_mae: 0.1508\n",
      "Epoch 57/300\n",
      "546/546 [==============================] - 2s 3ms/step - loss: 0.0580 - mae: 0.1405 - val_loss: 0.0602 - val_mae: 0.1457\n",
      "Epoch 58/300\n",
      "546/546 [==============================] - 1s 3ms/step - loss: 0.0582 - mae: 0.1398 - val_loss: 0.0595 - val_mae: 0.1470\n",
      "Epoch 59/300\n",
      "546/546 [==============================] - 1s 3ms/step - loss: 0.0566 - mae: 0.1389 - val_loss: 0.0615 - val_mae: 0.1462\n",
      "Epoch 60/300\n",
      "546/546 [==============================] - 2s 3ms/step - loss: 0.0561 - mae: 0.1375 - val_loss: 0.0606 - val_mae: 0.1469\n",
      "Epoch 61/300\n",
      "546/546 [==============================] - 1s 3ms/step - loss: 0.0557 - mae: 0.1373 - val_loss: 0.0568 - val_mae: 0.1393\n",
      "Epoch 62/300\n",
      "546/546 [==============================] - 1s 3ms/step - loss: 0.0553 - mae: 0.1369 - val_loss: 0.0572 - val_mae: 0.1427\n",
      "Epoch 63/300\n",
      "546/546 [==============================] - 1s 3ms/step - loss: 0.0545 - mae: 0.1362 - val_loss: 0.0567 - val_mae: 0.1409\n",
      "Epoch 64/300\n",
      "546/546 [==============================] - 2s 3ms/step - loss: 0.0542 - mae: 0.1357 - val_loss: 0.0557 - val_mae: 0.1370\n",
      "Epoch 65/300\n",
      "546/546 [==============================] - 2s 4ms/step - loss: 0.0536 - mae: 0.1355 - val_loss: 0.0552 - val_mae: 0.1351\n",
      "Epoch 66/300\n",
      "546/546 [==============================] - 2s 4ms/step - loss: 0.0538 - mae: 0.1354 - val_loss: 0.0688 - val_mae: 0.1631\n",
      "Epoch 67/300\n",
      "546/546 [==============================] - 2s 4ms/step - loss: 0.0542 - mae: 0.1360 - val_loss: 0.0550 - val_mae: 0.1368\n",
      "Epoch 68/300\n",
      "546/546 [==============================] - 1s 2ms/step - loss: 0.0530 - mae: 0.1346 - val_loss: 0.0557 - val_mae: 0.1396\n",
      "Epoch 69/300\n",
      "546/546 [==============================] - 1s 2ms/step - loss: 0.0521 - mae: 0.1343 - val_loss: 0.0552 - val_mae: 0.1361\n",
      "Epoch 70/300\n",
      "546/546 [==============================] - 1s 2ms/step - loss: 0.0522 - mae: 0.1339 - val_loss: 0.0551 - val_mae: 0.1366\n",
      "Epoch 71/300\n",
      "546/546 [==============================] - 1s 2ms/step - loss: 0.0518 - mae: 0.1336 - val_loss: 0.0549 - val_mae: 0.1379\n",
      "Epoch 72/300\n",
      "546/546 [==============================] - 1s 3ms/step - loss: 0.0522 - mae: 0.1337 - val_loss: 0.0587 - val_mae: 0.1440\n",
      "Epoch 73/300\n",
      "546/546 [==============================] - 2s 3ms/step - loss: 0.0526 - mae: 0.1342 - val_loss: 0.0540 - val_mae: 0.1349\n",
      "Epoch 74/300\n",
      "546/546 [==============================] - 2s 4ms/step - loss: 0.0520 - mae: 0.1335 - val_loss: 0.0542 - val_mae: 0.1349\n",
      "Epoch 75/300\n",
      "546/546 [==============================] - 3s 5ms/step - loss: 0.0510 - mae: 0.1326 - val_loss: 0.0548 - val_mae: 0.1359\n",
      "Epoch 76/300\n",
      "546/546 [==============================] - 4s 6ms/step - loss: 0.0511 - mae: 0.1326 - val_loss: 0.0533 - val_mae: 0.1349\n",
      "Epoch 77/300\n",
      "546/546 [==============================] - 2s 4ms/step - loss: 0.0506 - mae: 0.1322 - val_loss: 0.0537 - val_mae: 0.1392\n",
      "Epoch 78/300\n",
      "546/546 [==============================] - 2s 3ms/step - loss: 0.0507 - mae: 0.1319 - val_loss: 0.0531 - val_mae: 0.1371\n",
      "Epoch 79/300\n",
      "546/546 [==============================] - 2s 4ms/step - loss: 0.0508 - mae: 0.1321 - val_loss: 0.0526 - val_mae: 0.1331\n",
      "Epoch 80/300\n",
      "546/546 [==============================] - 2s 4ms/step - loss: 0.0507 - mae: 0.1316 - val_loss: 0.0525 - val_mae: 0.1343\n",
      "Epoch 81/300\n",
      "546/546 [==============================] - 3s 5ms/step - loss: 0.0501 - mae: 0.1317 - val_loss: 0.0537 - val_mae: 0.1377\n",
      "Epoch 82/300\n",
      "546/546 [==============================] - 3s 6ms/step - loss: 0.0497 - mae: 0.1310 - val_loss: 0.0530 - val_mae: 0.1356\n",
      "Epoch 83/300\n",
      "546/546 [==============================] - 3s 5ms/step - loss: 0.0495 - mae: 0.1312 - val_loss: 0.0522 - val_mae: 0.1343\n",
      "Epoch 84/300\n",
      "546/546 [==============================] - 2s 3ms/step - loss: 0.0494 - mae: 0.1309 - val_loss: 0.0517 - val_mae: 0.1357\n",
      "Epoch 85/300\n",
      "546/546 [==============================] - 2s 3ms/step - loss: 0.0488 - mae: 0.1306 - val_loss: 0.0512 - val_mae: 0.1340\n",
      "Epoch 86/300\n",
      "546/546 [==============================] - 2s 3ms/step - loss: 0.0491 - mae: 0.1304 - val_loss: 0.0511 - val_mae: 0.1321\n",
      "Epoch 87/300\n",
      "546/546 [==============================] - 2s 3ms/step - loss: 0.0489 - mae: 0.1305 - val_loss: 0.0511 - val_mae: 0.1350\n",
      "Epoch 88/300\n",
      "546/546 [==============================] - 2s 3ms/step - loss: 0.0483 - mae: 0.1290 - val_loss: 0.0542 - val_mae: 0.1425\n",
      "Epoch 89/300\n",
      "546/546 [==============================] - 1s 3ms/step - loss: 0.0481 - mae: 0.1289 - val_loss: 0.0502 - val_mae: 0.1307\n",
      "Epoch 90/300\n",
      "546/546 [==============================] - 3s 5ms/step - loss: 0.0480 - mae: 0.1282 - val_loss: 0.0500 - val_mae: 0.1324\n",
      "Epoch 91/300\n",
      "546/546 [==============================] - 3s 5ms/step - loss: 0.0474 - mae: 0.1283 - val_loss: 0.0496 - val_mae: 0.1305\n",
      "Epoch 92/300\n",
      "546/546 [==============================] - 3s 5ms/step - loss: 0.0482 - mae: 0.1280 - val_loss: 0.0488 - val_mae: 0.1273\n",
      "Epoch 93/300\n",
      "546/546 [==============================] - 2s 3ms/step - loss: 0.0475 - mae: 0.1268 - val_loss: 0.0492 - val_mae: 0.1319\n",
      "Epoch 94/300\n",
      "546/546 [==============================] - 2s 3ms/step - loss: 0.0470 - mae: 0.1263 - val_loss: 0.0485 - val_mae: 0.1278\n",
      "Epoch 95/300\n",
      "546/546 [==============================] - 1s 2ms/step - loss: 0.0463 - mae: 0.1260 - val_loss: 0.0488 - val_mae: 0.1296\n",
      "Epoch 96/300\n",
      "546/546 [==============================] - 1s 3ms/step - loss: 0.0463 - mae: 0.1258 - val_loss: 0.0489 - val_mae: 0.1308\n",
      "Epoch 97/300\n",
      "546/546 [==============================] - 2s 3ms/step - loss: 0.0466 - mae: 0.1263 - val_loss: 0.0490 - val_mae: 0.1312\n",
      "Epoch 98/300\n",
      "546/546 [==============================] - 2s 3ms/step - loss: 0.0464 - mae: 0.1256 - val_loss: 0.0488 - val_mae: 0.1304\n",
      "Epoch 99/300\n",
      "546/546 [==============================] - 2s 4ms/step - loss: 0.0459 - mae: 0.1256 - val_loss: 0.0512 - val_mae: 0.1336\n",
      "Epoch 100/300\n",
      "546/546 [==============================] - 3s 5ms/step - loss: 0.0457 - mae: 0.1259 - val_loss: 0.0496 - val_mae: 0.1308\n",
      "Epoch 101/300\n",
      "546/546 [==============================] - 3s 6ms/step - loss: 0.0455 - mae: 0.1254 - val_loss: 0.0473 - val_mae: 0.1274\n",
      "Epoch 102/300\n",
      "546/546 [==============================] - 2s 4ms/step - loss: 0.0451 - mae: 0.1247 - val_loss: 0.0471 - val_mae: 0.1290\n",
      "Epoch 103/300\n",
      "546/546 [==============================] - 2s 3ms/step - loss: 0.0449 - mae: 0.1249 - val_loss: 0.0470 - val_mae: 0.1279\n",
      "Epoch 104/300\n",
      "546/546 [==============================] - 2s 3ms/step - loss: 0.0450 - mae: 0.1255 - val_loss: 0.0473 - val_mae: 0.1304\n",
      "Epoch 105/300\n",
      "546/546 [==============================] - 2s 3ms/step - loss: 0.0450 - mae: 0.1251 - val_loss: 0.0462 - val_mae: 0.1272\n",
      "Epoch 106/300\n",
      "546/546 [==============================] - 2s 3ms/step - loss: 0.0458 - mae: 0.1248 - val_loss: 0.0523 - val_mae: 0.1389\n",
      "Epoch 107/300\n",
      "546/546 [==============================] - 3s 5ms/step - loss: 0.0450 - mae: 0.1253 - val_loss: 0.0482 - val_mae: 0.1275\n",
      "Epoch 108/300\n",
      "546/546 [==============================] - 3s 6ms/step - loss: 0.0445 - mae: 0.1246 - val_loss: 0.0461 - val_mae: 0.1288\n",
      "Epoch 109/300\n",
      "546/546 [==============================] - 3s 5ms/step - loss: 0.0439 - mae: 0.1239 - val_loss: 0.0464 - val_mae: 0.1289\n",
      "Epoch 110/300\n",
      "546/546 [==============================] - 2s 3ms/step - loss: 0.0442 - mae: 0.1245 - val_loss: 0.0468 - val_mae: 0.1302\n",
      "Epoch 111/300\n",
      "546/546 [==============================] - 2s 3ms/step - loss: 0.0443 - mae: 0.1248 - val_loss: 0.0456 - val_mae: 0.1272\n",
      "Epoch 112/300\n",
      "546/546 [==============================] - 2s 4ms/step - loss: 0.0446 - mae: 0.1246 - val_loss: 0.0459 - val_mae: 0.1280\n",
      "Epoch 113/300\n",
      "546/546 [==============================] - 2s 3ms/step - loss: 0.0437 - mae: 0.1241 - val_loss: 0.0452 - val_mae: 0.1261\n",
      "Epoch 114/300\n",
      "546/546 [==============================] - 2s 4ms/step - loss: 0.0444 - mae: 0.1252 - val_loss: 0.0460 - val_mae: 0.1264\n",
      "Epoch 115/300\n",
      "546/546 [==============================] - 3s 6ms/step - loss: 0.0437 - mae: 0.1244 - val_loss: 0.0455 - val_mae: 0.1267\n",
      "Epoch 116/300\n",
      "546/546 [==============================] - 3s 6ms/step - loss: 0.0440 - mae: 0.1237 - val_loss: 0.0531 - val_mae: 0.1432\n",
      "Epoch 117/300\n",
      "546/546 [==============================] - 3s 5ms/step - loss: 0.0442 - mae: 0.1248 - val_loss: 0.0457 - val_mae: 0.1279\n",
      "Epoch 118/300\n",
      "546/546 [==============================] - 2s 4ms/step - loss: 0.0437 - mae: 0.1239 - val_loss: 0.0460 - val_mae: 0.1282\n",
      "Epoch 119/300\n",
      "546/546 [==============================] - 2s 4ms/step - loss: 0.0434 - mae: 0.1241 - val_loss: 0.0450 - val_mae: 0.1243\n",
      "Epoch 120/300\n",
      "546/546 [==============================] - 2s 3ms/step - loss: 0.0435 - mae: 0.1239 - val_loss: 0.0460 - val_mae: 0.1307\n",
      "Epoch 121/300\n",
      "546/546 [==============================] - 2s 4ms/step - loss: 0.0430 - mae: 0.1237 - val_loss: 0.0446 - val_mae: 0.1263\n",
      "Epoch 122/300\n",
      "546/546 [==============================] - 2s 4ms/step - loss: 0.0433 - mae: 0.1236 - val_loss: 0.0449 - val_mae: 0.1253\n",
      "Epoch 123/300\n",
      "546/546 [==============================] - 3s 5ms/step - loss: 0.0427 - mae: 0.1236 - val_loss: 0.0451 - val_mae: 0.1265\n",
      "Epoch 124/300\n",
      "546/546 [==============================] - 4s 6ms/step - loss: 0.0429 - mae: 0.1237 - val_loss: 0.0459 - val_mae: 0.1339\n",
      "Epoch 125/300\n",
      "546/546 [==============================] - 2s 3ms/step - loss: 0.0427 - mae: 0.1236 - val_loss: 0.0449 - val_mae: 0.1292\n",
      "Epoch 126/300\n",
      "546/546 [==============================] - 2s 3ms/step - loss: 0.0428 - mae: 0.1234 - val_loss: 0.0449 - val_mae: 0.1294\n",
      "Epoch 127/300\n",
      "546/546 [==============================] - 2s 3ms/step - loss: 0.0424 - mae: 0.1231 - val_loss: 0.0453 - val_mae: 0.1307\n",
      "Epoch 128/300\n",
      "546/546 [==============================] - 2s 4ms/step - loss: 0.0425 - mae: 0.1235 - val_loss: 0.0450 - val_mae: 0.1275\n",
      "Epoch 129/300\n",
      "546/546 [==============================] - 2s 3ms/step - loss: 0.0418 - mae: 0.1226 - val_loss: 0.0452 - val_mae: 0.1262\n",
      "Epoch 130/300\n",
      "546/546 [==============================] - 3s 5ms/step - loss: 0.0427 - mae: 0.1235 - val_loss: 0.0452 - val_mae: 0.1335\n",
      "Epoch 131/300\n",
      "546/546 [==============================] - 3s 5ms/step - loss: 0.0421 - mae: 0.1232 - val_loss: 0.0437 - val_mae: 0.1265\n",
      "Epoch 132/300\n",
      "546/546 [==============================] - 3s 5ms/step - loss: 0.0427 - mae: 0.1236 - val_loss: 0.0435 - val_mae: 0.1247\n",
      "Epoch 133/300\n",
      "546/546 [==============================] - 2s 4ms/step - loss: 0.0416 - mae: 0.1225 - val_loss: 0.0441 - val_mae: 0.1265\n",
      "Epoch 134/300\n",
      "546/546 [==============================] - 2s 3ms/step - loss: 0.0427 - mae: 0.1235 - val_loss: 0.0451 - val_mae: 0.1302\n",
      "Epoch 135/300\n",
      "546/546 [==============================] - 1s 3ms/step - loss: 0.0420 - mae: 0.1227 - val_loss: 0.0430 - val_mae: 0.1236\n",
      "Epoch 136/300\n",
      "546/546 [==============================] - 2s 3ms/step - loss: 0.0427 - mae: 0.1233 - val_loss: 0.0450 - val_mae: 0.1292\n",
      "Epoch 137/300\n",
      "546/546 [==============================] - 2s 3ms/step - loss: 0.0422 - mae: 0.1232 - val_loss: 0.0448 - val_mae: 0.1309\n",
      "Epoch 138/300\n",
      "546/546 [==============================] - 2s 4ms/step - loss: 0.0420 - mae: 0.1228 - val_loss: 0.0448 - val_mae: 0.1258\n",
      "Epoch 139/300\n",
      "546/546 [==============================] - 3s 6ms/step - loss: 0.0418 - mae: 0.1228 - val_loss: 0.0432 - val_mae: 0.1250\n",
      "Epoch 140/300\n",
      "546/546 [==============================] - 3s 6ms/step - loss: 0.0419 - mae: 0.1228 - val_loss: 0.0432 - val_mae: 0.1242\n",
      "Epoch 141/300\n",
      "546/546 [==============================] - 3s 5ms/step - loss: 0.0417 - mae: 0.1229 - val_loss: 0.0430 - val_mae: 0.1235\n",
      "Epoch 142/300\n",
      "546/546 [==============================] - 2s 4ms/step - loss: 0.0410 - mae: 0.1222 - val_loss: 0.0428 - val_mae: 0.1217\n",
      "Epoch 143/300\n",
      "546/546 [==============================] - 2s 3ms/step - loss: 0.0408 - mae: 0.1221 - val_loss: 0.0429 - val_mae: 0.1224\n",
      "Epoch 144/300\n",
      "546/546 [==============================] - 2s 3ms/step - loss: 0.0410 - mae: 0.1220 - val_loss: 0.0434 - val_mae: 0.1282\n",
      "Epoch 145/300\n",
      "546/546 [==============================] - 2s 3ms/step - loss: 0.0412 - mae: 0.1220 - val_loss: 0.0423 - val_mae: 0.1249\n",
      "Epoch 146/300\n",
      "546/546 [==============================] - 2s 3ms/step - loss: 0.0416 - mae: 0.1223 - val_loss: 0.0436 - val_mae: 0.1270\n",
      "Epoch 147/300\n",
      "546/546 [==============================] - 2s 4ms/step - loss: 0.0411 - mae: 0.1223 - val_loss: 0.0424 - val_mae: 0.1245\n",
      "Epoch 148/300\n",
      "546/546 [==============================] - 2s 4ms/step - loss: 0.0411 - mae: 0.1222 - val_loss: 0.0423 - val_mae: 0.1225\n",
      "Epoch 149/300\n",
      "546/546 [==============================] - 2s 4ms/step - loss: 0.0405 - mae: 0.1217 - val_loss: 0.0435 - val_mae: 0.1303\n",
      "Epoch 150/300\n",
      "546/546 [==============================] - 2s 3ms/step - loss: 0.0411 - mae: 0.1232 - val_loss: 0.0423 - val_mae: 0.1236\n",
      "Epoch 151/300\n",
      "546/546 [==============================] - 2s 3ms/step - loss: 0.0406 - mae: 0.1220 - val_loss: 0.0460 - val_mae: 0.1284\n",
      "Epoch 152/300\n",
      "546/546 [==============================] - 2s 3ms/step - loss: 0.0415 - mae: 0.1227 - val_loss: 0.0421 - val_mae: 0.1241\n",
      "Epoch 153/300\n",
      "546/546 [==============================] - 2s 4ms/step - loss: 0.0415 - mae: 0.1226 - val_loss: 0.0424 - val_mae: 0.1233\n",
      "Epoch 154/300\n",
      "546/546 [==============================] - 2s 3ms/step - loss: 0.0415 - mae: 0.1221 - val_loss: 0.0415 - val_mae: 0.1214\n",
      "Epoch 155/300\n",
      "546/546 [==============================] - 3s 6ms/step - loss: 0.0401 - mae: 0.1210 - val_loss: 0.0419 - val_mae: 0.1235\n",
      "Epoch 156/300\n",
      "546/546 [==============================] - 4s 7ms/step - loss: 0.0409 - mae: 0.1221 - val_loss: 0.0422 - val_mae: 0.1259\n",
      "Epoch 157/300\n",
      "546/546 [==============================] - 3s 5ms/step - loss: 0.0411 - mae: 0.1218 - val_loss: 0.0424 - val_mae: 0.1237\n",
      "Epoch 158/300\n",
      "546/546 [==============================] - 2s 4ms/step - loss: 0.0409 - mae: 0.1218 - val_loss: 0.0419 - val_mae: 0.1252\n",
      "Epoch 159/300\n",
      "546/546 [==============================] - 2s 4ms/step - loss: 0.0401 - mae: 0.1214 - val_loss: 0.0420 - val_mae: 0.1244\n",
      "Epoch 160/300\n",
      "546/546 [==============================] - 1s 3ms/step - loss: 0.0407 - mae: 0.1216 - val_loss: 0.0467 - val_mae: 0.1313\n",
      "Epoch 161/300\n",
      "546/546 [==============================] - 2s 4ms/step - loss: 0.0408 - mae: 0.1226 - val_loss: 0.0415 - val_mae: 0.1226\n",
      "Epoch 162/300\n",
      "546/546 [==============================] - 2s 4ms/step - loss: 0.0401 - mae: 0.1211 - val_loss: 0.0418 - val_mae: 0.1237\n",
      "Epoch 163/300\n",
      "546/546 [==============================] - 3s 6ms/step - loss: 0.0395 - mae: 0.1210 - val_loss: 0.0427 - val_mae: 0.1247\n",
      "Epoch 164/300\n",
      "546/546 [==============================] - 3s 6ms/step - loss: 0.0398 - mae: 0.1211 - val_loss: 0.0416 - val_mae: 0.1250\n",
      "Epoch 165/300\n",
      "546/546 [==============================] - 2s 4ms/step - loss: 0.0404 - mae: 0.1220 - val_loss: 0.0418 - val_mae: 0.1229\n",
      "Epoch 166/300\n",
      "546/546 [==============================] - 2s 4ms/step - loss: 0.0409 - mae: 0.1222 - val_loss: 0.0428 - val_mae: 0.1262\n",
      "Epoch 167/300\n",
      "546/546 [==============================] - 2s 5ms/step - loss: 0.0402 - mae: 0.1213 - val_loss: 0.0455 - val_mae: 0.1279\n",
      "Epoch 168/300\n",
      "546/546 [==============================] - 1s 2ms/step - loss: 0.0398 - mae: 0.1215 - val_loss: 0.0411 - val_mae: 0.1232\n",
      "Epoch 169/300\n",
      "546/546 [==============================] - 2s 4ms/step - loss: 0.0393 - mae: 0.1208 - val_loss: 0.0420 - val_mae: 0.1240\n",
      "Epoch 170/300\n",
      "546/546 [==============================] - 3s 5ms/step - loss: 0.0397 - mae: 0.1214 - val_loss: 0.0434 - val_mae: 0.1253\n",
      "Epoch 171/300\n",
      "546/546 [==============================] - 3s 6ms/step - loss: 0.0393 - mae: 0.1215 - val_loss: 0.0416 - val_mae: 0.1231\n",
      "Epoch 172/300\n",
      "546/546 [==============================] - 3s 5ms/step - loss: 0.0405 - mae: 0.1213 - val_loss: 0.0413 - val_mae: 0.1253\n",
      "Epoch 173/300\n",
      "546/546 [==============================] - 2s 4ms/step - loss: 0.0402 - mae: 0.1218 - val_loss: 0.0410 - val_mae: 0.1236\n",
      "Epoch 174/300\n",
      "546/546 [==============================] - 2s 4ms/step - loss: 0.0402 - mae: 0.1212 - val_loss: 0.0556 - val_mae: 0.1588\n",
      "Epoch 175/300\n",
      "546/546 [==============================] - 2s 4ms/step - loss: 0.0407 - mae: 0.1219 - val_loss: 0.0409 - val_mae: 0.1238\n",
      "Epoch 176/300\n",
      "546/546 [==============================] - 2s 3ms/step - loss: 0.0397 - mae: 0.1211 - val_loss: 0.0414 - val_mae: 0.1236\n",
      "Epoch 177/300\n",
      "546/546 [==============================] - 3s 5ms/step - loss: 0.0388 - mae: 0.1203 - val_loss: 0.0412 - val_mae: 0.1251\n",
      "Epoch 178/300\n",
      "546/546 [==============================] - 3s 5ms/step - loss: 0.0390 - mae: 0.1204 - val_loss: 0.0433 - val_mae: 0.1261\n",
      "Epoch 179/300\n",
      "546/546 [==============================] - 3s 6ms/step - loss: 0.0391 - mae: 0.1211 - val_loss: 0.0402 - val_mae: 0.1218\n",
      "Epoch 180/300\n",
      "546/546 [==============================] - 2s 5ms/step - loss: 0.0401 - mae: 0.1221 - val_loss: 0.0411 - val_mae: 0.1241\n",
      "Epoch 181/300\n",
      "546/546 [==============================] - 2s 3ms/step - loss: 0.0399 - mae: 0.1212 - val_loss: 0.0406 - val_mae: 0.1226\n",
      "Epoch 182/300\n",
      "546/546 [==============================] - 1s 3ms/step - loss: 0.0413 - mae: 0.1220 - val_loss: 0.0460 - val_mae: 0.1323\n",
      "Epoch 183/300\n",
      "546/546 [==============================] - 2s 4ms/step - loss: 0.0393 - mae: 0.1206 - val_loss: 0.0407 - val_mae: 0.1229\n",
      "Epoch 184/300\n",
      "546/546 [==============================] - 2s 3ms/step - loss: 0.0391 - mae: 0.1208 - val_loss: 0.0409 - val_mae: 0.1264\n",
      "Epoch 185/300\n",
      "546/546 [==============================] - 2s 4ms/step - loss: 0.0392 - mae: 0.1211 - val_loss: 0.0402 - val_mae: 0.1223\n",
      "Epoch 186/300\n",
      "546/546 [==============================] - 3s 6ms/step - loss: 0.0392 - mae: 0.1205 - val_loss: 0.0416 - val_mae: 0.1290\n",
      "Epoch 187/300\n",
      "546/546 [==============================] - 3s 5ms/step - loss: 0.0391 - mae: 0.1206 - val_loss: 0.0437 - val_mae: 0.1273\n",
      "Epoch 188/300\n",
      "546/546 [==============================] - 3s 5ms/step - loss: 0.0398 - mae: 0.1212 - val_loss: 0.0406 - val_mae: 0.1225\n",
      "Epoch 189/300\n",
      "546/546 [==============================] - 2s 4ms/step - loss: 0.0392 - mae: 0.1208 - val_loss: 0.0401 - val_mae: 0.1235\n",
      "Epoch 190/300\n",
      "546/546 [==============================] - 2s 4ms/step - loss: 0.0387 - mae: 0.1204 - val_loss: 0.0413 - val_mae: 0.1255\n",
      "Epoch 191/300\n",
      "546/546 [==============================] - 2s 4ms/step - loss: 0.0381 - mae: 0.1202 - val_loss: 0.0413 - val_mae: 0.1220\n",
      "Epoch 192/300\n",
      "546/546 [==============================] - 2s 4ms/step - loss: 0.0386 - mae: 0.1203 - val_loss: 0.0407 - val_mae: 0.1234\n",
      "Epoch 193/300\n",
      "546/546 [==============================] - 3s 5ms/step - loss: 0.0387 - mae: 0.1213 - val_loss: 0.0400 - val_mae: 0.1213\n",
      "Epoch 194/300\n",
      "546/546 [==============================] - 3s 5ms/step - loss: 0.0406 - mae: 0.1218 - val_loss: 0.0404 - val_mae: 0.1238\n",
      "Epoch 195/300\n",
      "546/546 [==============================] - 3s 5ms/step - loss: 0.0391 - mae: 0.1203 - val_loss: 0.0401 - val_mae: 0.1236\n",
      "Epoch 196/300\n",
      "546/546 [==============================] - 2s 4ms/step - loss: 0.0385 - mae: 0.1200 - val_loss: 0.0527 - val_mae: 0.1482\n",
      "Epoch 197/300\n",
      "546/546 [==============================] - 2s 3ms/step - loss: 0.0387 - mae: 0.1212 - val_loss: 0.0413 - val_mae: 0.1268\n",
      "Epoch 198/300\n",
      "546/546 [==============================] - 2s 3ms/step - loss: 0.0388 - mae: 0.1211 - val_loss: 0.0414 - val_mae: 0.1293\n",
      "Epoch 199/300\n",
      "546/546 [==============================] - 2s 4ms/step - loss: 0.0389 - mae: 0.1211 - val_loss: 0.0413 - val_mae: 0.1268\n",
      "Epoch 200/300\n",
      "546/546 [==============================] - 2s 4ms/step - loss: 0.0390 - mae: 0.1206 - val_loss: 0.0403 - val_mae: 0.1253\n",
      "Epoch 201/300\n",
      "546/546 [==============================] - 3s 5ms/step - loss: 0.0385 - mae: 0.1201 - val_loss: 0.0408 - val_mae: 0.1276\n",
      "Epoch 202/300\n",
      "546/546 [==============================] - 3s 5ms/step - loss: 0.0385 - mae: 0.1208 - val_loss: 0.0394 - val_mae: 0.1220\n",
      "Epoch 203/300\n",
      "546/546 [==============================] - 3s 5ms/step - loss: 0.0378 - mae: 0.1197 - val_loss: 0.0400 - val_mae: 0.1216\n",
      "Epoch 204/300\n",
      "546/546 [==============================] - 2s 4ms/step - loss: 0.0388 - mae: 0.1213 - val_loss: 0.0423 - val_mae: 0.1314\n",
      "Epoch 205/300\n",
      "546/546 [==============================] - 2s 3ms/step - loss: 0.0395 - mae: 0.1208 - val_loss: 0.0407 - val_mae: 0.1219\n",
      "Epoch 206/300\n",
      "546/546 [==============================] - 2s 4ms/step - loss: 0.0388 - mae: 0.1207 - val_loss: 0.0400 - val_mae: 0.1231\n",
      "Epoch 207/300\n",
      "546/546 [==============================] - 2s 4ms/step - loss: 0.0381 - mae: 0.1201 - val_loss: 0.0389 - val_mae: 0.1200\n",
      "Epoch 208/300\n",
      "546/546 [==============================] - 2s 4ms/step - loss: 0.0383 - mae: 0.1203 - val_loss: 0.0412 - val_mae: 0.1262\n",
      "Epoch 209/300\n",
      "546/546 [==============================] - 2s 4ms/step - loss: 0.0378 - mae: 0.1197 - val_loss: 0.0389 - val_mae: 0.1206\n",
      "Epoch 210/300\n",
      "546/546 [==============================] - 3s 5ms/step - loss: 0.0391 - mae: 0.1207 - val_loss: 0.0397 - val_mae: 0.1247\n",
      "Epoch 211/300\n",
      "546/546 [==============================] - 3s 6ms/step - loss: 0.0386 - mae: 0.1214 - val_loss: 0.0394 - val_mae: 0.1200\n",
      "Epoch 212/300\n",
      "546/546 [==============================] - 2s 4ms/step - loss: 0.0389 - mae: 0.1208 - val_loss: 0.0410 - val_mae: 0.1280\n",
      "Epoch 213/300\n",
      "546/546 [==============================] - 2s 4ms/step - loss: 0.0386 - mae: 0.1210 - val_loss: 0.0392 - val_mae: 0.1204\n",
      "Epoch 214/300\n",
      "546/546 [==============================] - 2s 4ms/step - loss: 0.0399 - mae: 0.1222 - val_loss: 0.0395 - val_mae: 0.1238\n",
      "Epoch 215/300\n",
      "546/546 [==============================] - 2s 3ms/step - loss: 0.0382 - mae: 0.1207 - val_loss: 0.0392 - val_mae: 0.1233\n",
      "Epoch 216/300\n",
      "546/546 [==============================] - 3s 5ms/step - loss: 0.0379 - mae: 0.1198 - val_loss: 0.0390 - val_mae: 0.1228\n",
      "Epoch 217/300\n",
      "546/546 [==============================] - 3s 5ms/step - loss: 0.0373 - mae: 0.1193 - val_loss: 0.0387 - val_mae: 0.1212\n",
      "Epoch 218/300\n",
      "546/546 [==============================] - 3s 6ms/step - loss: 0.0385 - mae: 0.1208 - val_loss: 0.0399 - val_mae: 0.1230\n",
      "Epoch 219/300\n",
      "546/546 [==============================] - 3s 5ms/step - loss: 0.0386 - mae: 0.1202 - val_loss: 0.0388 - val_mae: 0.1204\n",
      "Epoch 220/300\n",
      "546/546 [==============================] - 2s 3ms/step - loss: 0.0381 - mae: 0.1197 - val_loss: 0.0389 - val_mae: 0.1207\n",
      "Epoch 221/300\n",
      "546/546 [==============================] - 2s 3ms/step - loss: 0.0375 - mae: 0.1199 - val_loss: 0.0402 - val_mae: 0.1268\n",
      "Epoch 222/300\n",
      "546/546 [==============================] - 2s 3ms/step - loss: 0.0375 - mae: 0.1198 - val_loss: 0.0394 - val_mae: 0.1247\n",
      "Epoch 223/300\n",
      "546/546 [==============================] - 2s 4ms/step - loss: 0.0376 - mae: 0.1200 - val_loss: 0.0393 - val_mae: 0.1209\n",
      "Epoch 224/300\n",
      "546/546 [==============================] - 2s 4ms/step - loss: 0.0387 - mae: 0.1205 - val_loss: 0.0392 - val_mae: 0.1208\n",
      "Epoch 225/300\n",
      "546/546 [==============================] - 4s 6ms/step - loss: 0.0383 - mae: 0.1202 - val_loss: 0.0398 - val_mae: 0.1267\n",
      "Epoch 226/300\n",
      "546/546 [==============================] - 3s 5ms/step - loss: 0.0383 - mae: 0.1204 - val_loss: 0.0396 - val_mae: 0.1265\n",
      "Epoch 227/300\n",
      "546/546 [==============================] - 2s 4ms/step - loss: 0.0377 - mae: 0.1200 - val_loss: 0.0386 - val_mae: 0.1225\n",
      "Epoch 228/300\n",
      "546/546 [==============================] - 2s 4ms/step - loss: 0.0377 - mae: 0.1196 - val_loss: 0.0403 - val_mae: 0.1224\n",
      "Epoch 229/300\n",
      "546/546 [==============================] - 1s 2ms/step - loss: 0.0374 - mae: 0.1197 - val_loss: 0.0392 - val_mae: 0.1263\n",
      "Epoch 230/300\n",
      "546/546 [==============================] - 2s 3ms/step - loss: 0.0384 - mae: 0.1200 - val_loss: 0.0424 - val_mae: 0.1295\n",
      "Epoch 231/300\n",
      "546/546 [==============================] - 2s 4ms/step - loss: 0.0381 - mae: 0.1202 - val_loss: 0.0387 - val_mae: 0.1228\n",
      "Epoch 232/300\n",
      "546/546 [==============================] - 2s 5ms/step - loss: 0.0378 - mae: 0.1204 - val_loss: 0.0397 - val_mae: 0.1251\n",
      "Epoch 233/300\n",
      "546/546 [==============================] - 3s 6ms/step - loss: 0.0370 - mae: 0.1192 - val_loss: 0.0386 - val_mae: 0.1223\n",
      "Epoch 234/300\n",
      "546/546 [==============================] - 3s 5ms/step - loss: 0.0373 - mae: 0.1191 - val_loss: 0.0395 - val_mae: 0.1220\n",
      "Epoch 235/300\n",
      "546/546 [==============================] - 2s 5ms/step - loss: 0.0373 - mae: 0.1200 - val_loss: 0.0386 - val_mae: 0.1215\n",
      "Epoch 236/300\n",
      "546/546 [==============================] - 2s 3ms/step - loss: 0.0391 - mae: 0.1209 - val_loss: 0.0396 - val_mae: 0.1256\n",
      "Epoch 237/300\n",
      "546/546 [==============================] - 2s 3ms/step - loss: 0.0380 - mae: 0.1199 - val_loss: 0.0396 - val_mae: 0.1218\n",
      "Epoch 238/300\n",
      "546/546 [==============================] - 2s 4ms/step - loss: 0.0387 - mae: 0.1205 - val_loss: 0.0392 - val_mae: 0.1243\n",
      "Epoch 239/300\n",
      "546/546 [==============================] - 2s 4ms/step - loss: 0.0379 - mae: 0.1203 - val_loss: 0.0399 - val_mae: 0.1287\n",
      "Epoch 240/300\n",
      "546/546 [==============================] - 2s 3ms/step - loss: 0.0381 - mae: 0.1205 - val_loss: 0.0398 - val_mae: 0.1283\n",
      "Epoch 241/300\n",
      "546/546 [==============================] - 3s 6ms/step - loss: 0.0381 - mae: 0.1205 - val_loss: 0.0381 - val_mae: 0.1207\n",
      "Epoch 242/300\n",
      "546/546 [==============================] - 3s 5ms/step - loss: 0.0379 - mae: 0.1203 - val_loss: 0.0385 - val_mae: 0.1235\n",
      "Epoch 243/300\n",
      "546/546 [==============================] - 2s 4ms/step - loss: 0.0373 - mae: 0.1196 - val_loss: 0.0493 - val_mae: 0.1384\n",
      "Epoch 244/300\n",
      "546/546 [==============================] - 2s 4ms/step - loss: 0.0385 - mae: 0.1211 - val_loss: 0.0390 - val_mae: 0.1259\n",
      "Epoch 245/300\n",
      "546/546 [==============================] - 2s 3ms/step - loss: 0.0373 - mae: 0.1199 - val_loss: 0.0408 - val_mae: 0.1262\n",
      "Epoch 246/300\n",
      "546/546 [==============================] - 2s 3ms/step - loss: 0.0376 - mae: 0.1200 - val_loss: 0.0402 - val_mae: 0.1288\n",
      "Epoch 247/300\n",
      "546/546 [==============================] - 2s 3ms/step - loss: 0.0380 - mae: 0.1207 - val_loss: 0.0385 - val_mae: 0.1234\n",
      "Epoch 248/300\n",
      "546/546 [==============================] - 1s 3ms/step - loss: 0.0374 - mae: 0.1195 - val_loss: 0.0381 - val_mae: 0.1209\n",
      "Epoch 249/300\n",
      "546/546 [==============================] - 2s 3ms/step - loss: 0.0370 - mae: 0.1199 - val_loss: 0.0389 - val_mae: 0.1240\n",
      "Epoch 250/300\n",
      "546/546 [==============================] - 2s 4ms/step - loss: 0.0374 - mae: 0.1198 - val_loss: 0.0389 - val_mae: 0.1231\n",
      "Epoch 251/300\n",
      "546/546 [==============================] - 3s 5ms/step - loss: 0.0376 - mae: 0.1197 - val_loss: 0.0380 - val_mae: 0.1214\n",
      "Epoch 252/300\n",
      "546/546 [==============================] - 2s 4ms/step - loss: 0.0379 - mae: 0.1200 - val_loss: 0.0380 - val_mae: 0.1191\n",
      "Epoch 253/300\n",
      "546/546 [==============================] - 2s 3ms/step - loss: 0.0368 - mae: 0.1190 - val_loss: 0.0395 - val_mae: 0.1270\n",
      "Epoch 254/300\n",
      "546/546 [==============================] - 2s 3ms/step - loss: 0.0377 - mae: 0.1203 - val_loss: 0.0394 - val_mae: 0.1238\n",
      "Epoch 255/300\n",
      "546/546 [==============================] - 2s 4ms/step - loss: 0.0383 - mae: 0.1204 - val_loss: 0.0384 - val_mae: 0.1191\n",
      "Epoch 256/300\n",
      "546/546 [==============================] - 2s 3ms/step - loss: 0.0375 - mae: 0.1191 - val_loss: 0.0385 - val_mae: 0.1233\n",
      "Epoch 257/300\n",
      "546/546 [==============================] - 2s 4ms/step - loss: 0.0374 - mae: 0.1196 - val_loss: 0.0401 - val_mae: 0.1211\n",
      "Epoch 258/300\n",
      "546/546 [==============================] - 2s 4ms/step - loss: 0.0372 - mae: 0.1197 - val_loss: 0.0391 - val_mae: 0.1276\n",
      "Epoch 259/300\n",
      "546/546 [==============================] - 2s 4ms/step - loss: 0.0370 - mae: 0.1196 - val_loss: 0.0383 - val_mae: 0.1213\n",
      "Epoch 260/300\n",
      "546/546 [==============================] - 2s 4ms/step - loss: 0.0383 - mae: 0.1212 - val_loss: 0.0379 - val_mae: 0.1208\n",
      "Epoch 261/300\n",
      "546/546 [==============================] - 2s 4ms/step - loss: 0.0375 - mae: 0.1195 - val_loss: 0.0423 - val_mae: 0.1283\n",
      "Epoch 262/300\n",
      "546/546 [==============================] - 2s 3ms/step - loss: 0.0380 - mae: 0.1201 - val_loss: 0.0383 - val_mae: 0.1206\n",
      "Epoch 263/300\n",
      "546/546 [==============================] - 2s 3ms/step - loss: 0.0369 - mae: 0.1192 - val_loss: 0.0381 - val_mae: 0.1216\n",
      "Epoch 264/300\n",
      "546/546 [==============================] - 2s 3ms/step - loss: 0.0376 - mae: 0.1199 - val_loss: 0.0386 - val_mae: 0.1216\n",
      "Epoch 265/300\n",
      "546/546 [==============================] - 1s 2ms/step - loss: 0.0372 - mae: 0.1195 - val_loss: 0.0384 - val_mae: 0.1249\n",
      "Epoch 266/300\n",
      "546/546 [==============================] - 1s 2ms/step - loss: 0.0384 - mae: 0.1207 - val_loss: 0.0407 - val_mae: 0.1242\n",
      "Epoch 267/300\n",
      "546/546 [==============================] - 1s 3ms/step - loss: 0.0379 - mae: 0.1203 - val_loss: 0.0387 - val_mae: 0.1222\n",
      "Epoch 268/300\n",
      "546/546 [==============================] - 2s 4ms/step - loss: 0.0367 - mae: 0.1191 - val_loss: 0.0433 - val_mae: 0.1363\n",
      "Epoch 269/300\n",
      "546/546 [==============================] - 2s 4ms/step - loss: 0.0367 - mae: 0.1196 - val_loss: 0.0396 - val_mae: 0.1272\n",
      "Epoch 270/300\n",
      "546/546 [==============================] - 3s 5ms/step - loss: 0.0373 - mae: 0.1199 - val_loss: 0.0381 - val_mae: 0.1246\n",
      "Epoch 271/300\n",
      "546/546 [==============================] - 2s 3ms/step - loss: 0.0379 - mae: 0.1202 - val_loss: 0.0380 - val_mae: 0.1226\n",
      "Epoch 272/300\n",
      "546/546 [==============================] - 1s 3ms/step - loss: 0.0377 - mae: 0.1201 - val_loss: 0.0385 - val_mae: 0.1235\n",
      "Epoch 273/300\n",
      "546/546 [==============================] - 1s 3ms/step - loss: 0.0369 - mae: 0.1197 - val_loss: 0.0401 - val_mae: 0.1227\n",
      "Epoch 274/300\n",
      "546/546 [==============================] - 2s 3ms/step - loss: 0.0371 - mae: 0.1198 - val_loss: 0.0393 - val_mae: 0.1293\n",
      "Epoch 275/300\n",
      "546/546 [==============================] - 1s 3ms/step - loss: 0.0369 - mae: 0.1190 - val_loss: 0.0377 - val_mae: 0.1199\n",
      "Epoch 276/300\n",
      "546/546 [==============================] - 2s 3ms/step - loss: 0.0374 - mae: 0.1197 - val_loss: 0.0375 - val_mae: 0.1202\n",
      "Epoch 277/300\n",
      "546/546 [==============================] - 2s 3ms/step - loss: 0.0368 - mae: 0.1197 - val_loss: 0.0383 - val_mae: 0.1233\n",
      "Epoch 278/300\n",
      "546/546 [==============================] - 2s 4ms/step - loss: 0.0370 - mae: 0.1197 - val_loss: 0.0396 - val_mae: 0.1241\n",
      "Epoch 279/300\n",
      "546/546 [==============================] - 3s 5ms/step - loss: 0.0367 - mae: 0.1191 - val_loss: 0.0380 - val_mae: 0.1227\n",
      "Epoch 280/300\n",
      "546/546 [==============================] - 3s 5ms/step - loss: 0.0372 - mae: 0.1194 - val_loss: 0.0384 - val_mae: 0.1246\n",
      "Epoch 281/300\n",
      "546/546 [==============================] - 1s 3ms/step - loss: 0.0366 - mae: 0.1195 - val_loss: 0.0393 - val_mae: 0.1259\n",
      "Epoch 282/300\n",
      "546/546 [==============================] - 1s 2ms/step - loss: 0.0371 - mae: 0.1196 - val_loss: 0.0492 - val_mae: 0.1497\n",
      "Epoch 283/300\n",
      "546/546 [==============================] - 1s 3ms/step - loss: 0.0379 - mae: 0.1206 - val_loss: 0.0377 - val_mae: 0.1212\n",
      "Epoch 284/300\n",
      "546/546 [==============================] - 2s 3ms/step - loss: 0.0372 - mae: 0.1194 - val_loss: 0.0378 - val_mae: 0.1218\n",
      "Epoch 285/300\n",
      "546/546 [==============================] - 2s 3ms/step - loss: 0.0361 - mae: 0.1188 - val_loss: 0.0400 - val_mae: 0.1325\n",
      "Epoch 286/300\n",
      "546/546 [==============================] - 2s 3ms/step - loss: 0.0367 - mae: 0.1195 - val_loss: 0.0383 - val_mae: 0.1244\n",
      "Epoch 287/300\n",
      "546/546 [==============================] - 2s 3ms/step - loss: 0.0381 - mae: 0.1196 - val_loss: 0.0377 - val_mae: 0.1207\n",
      "Epoch 288/300\n",
      "546/546 [==============================] - 2s 4ms/step - loss: 0.0380 - mae: 0.1199 - val_loss: 0.0395 - val_mae: 0.1277\n",
      "Epoch 289/300\n",
      "546/546 [==============================] - 2s 4ms/step - loss: 0.0369 - mae: 0.1194 - val_loss: 0.0385 - val_mae: 0.1201\n",
      "Epoch 290/300\n",
      "546/546 [==============================] - 2s 3ms/step - loss: 0.0373 - mae: 0.1200 - val_loss: 0.0382 - val_mae: 0.1224\n",
      "Epoch 291/300\n",
      "546/546 [==============================] - 2s 3ms/step - loss: 0.0364 - mae: 0.1190 - val_loss: 0.0372 - val_mae: 0.1190\n",
      "Epoch 292/300\n",
      "546/546 [==============================] - 1s 2ms/step - loss: 0.0375 - mae: 0.1196 - val_loss: 0.0389 - val_mae: 0.1278\n",
      "Epoch 293/300\n",
      "546/546 [==============================] - 1s 3ms/step - loss: 0.0379 - mae: 0.1206 - val_loss: 0.0374 - val_mae: 0.1201\n",
      "Epoch 294/300\n",
      "546/546 [==============================] - 1s 2ms/step - loss: 0.0377 - mae: 0.1198 - val_loss: 0.0372 - val_mae: 0.1208\n",
      "Epoch 295/300\n",
      "546/546 [==============================] - 1s 3ms/step - loss: 0.0361 - mae: 0.1187 - val_loss: 0.0374 - val_mae: 0.1212\n",
      "Epoch 296/300\n",
      "546/546 [==============================] - 1s 2ms/step - loss: 0.0368 - mae: 0.1194 - val_loss: 0.0378 - val_mae: 0.1225\n",
      "Epoch 297/300\n",
      "546/546 [==============================] - 1s 2ms/step - loss: 0.0371 - mae: 0.1196 - val_loss: 0.0397 - val_mae: 0.1275\n",
      "Epoch 298/300\n",
      "546/546 [==============================] - 2s 3ms/step - loss: 0.0382 - mae: 0.1209 - val_loss: 0.0377 - val_mae: 0.1232\n",
      "Epoch 299/300\n",
      "546/546 [==============================] - 2s 4ms/step - loss: 0.0370 - mae: 0.1193 - val_loss: 0.0387 - val_mae: 0.1197\n",
      "Epoch 300/300\n",
      "546/546 [==============================] - 2s 4ms/step - loss: 0.0377 - mae: 0.1197 - val_loss: 0.0414 - val_mae: 0.1265\n",
      "Training time: 602.6319124698639\n"
     ]
    }
   ],
   "source": [
    "#train model and perform validation test\n",
    "import time\n",
    "early_stop = EarlyStopping(monitor='val_loss', patience=15) # stops training when it doesn't show improvemnet.\n",
    "t0 = time.time()\n",
    "history = model2.fit(X_train, y_train, epochs=300,\n",
    "          validation_data=(X_cv,y_cv), verbose=1, callbacks=[early_stop])\n",
    "print(\"Training time:\", time.time()-t0)"
   ]
  },
  {
   "cell_type": "code",
   "execution_count": null,
   "metadata": {
    "colab": {
     "base_uri": "https://localhost:8080/",
     "height": 736
    },
    "id": "ruR8lVSrb986",
    "outputId": "2c116753-7d4f-4152-b094-766738c3cf40"
   },
   "outputs": [
    {
     "data": {
      "text/plain": [
       "<matplotlib.legend.Legend at 0x7fd7a40ab370>"
      ]
     },
     "execution_count": 88,
     "metadata": {},
     "output_type": "execute_result"
    },
    {
     "data": {
      "image/png": "[encoded data removed]",
      "text/plain": [
       "<Figure size 1500x800 with 1 Axes>"
      ]
     },
     "metadata": {},
     "output_type": "display_data"
    }
   ],
   "source": [
    "# show the graph of model loss in trainig and validation\n",
    "\n",
    "plt.figure(figsize=(15,8))\n",
    "plt.xlabel('Epoch')\n",
    "plt.ylabel('Mean Square Error')\n",
    "plt.plot(history.epoch, history.history['loss'],\n",
    "           label='Train Loss')\n",
    "plt.plot(history.epoch, history.history['val_loss'],\n",
    "           label = 'Val loss')\n",
    "plt.title('Model loss')\n",
    "plt.legend()"
   ]
  },
  {
   "cell_type": "code",
   "execution_count": null,
   "metadata": {
    "colab": {
     "base_uri": "https://localhost:8080/"
    },
    "id": "DrgYpU4rcLRf",
    "outputId": "fd0e32fb-665d-4128-dac5-a81ae42edcfb"
   },
   "outputs": [
    {
     "name": "stdout",
     "output_type": "stream",
     "text": [
      "546/546 [==============================] - 1s 3ms/step - loss: 0.0395 - mae: 0.1241\n",
      "Mean square error:  0.039515018463134766\n",
      "Root Mean square error:  0.1987838485972509\n",
      "Mean absolute error:  0.12411484867334366\n"
     ]
    }
   ],
   "source": [
    "#check the model performace in test dataset\n",
    "score = model2.evaluate(X_train, y_train, verbose=1)\n",
    "\n",
    "print('Mean square error: ', score[0])\n",
    "\n",
    "print('Root Mean square error: ', np.sqrt(score[0]))\n",
    "print('Mean absolute error: ', score[1])"
   ]
  },
  {
   "cell_type": "code",
   "execution_count": null,
   "metadata": {
    "colab": {
     "base_uri": "https://localhost:8080/"
    },
    "id": "77YovGG-cO0g",
    "outputId": "d2a943fd-8e46-4294-ad50-9d24cb2d10c3"
   },
   "outputs": [
    {
     "name": "stdout",
     "output_type": "stream",
     "text": [
      "117/117 [==============================] - 0s 2ms/step - loss: 0.0392 - mae: 0.1264\n",
      "Mean square error:  0.03920720890164375\n",
      "Root Mean square error:  0.19800810312116965\n",
      "Mean absolute error:  0.12638533115386963\n"
     ]
    }
   ],
   "source": [
    "#check the model performace in test dataset\n",
    "score = model2.evaluate(X_test, y_test, verbose=1)\n",
    "\n",
    "print('Mean square error: ', score[0])\n",
    "\n",
    "print('Root Mean square error: ', np.sqrt(score[0]))\n",
    "print('Mean absolute error: ', score[1])"
   ]
  },
  {
   "cell_type": "code",
   "execution_count": null,
   "metadata": {
    "colab": {
     "base_uri": "https://localhost:8080/"
    },
    "id": "m2ydN8RRyvwh",
    "outputId": "66a92f39-64eb-49d8-92b4-14126b88a0e6"
   },
   "outputs": [
    {
     "name": "stdout",
     "output_type": "stream",
     "text": [
      "234/234 [==============================] - 0s 2ms/step\n",
      "The model performance for testing set\n",
      "--------------------------------------\n",
      "MSE is 0.04027978772557373\n",
      "RMSE is 0.20069825042977762\n",
      "R2 score is 0.9598371213663122\n",
      "SMAPE score is 27.64\n"
     ]
    }
   ],
   "source": [
    "# model evaluation for testing set\n",
    "y_test_predict = model2.predict(X_)\n",
    "mse = (mean_squared_error(y_, y_test_predict))\n",
    "rmse=  np.sqrt(mse)\n",
    "r2 = r2_score(y_, y_test_predict)\n",
    "smape=calculate_smape(y_, y_test_predict)\n",
    "\n",
    "print(\"The model performance for testing set\")\n",
    "print(\"--------------------------------------\")\n",
    "print('MSE is {}'.format(mse))\n",
    "print('RMSE is {}'.format(rmse))\n",
    "print('R2 score is {}'.format(r2))\n",
    "print('SMAPE score is {}'.format(smape))\n"
   ]
  },
  {
   "cell_type": "code",
   "execution_count": null,
   "metadata": {
    "colab": {
     "base_uri": "https://localhost:8080/"
    },
    "id": "3V_PvhiXv8OH",
    "outputId": "c92f27c5-1ad0-4152-d7dd-6825777d82c6"
   },
   "outputs": [
    {
     "name": "stdout",
     "output_type": "stream",
     "text": [
      "MAPE score is 0.5698728728333317\n"
     ]
    }
   ],
   "source": [
    "from sklearn.metrics import mean_absolute_percentage_error\n",
    "mape = mean_absolute_percentage_error(y_,y_test_predict)\n",
    "print('MAPE score is {}'.format(mape))"
   ]
  },
  {
   "cell_type": "markdown",
   "metadata": {
    "id": "hD8THV38boKz"
   },
   "source": [
    "model3"
   ]
  },
  {
   "cell_type": "code",
   "execution_count": null,
   "metadata": {
    "id": "ilpM0xFXbbPX"
   },
   "outputs": [],
   "source": [
    "#get number of columns in training data\n",
    "n_cols = X_train.shape[1]\n",
    "\n",
    "# builds model\n",
    "model3 = Sequential()\n",
    "\n",
    "model3.add(Dense(393, activation='relu',input_shape=(n_cols,)))\n",
    "model3.add(Dense(79, activation='relu'))\n",
    "\n",
    "model3.add(Dense(1,activation='linear'))"
   ]
  },
  {
   "cell_type": "code",
   "execution_count": null,
   "metadata": {
    "id": "ADX5XUMSbmq-"
   },
   "outputs": [],
   "source": [
    "#compile model\n",
    "model3.compile(loss='mse', optimizer='adam', metrics=['mae']) # use metric as mean absolute error"
   ]
  },
  {
   "cell_type": "code",
   "execution_count": null,
   "metadata": {
    "colab": {
     "base_uri": "https://localhost:8080/"
    },
    "id": "qNsDuNmJb0Ht",
    "outputId": "832437d2-4eb4-4f33-a62f-aa9ee231ba8f"
   },
   "outputs": [
    {
     "name": "stdout",
     "output_type": "stream",
     "text": [
      "Model: \"sequential_3\"\n",
      "_________________________________________________________________\n",
      " Layer (type)                Output Shape              Param #   \n",
      "=================================================================\n",
      " dense_10 (Dense)            (None, 393)               4323      \n",
      "                                                                 \n",
      " dense_11 (Dense)            (None, 79)                31126     \n",
      "                                                                 \n",
      " dense_12 (Dense)            (None, 1)                 80        \n",
      "                                                                 \n",
      "=================================================================\n",
      "Total params: 35529 (138.79 KB)\n",
      "Trainable params: 35529 (138.79 KB)\n",
      "Non-trainable params: 0 (0.00 Byte)\n",
      "_________________________________________________________________\n"
     ]
    }
   ],
   "source": [
    "#inspect the model\n",
    "model3.summary()"
   ]
  },
  {
   "cell_type": "code",
   "execution_count": null,
   "metadata": {
    "colab": {
     "base_uri": "https://localhost:8080/"
    },
    "id": "swYCPfe1b5l0",
    "outputId": "19671bdf-d0f3-4394-f913-4e9ae9509c41"
   },
   "outputs": [
    {
     "name": "stdout",
     "output_type": "stream",
     "text": [
      "Epoch 1/300\n",
      "546/546 [==============================] - 3s 4ms/step - loss: 0.1061 - mae: 0.1794 - val_loss: 0.0703 - val_mae: 0.1579\n",
      "Epoch 2/300\n",
      "546/546 [==============================] - 2s 3ms/step - loss: 0.0680 - mae: 0.1532 - val_loss: 0.0730 - val_mae: 0.1564\n",
      "Epoch 3/300\n",
      "546/546 [==============================] - 2s 3ms/step - loss: 0.0666 - mae: 0.1476 - val_loss: 0.0771 - val_mae: 0.1636\n",
      "Epoch 4/300\n",
      "546/546 [==============================] - 2s 3ms/step - loss: 0.0576 - mae: 0.1362 - val_loss: 0.0517 - val_mae: 0.1309\n",
      "Epoch 5/300\n",
      "546/546 [==============================] - 3s 5ms/step - loss: 0.0605 - mae: 0.1266 - val_loss: 0.0460 - val_mae: 0.1260\n",
      "Epoch 6/300\n",
      "546/546 [==============================] - 3s 5ms/step - loss: 0.0468 - mae: 0.1147 - val_loss: 0.0367 - val_mae: 0.1101\n",
      "Epoch 7/300\n",
      "546/546 [==============================] - 2s 4ms/step - loss: 0.0353 - mae: 0.1089 - val_loss: 0.0343 - val_mae: 0.1094\n",
      "Epoch 8/300\n",
      "546/546 [==============================] - 1s 3ms/step - loss: 0.0298 - mae: 0.1025 - val_loss: 0.0309 - val_mae: 0.1045\n",
      "Epoch 9/300\n",
      "546/546 [==============================] - 1s 3ms/step - loss: 0.0304 - mae: 0.1031 - val_loss: 0.0289 - val_mae: 0.1005\n",
      "Epoch 10/300\n",
      "546/546 [==============================] - 2s 3ms/step - loss: 0.0270 - mae: 0.0980 - val_loss: 0.0309 - val_mae: 0.1005\n",
      "Epoch 11/300\n",
      "546/546 [==============================] - 2s 3ms/step - loss: 0.0266 - mae: 0.0975 - val_loss: 0.0265 - val_mae: 0.0952\n",
      "Epoch 12/300\n",
      "546/546 [==============================] - 2s 3ms/step - loss: 0.0257 - mae: 0.0955 - val_loss: 0.0265 - val_mae: 0.0990\n",
      "Epoch 13/300\n",
      "546/546 [==============================] - 2s 4ms/step - loss: 0.0268 - mae: 0.0962 - val_loss: 0.0250 - val_mae: 0.0946\n",
      "Epoch 14/300\n",
      "546/546 [==============================] - 3s 5ms/step - loss: 0.0261 - mae: 0.0953 - val_loss: 0.0251 - val_mae: 0.0990\n",
      "Epoch 15/300\n",
      "546/546 [==============================] - 2s 5ms/step - loss: 0.0352 - mae: 0.0965 - val_loss: 0.0332 - val_mae: 0.1037\n",
      "Epoch 16/300\n",
      "546/546 [==============================] - 2s 3ms/step - loss: 0.0250 - mae: 0.0922 - val_loss: 0.0262 - val_mae: 0.0944\n",
      "Epoch 17/300\n",
      "546/546 [==============================] - 2s 3ms/step - loss: 0.0228 - mae: 0.0895 - val_loss: 0.0255 - val_mae: 0.0932\n",
      "Epoch 18/300\n",
      "546/546 [==============================] - 2s 3ms/step - loss: 0.0237 - mae: 0.0903 - val_loss: 0.0244 - val_mae: 0.0908\n",
      "Epoch 19/300\n",
      "546/546 [==============================] - 2s 3ms/step - loss: 0.0215 - mae: 0.0876 - val_loss: 0.0250 - val_mae: 0.0936\n",
      "Epoch 20/300\n",
      "546/546 [==============================] - 2s 3ms/step - loss: 0.0215 - mae: 0.0871 - val_loss: 0.0240 - val_mae: 0.0890\n",
      "Epoch 21/300\n",
      "546/546 [==============================] - 2s 4ms/step - loss: 0.0213 - mae: 0.0865 - val_loss: 0.0256 - val_mae: 0.0923\n",
      "Epoch 22/300\n",
      "546/546 [==============================] - 3s 5ms/step - loss: 0.0207 - mae: 0.0860 - val_loss: 0.0217 - val_mae: 0.0867\n",
      "Epoch 23/300\n",
      "546/546 [==============================] - 3s 5ms/step - loss: 0.0205 - mae: 0.0853 - val_loss: 0.0235 - val_mae: 0.0925\n",
      "Epoch 24/300\n",
      "546/546 [==============================] - 2s 3ms/step - loss: 0.0198 - mae: 0.0841 - val_loss: 0.0215 - val_mae: 0.0892\n",
      "Epoch 25/300\n",
      "546/546 [==============================] - 2s 3ms/step - loss: 0.0218 - mae: 0.0862 - val_loss: 0.0228 - val_mae: 0.0872\n",
      "Epoch 26/300\n",
      "546/546 [==============================] - 2s 3ms/step - loss: 0.0201 - mae: 0.0836 - val_loss: 0.0233 - val_mae: 0.0891\n",
      "Epoch 27/300\n",
      "546/546 [==============================] - 2s 3ms/step - loss: 0.0193 - mae: 0.0832 - val_loss: 0.0223 - val_mae: 0.0862\n",
      "Epoch 28/300\n",
      "546/546 [==============================] - 2s 3ms/step - loss: 0.0196 - mae: 0.0832 - val_loss: 0.0211 - val_mae: 0.0869\n",
      "Epoch 29/300\n",
      "546/546 [==============================] - 2s 3ms/step - loss: 0.0194 - mae: 0.0830 - val_loss: 0.0241 - val_mae: 0.0891\n",
      "Epoch 30/300\n",
      "546/546 [==============================] - 2s 4ms/step - loss: 0.0184 - mae: 0.0805 - val_loss: 0.0234 - val_mae: 0.0893\n",
      "Epoch 31/300\n",
      "546/546 [==============================] - 3s 5ms/step - loss: 0.0185 - mae: 0.0815 - val_loss: 0.0231 - val_mae: 0.0870\n",
      "Epoch 32/300\n",
      "546/546 [==============================] - 2s 4ms/step - loss: 0.0195 - mae: 0.0827 - val_loss: 0.0227 - val_mae: 0.0882\n",
      "Epoch 33/300\n",
      "546/546 [==============================] - 2s 3ms/step - loss: 0.0184 - mae: 0.0808 - val_loss: 0.0232 - val_mae: 0.0888\n",
      "Epoch 34/300\n",
      "546/546 [==============================] - 2s 3ms/step - loss: 0.0187 - mae: 0.0817 - val_loss: 0.0224 - val_mae: 0.0869\n",
      "Epoch 35/300\n",
      "546/546 [==============================] - 2s 3ms/step - loss: 0.0185 - mae: 0.0806 - val_loss: 0.0240 - val_mae: 0.0915\n",
      "Epoch 36/300\n",
      "546/546 [==============================] - 2s 3ms/step - loss: 0.0178 - mae: 0.0800 - val_loss: 0.0266 - val_mae: 0.0961\n",
      "Epoch 37/300\n",
      "546/546 [==============================] - 2s 3ms/step - loss: 0.0178 - mae: 0.0802 - val_loss: 0.0217 - val_mae: 0.0861\n",
      "Epoch 38/300\n",
      "546/546 [==============================] - 2s 3ms/step - loss: 0.0177 - mae: 0.0799 - val_loss: 0.0211 - val_mae: 0.0838\n",
      "Epoch 39/300\n",
      "546/546 [==============================] - 3s 6ms/step - loss: 0.0177 - mae: 0.0789 - val_loss: 0.0264 - val_mae: 0.0971\n",
      "Epoch 40/300\n",
      "546/546 [==============================] - 3s 5ms/step - loss: 0.0185 - mae: 0.0808 - val_loss: 0.0209 - val_mae: 0.0826\n",
      "Epoch 41/300\n",
      "546/546 [==============================] - 2s 3ms/step - loss: 0.0173 - mae: 0.0789 - val_loss: 0.0213 - val_mae: 0.0874\n",
      "Epoch 42/300\n",
      "546/546 [==============================] - 2s 3ms/step - loss: 0.0216 - mae: 0.0817 - val_loss: 0.0226 - val_mae: 0.0844\n",
      "Epoch 43/300\n",
      "546/546 [==============================] - 1s 3ms/step - loss: 0.0172 - mae: 0.0776 - val_loss: 0.0222 - val_mae: 0.0854\n",
      "Epoch 44/300\n",
      "546/546 [==============================] - 2s 3ms/step - loss: 0.0172 - mae: 0.0779 - val_loss: 0.0212 - val_mae: 0.0871\n",
      "Epoch 45/300\n",
      "546/546 [==============================] - 2s 3ms/step - loss: 0.0172 - mae: 0.0778 - val_loss: 0.0253 - val_mae: 0.0916\n",
      "Epoch 46/300\n",
      "546/546 [==============================] - 2s 3ms/step - loss: 0.0166 - mae: 0.0769 - val_loss: 0.0208 - val_mae: 0.0872\n",
      "Epoch 47/300\n",
      "546/546 [==============================] - 2s 4ms/step - loss: 0.0163 - mae: 0.0762 - val_loss: 0.0249 - val_mae: 0.0902\n",
      "Epoch 48/300\n",
      "546/546 [==============================] - 2s 5ms/step - loss: 0.0168 - mae: 0.0775 - val_loss: 0.0229 - val_mae: 0.0890\n",
      "Epoch 49/300\n",
      "546/546 [==============================] - 3s 5ms/step - loss: 0.0168 - mae: 0.0773 - val_loss: 0.0211 - val_mae: 0.0896\n",
      "Epoch 50/300\n",
      "546/546 [==============================] - 2s 3ms/step - loss: 0.0164 - mae: 0.0765 - val_loss: 0.0218 - val_mae: 0.0875\n",
      "Epoch 51/300\n",
      "546/546 [==============================] - 2s 4ms/step - loss: 0.0167 - mae: 0.0762 - val_loss: 0.0205 - val_mae: 0.0861\n",
      "Epoch 52/300\n",
      "546/546 [==============================] - 2s 4ms/step - loss: 0.0163 - mae: 0.0761 - val_loss: 0.0219 - val_mae: 0.0841\n",
      "Epoch 53/300\n",
      "546/546 [==============================] - 2s 4ms/step - loss: 0.0163 - mae: 0.0767 - val_loss: 0.0224 - val_mae: 0.0941\n",
      "Epoch 54/300\n",
      "546/546 [==============================] - 3s 5ms/step - loss: 0.0161 - mae: 0.0761 - val_loss: 0.0222 - val_mae: 0.0856\n",
      "Epoch 55/300\n",
      "546/546 [==============================] - 4s 7ms/step - loss: 0.0162 - mae: 0.0761 - val_loss: 0.0223 - val_mae: 0.0905\n",
      "Epoch 56/300\n",
      "546/546 [==============================] - 3s 6ms/step - loss: 0.0161 - mae: 0.0756 - val_loss: 0.0263 - val_mae: 0.0938\n",
      "Epoch 57/300\n",
      "546/546 [==============================] - 2s 4ms/step - loss: 0.0161 - mae: 0.0755 - val_loss: 0.0227 - val_mae: 0.0889\n",
      "Epoch 58/300\n",
      "546/546 [==============================] - 2s 4ms/step - loss: 0.0158 - mae: 0.0754 - val_loss: 0.0204 - val_mae: 0.0887\n",
      "Epoch 59/300\n",
      "546/546 [==============================] - 2s 3ms/step - loss: 0.0157 - mae: 0.0749 - val_loss: 0.0210 - val_mae: 0.0835\n",
      "Epoch 60/300\n",
      "546/546 [==============================] - 1s 3ms/step - loss: 0.0153 - mae: 0.0744 - val_loss: 0.0222 - val_mae: 0.0854\n",
      "Epoch 61/300\n",
      "546/546 [==============================] - 2s 3ms/step - loss: 0.0153 - mae: 0.0744 - val_loss: 0.0230 - val_mae: 0.0952\n",
      "Epoch 62/300\n",
      "546/546 [==============================] - 3s 5ms/step - loss: 0.0155 - mae: 0.0743 - val_loss: 0.0227 - val_mae: 0.0848\n",
      "Epoch 63/300\n",
      "546/546 [==============================] - 3s 6ms/step - loss: 0.0156 - mae: 0.0747 - val_loss: 0.0224 - val_mae: 0.0901\n",
      "Epoch 64/300\n",
      "546/546 [==============================] - 3s 5ms/step - loss: 0.0153 - mae: 0.0739 - val_loss: 0.0234 - val_mae: 0.0909\n",
      "Epoch 65/300\n",
      "546/546 [==============================] - 2s 3ms/step - loss: 0.0154 - mae: 0.0743 - val_loss: 0.0238 - val_mae: 0.0864\n",
      "Epoch 66/300\n",
      "546/546 [==============================] - 2s 3ms/step - loss: 0.0151 - mae: 0.0739 - val_loss: 0.0235 - val_mae: 0.0971\n",
      "Epoch 67/300\n",
      "546/546 [==============================] - 2s 4ms/step - loss: 0.0155 - mae: 0.0743 - val_loss: 0.0269 - val_mae: 0.1017\n",
      "Epoch 68/300\n",
      "546/546 [==============================] - 2s 4ms/step - loss: 0.0150 - mae: 0.0730 - val_loss: 0.0222 - val_mae: 0.0846\n",
      "Epoch 69/300\n",
      "546/546 [==============================] - 2s 3ms/step - loss: 0.0149 - mae: 0.0727 - val_loss: 0.0257 - val_mae: 0.0898\n",
      "Epoch 70/300\n",
      "546/546 [==============================] - 2s 5ms/step - loss: 0.0145 - mae: 0.0724 - val_loss: 0.0211 - val_mae: 0.0854\n",
      "Epoch 71/300\n",
      "546/546 [==============================] - 2s 4ms/step - loss: 0.0147 - mae: 0.0732 - val_loss: 0.0217 - val_mae: 0.0900\n",
      "Epoch 72/300\n",
      "546/546 [==============================] - 2s 4ms/step - loss: 0.0144 - mae: 0.0718 - val_loss: 0.0241 - val_mae: 0.0912\n",
      "Epoch 73/300\n",
      "546/546 [==============================] - 2s 3ms/step - loss: 0.0144 - mae: 0.0722 - val_loss: 0.0226 - val_mae: 0.0920\n",
      "Training time: 151.32720851898193\n"
     ]
    }
   ],
   "source": [
    "#train model and perform validation test\n",
    "import time\n",
    "early_stop = EarlyStopping(monitor='val_loss', patience=15) # stops training when it doesn't show improvemnet.\n",
    "t0 = time.time()\n",
    "history = model3.fit(X_train, y_train, epochs=300,\n",
    "          validation_data=(X_cv,y_cv), verbose=1, callbacks=[early_stop])\n",
    "print(\"Training time:\", time.time()-t0)"
   ]
  },
  {
   "cell_type": "code",
   "execution_count": null,
   "metadata": {
    "colab": {
     "base_uri": "https://localhost:8080/",
     "height": 736
    },
    "id": "GvfRFrOjb_Fb",
    "outputId": "c46af1c1-b279-4631-bf64-d414968a36e0"
   },
   "outputs": [
    {
     "data": {
      "text/plain": [
       "<matplotlib.legend.Legend at 0x7fd79e437220>"
      ]
     },
     "execution_count": 97,
     "metadata": {},
     "output_type": "execute_result"
    },
    {
     "data": {
      "image/png": "[encoded data removed]",
      "text/plain": [
       "<Figure size 1500x800 with 1 Axes>"
      ]
     },
     "metadata": {},
     "output_type": "display_data"
    }
   ],
   "source": [
    "# show the graph of model loss in trainig and validation\n",
    "\n",
    "plt.figure(figsize=(15,8))\n",
    "plt.xlabel('Epoch')\n",
    "plt.ylabel('Mean Square Error')\n",
    "plt.plot(history.epoch, history.history['loss'],\n",
    "           label='Train Loss')\n",
    "plt.plot(history.epoch, history.history['val_loss'],\n",
    "           label = 'Val loss')\n",
    "plt.title('Model loss')\n",
    "plt.legend()"
   ]
  },
  {
   "cell_type": "code",
   "execution_count": null,
   "metadata": {
    "colab": {
     "base_uri": "https://localhost:8080/"
    },
    "id": "_4heJjwgcJRV",
    "outputId": "48e77d62-63c9-4933-ca48-2ca027ca58a4"
   },
   "outputs": [
    {
     "name": "stdout",
     "output_type": "stream",
     "text": [
      "546/546 [==============================] - 1s 2ms/step - loss: 0.0142 - mae: 0.0724\n",
      "Mean square error:  0.014202998951077461\n",
      "Root Mean square error:  0.11917633553301368\n",
      "Mean absolute error:  0.07238390296697617\n"
     ]
    }
   ],
   "source": [
    "#check the model performace in test dataset\n",
    "score = model3.evaluate(X_train, y_train, verbose=1)\n",
    "\n",
    "print('Mean square error: ', score[0])\n",
    "\n",
    "print('Root Mean square error: ', np.sqrt(score[0]))\n",
    "print('Mean absolute error: ', score[1])"
   ]
  },
  {
   "cell_type": "code",
   "execution_count": null,
   "metadata": {
    "colab": {
     "base_uri": "https://localhost:8080/"
    },
    "id": "qYnPtd9KcP6e",
    "outputId": "a8536f05-13e7-4324-b08b-0218973def79"
   },
   "outputs": [
    {
     "name": "stdout",
     "output_type": "stream",
     "text": [
      "117/117 [==============================] - 0s 3ms/step - loss: 0.0223 - mae: 0.0920\n",
      "Mean square error:  0.022310368716716766\n",
      "Root Mean square error:  0.14936655822745856\n",
      "Mean absolute error:  0.09197911620140076\n"
     ]
    }
   ],
   "source": [
    "#check the model performace in test dataset\n",
    "score = model3.evaluate(X_test, y_test, verbose=1)\n",
    "\n",
    "print('Mean square error: ', score[0])\n",
    "\n",
    "print('Root Mean square error: ', np.sqrt(score[0]))\n",
    "print('Mean absolute error: ', score[1])"
   ]
  },
  {
   "cell_type": "code",
   "execution_count": null,
   "metadata": {
    "colab": {
     "base_uri": "https://localhost:8080/"
    },
    "id": "LzsL2yp3vLzu",
    "outputId": "da4c890d-0b09-4d77-aa36-de2ad5dc98a9"
   },
   "outputs": [
    {
     "name": "stdout",
     "output_type": "stream",
     "text": [
      "234/234 [==============================] - 1s 2ms/step\n",
      "The model performance for testing set\n",
      "--------------------------------------\n",
      "MSE is 0.022453675824282666\n",
      "RMSE is 0.14984550652015785\n",
      "R2 score is 0.9776114943019355\n",
      "SMAPE score is 20.71\n"
     ]
    }
   ],
   "source": [
    "# model evaluation for testing set\n",
    "y_test_predict = model3.predict(X_)\n",
    "mse = (mean_squared_error(y_, y_test_predict))\n",
    "rmse=  np.sqrt(mse)\n",
    "r2 = r2_score(y_, y_test_predict)\n",
    "smape=calculate_smape(y_, y_test_predict)\n",
    "\n",
    "print(\"The model performance for testing set\")\n",
    "print(\"--------------------------------------\")\n",
    "print('MSE is {}'.format(mse))\n",
    "print('RMSE is {}'.format(rmse))\n",
    "print('R2 score is {}'.format(r2))\n",
    "print('SMAPE score is {}'.format(smape))"
   ]
  },
  {
   "cell_type": "code",
   "execution_count": null,
   "metadata": {
    "colab": {
     "base_uri": "https://localhost:8080/"
    },
    "id": "2Y7BKWTUvVm8",
    "outputId": "539a1524-f546-4551-c84b-f3dcd76eb497"
   },
   "outputs": [
    {
     "name": "stdout",
     "output_type": "stream",
     "text": [
      "MAPE score is 0.3666647788364653\n"
     ]
    }
   ],
   "source": [
    "from sklearn.metrics import mean_absolute_percentage_error\n",
    "mape = mean_absolute_percentage_error(y_,y_test_predict)\n",
    "print('MAPE score is {}'.format(mape))"
   ]
  },
  {
   "cell_type": "markdown",
   "metadata": {
    "id": "lSEFSykwbqTz"
   },
   "source": [
    "model4"
   ]
  },
  {
   "cell_type": "code",
   "execution_count": null,
   "metadata": {
    "id": "KqHpPvBvbcbH"
   },
   "outputs": [],
   "source": [
    "#get number of columns in training data\n",
    "n_cols = X_train.shape[1]\n",
    "\n",
    "# builds model\n",
    "model4 = Sequential()\n",
    "\n",
    "model4.add(Dense(16, activation='relu',input_shape=(n_cols,)))\n",
    "model4.add(Dense(8, activation='relu'))\n",
    "model4.add(Dense(4, activation='relu'))\n",
    "model4.add(Dense(2, activation='relu'))\n",
    "\n",
    "\n",
    "\n",
    "model4.add(Dense(1,activation='linear'))"
   ]
  },
  {
   "cell_type": "code",
   "execution_count": null,
   "metadata": {
    "id": "jbgPp--sbtVG"
   },
   "outputs": [],
   "source": [
    "#compile model\n",
    "model4.compile(loss='mse', optimizer='adam', metrics=['mae']) # use metric as mean absolute error"
   ]
  },
  {
   "cell_type": "code",
   "execution_count": null,
   "metadata": {
    "colab": {
     "base_uri": "https://localhost:8080/"
    },
    "id": "7o_blWrzbyzv",
    "outputId": "cca2e5d5-3f6b-42f8-b6a0-596bad032304"
   },
   "outputs": [
    {
     "name": "stdout",
     "output_type": "stream",
     "text": [
      "Model: \"sequential_4\"\n",
      "_________________________________________________________________\n",
      " Layer (type)                Output Shape              Param #   \n",
      "=================================================================\n",
      " dense_13 (Dense)            (None, 16)                176       \n",
      "                                                                 \n",
      " dense_14 (Dense)            (None, 8)                 136       \n",
      "                                                                 \n",
      " dense_15 (Dense)            (None, 4)                 36        \n",
      "                                                                 \n",
      " dense_16 (Dense)            (None, 2)                 10        \n",
      "                                                                 \n",
      " dense_17 (Dense)            (None, 1)                 3         \n",
      "                                                                 \n",
      "=================================================================\n",
      "Total params: 361 (1.41 KB)\n",
      "Trainable params: 361 (1.41 KB)\n",
      "Non-trainable params: 0 (0.00 Byte)\n",
      "_________________________________________________________________\n"
     ]
    }
   ],
   "source": [
    "#inspect the model\n",
    "model4.summary()"
   ]
  },
  {
   "cell_type": "code",
   "execution_count": null,
   "metadata": {
    "colab": {
     "base_uri": "https://localhost:8080/"
    },
    "id": "LSF548VVb6jG",
    "outputId": "81f9c032-582e-4e3f-ee5a-2241b84c30c2"
   },
   "outputs": [
    {
     "name": "stdout",
     "output_type": "stream",
     "text": [
      "Epoch 1/300\n",
      "546/546 [==============================] - 3s 3ms/step - loss: 0.3252 - mae: 0.4593 - val_loss: 0.1498 - val_mae: 0.3133\n",
      "Epoch 2/300\n",
      "546/546 [==============================] - 1s 2ms/step - loss: 0.1367 - mae: 0.2608 - val_loss: 0.0947 - val_mae: 0.2246\n",
      "Epoch 3/300\n",
      "546/546 [==============================] - 1s 2ms/step - loss: 0.0910 - mae: 0.2011 - val_loss: 0.0797 - val_mae: 0.1870\n",
      "Epoch 4/300\n",
      "546/546 [==============================] - 1s 3ms/step - loss: 0.0781 - mae: 0.1759 - val_loss: 0.0750 - val_mae: 0.1717\n",
      "Epoch 5/300\n",
      "546/546 [==============================] - 1s 2ms/step - loss: 0.0742 - mae: 0.1664 - val_loss: 0.0732 - val_mae: 0.1674\n",
      "Epoch 6/300\n",
      "546/546 [==============================] - 1s 3ms/step - loss: 0.0720 - mae: 0.1624 - val_loss: 0.0696 - val_mae: 0.1606\n",
      "Epoch 7/300\n",
      "546/546 [==============================] - 2s 3ms/step - loss: 0.0699 - mae: 0.1590 - val_loss: 0.0692 - val_mae: 0.1600\n",
      "Epoch 8/300\n",
      "546/546 [==============================] - 2s 4ms/step - loss: 0.0678 - mae: 0.1562 - val_loss: 0.0666 - val_mae: 0.1558\n",
      "Epoch 9/300\n",
      "546/546 [==============================] - 2s 4ms/step - loss: 0.0662 - mae: 0.1542 - val_loss: 0.0672 - val_mae: 0.1535\n",
      "Epoch 10/300\n",
      "546/546 [==============================] - 2s 4ms/step - loss: 0.0646 - mae: 0.1523 - val_loss: 0.0645 - val_mae: 0.1523\n",
      "Epoch 11/300\n",
      "546/546 [==============================] - 2s 3ms/step - loss: 0.0634 - mae: 0.1510 - val_loss: 0.0646 - val_mae: 0.1530\n",
      "Epoch 12/300\n",
      "546/546 [==============================] - 1s 2ms/step - loss: 0.0616 - mae: 0.1486 - val_loss: 0.0612 - val_mae: 0.1471\n",
      "Epoch 13/300\n",
      "546/546 [==============================] - 1s 2ms/step - loss: 0.0597 - mae: 0.1463 - val_loss: 0.0597 - val_mae: 0.1473\n",
      "Epoch 14/300\n",
      "546/546 [==============================] - 1s 3ms/step - loss: 0.0585 - mae: 0.1443 - val_loss: 0.0597 - val_mae: 0.1493\n",
      "Epoch 15/300\n",
      "546/546 [==============================] - 1s 2ms/step - loss: 0.0575 - mae: 0.1429 - val_loss: 0.0564 - val_mae: 0.1423\n",
      "Epoch 16/300\n",
      "546/546 [==============================] - 1s 3ms/step - loss: 0.0552 - mae: 0.1403 - val_loss: 0.0553 - val_mae: 0.1388\n",
      "Epoch 17/300\n",
      "546/546 [==============================] - 1s 3ms/step - loss: 0.0538 - mae: 0.1379 - val_loss: 0.0538 - val_mae: 0.1392\n",
      "Epoch 18/300\n",
      "546/546 [==============================] - 2s 4ms/step - loss: 0.0511 - mae: 0.1347 - val_loss: 0.0528 - val_mae: 0.1395\n",
      "Epoch 19/300\n",
      "546/546 [==============================] - 2s 3ms/step - loss: 0.0499 - mae: 0.1324 - val_loss: 0.0510 - val_mae: 0.1313\n",
      "Epoch 20/300\n",
      "546/546 [==============================] - 2s 4ms/step - loss: 0.0474 - mae: 0.1301 - val_loss: 0.0522 - val_mae: 0.1425\n",
      "Epoch 21/300\n",
      "546/546 [==============================] - 1s 2ms/step - loss: 0.0447 - mae: 0.1262 - val_loss: 0.0438 - val_mae: 0.1258\n",
      "Epoch 22/300\n",
      "546/546 [==============================] - 1s 3ms/step - loss: 0.0421 - mae: 0.1231 - val_loss: 0.0406 - val_mae: 0.1237\n",
      "Epoch 23/300\n",
      "546/546 [==============================] - 1s 2ms/step - loss: 0.0388 - mae: 0.1193 - val_loss: 0.0393 - val_mae: 0.1184\n",
      "Epoch 24/300\n",
      "546/546 [==============================] - 1s 3ms/step - loss: 0.0361 - mae: 0.1153 - val_loss: 0.0337 - val_mae: 0.1126\n",
      "Epoch 25/300\n",
      "546/546 [==============================] - 1s 2ms/step - loss: 0.0328 - mae: 0.1112 - val_loss: 0.0325 - val_mae: 0.1098\n",
      "Epoch 26/300\n",
      "546/546 [==============================] - 1s 2ms/step - loss: 0.0299 - mae: 0.1068 - val_loss: 0.0315 - val_mae: 0.1104\n",
      "Epoch 27/300\n",
      "546/546 [==============================] - 1s 3ms/step - loss: 0.0284 - mae: 0.1047 - val_loss: 0.0302 - val_mae: 0.1082\n",
      "Epoch 28/300\n",
      "546/546 [==============================] - 2s 3ms/step - loss: 0.0274 - mae: 0.1036 - val_loss: 0.0272 - val_mae: 0.1026\n",
      "Epoch 29/300\n",
      "546/546 [==============================] - 2s 4ms/step - loss: 0.0263 - mae: 0.1013 - val_loss: 0.0268 - val_mae: 0.1027\n",
      "Epoch 30/300\n",
      "546/546 [==============================] - 2s 3ms/step - loss: 0.0263 - mae: 0.1012 - val_loss: 0.0308 - val_mae: 0.1071\n",
      "Epoch 31/300\n",
      "546/546 [==============================] - 2s 4ms/step - loss: 0.0264 - mae: 0.1013 - val_loss: 0.0314 - val_mae: 0.1075\n",
      "Epoch 32/300\n",
      "546/546 [==============================] - 1s 3ms/step - loss: 0.0259 - mae: 0.1004 - val_loss: 0.0281 - val_mae: 0.1040\n",
      "Epoch 33/300\n",
      "546/546 [==============================] - 1s 3ms/step - loss: 0.0256 - mae: 0.0995 - val_loss: 0.0258 - val_mae: 0.1008\n",
      "Epoch 34/300\n",
      "546/546 [==============================] - 1s 2ms/step - loss: 0.0245 - mae: 0.0980 - val_loss: 0.0246 - val_mae: 0.0974\n",
      "Epoch 35/300\n",
      "546/546 [==============================] - 1s 2ms/step - loss: 0.0242 - mae: 0.0974 - val_loss: 0.0275 - val_mae: 0.1020\n",
      "Epoch 36/300\n",
      "546/546 [==============================] - 1s 3ms/step - loss: 0.0242 - mae: 0.0968 - val_loss: 0.0233 - val_mae: 0.0958\n",
      "Epoch 37/300\n",
      "546/546 [==============================] - 1s 3ms/step - loss: 0.0243 - mae: 0.0970 - val_loss: 0.0279 - val_mae: 0.0992\n",
      "Epoch 38/300\n",
      "546/546 [==============================] - 1s 3ms/step - loss: 0.0237 - mae: 0.0962 - val_loss: 0.0263 - val_mae: 0.0993\n",
      "Epoch 39/300\n",
      "546/546 [==============================] - 2s 3ms/step - loss: 0.0238 - mae: 0.0957 - val_loss: 0.0279 - val_mae: 0.1013\n",
      "Epoch 40/300\n",
      "546/546 [==============================] - 2s 4ms/step - loss: 0.0233 - mae: 0.0953 - val_loss: 0.0274 - val_mae: 0.0979\n",
      "Epoch 41/300\n",
      "546/546 [==============================] - 2s 4ms/step - loss: 0.0234 - mae: 0.0951 - val_loss: 0.0256 - val_mae: 0.0983\n",
      "Epoch 42/300\n",
      "546/546 [==============================] - 2s 4ms/step - loss: 0.0233 - mae: 0.0951 - val_loss: 0.0252 - val_mae: 0.0983\n",
      "Epoch 43/300\n",
      "546/546 [==============================] - 1s 2ms/step - loss: 0.0234 - mae: 0.0952 - val_loss: 0.0239 - val_mae: 0.0956\n",
      "Epoch 44/300\n",
      "546/546 [==============================] - 1s 3ms/step - loss: 0.0228 - mae: 0.0941 - val_loss: 0.0259 - val_mae: 0.0984\n",
      "Epoch 45/300\n",
      "546/546 [==============================] - 1s 3ms/step - loss: 0.0229 - mae: 0.0945 - val_loss: 0.0242 - val_mae: 0.0951\n",
      "Epoch 46/300\n",
      "546/546 [==============================] - 1s 3ms/step - loss: 0.0227 - mae: 0.0940 - val_loss: 0.0261 - val_mae: 0.0976\n",
      "Epoch 47/300\n",
      "546/546 [==============================] - 1s 2ms/step - loss: 0.0229 - mae: 0.0938 - val_loss: 0.0329 - val_mae: 0.1076\n",
      "Epoch 48/300\n",
      "546/546 [==============================] - 1s 3ms/step - loss: 0.0226 - mae: 0.0933 - val_loss: 0.0238 - val_mae: 0.0941\n",
      "Epoch 49/300\n",
      "546/546 [==============================] - 1s 3ms/step - loss: 0.0225 - mae: 0.0937 - val_loss: 0.0238 - val_mae: 0.0942\n",
      "Epoch 50/300\n",
      "546/546 [==============================] - 2s 4ms/step - loss: 0.0226 - mae: 0.0934 - val_loss: 0.0265 - val_mae: 0.0975\n",
      "Epoch 51/300\n",
      "546/546 [==============================] - 2s 4ms/step - loss: 0.0222 - mae: 0.0928 - val_loss: 0.0264 - val_mae: 0.0979\n",
      "Training time: 80.42241644859314\n"
     ]
    }
   ],
   "source": [
    "#train model and perform validation test\n",
    "import time\n",
    "early_stop = EarlyStopping(monitor='val_loss', patience=15) # stops training when it doesn't show improvemnet.\n",
    "t0 = time.time()\n",
    "history = model4.fit(X_train, y_train, epochs=300,\n",
    "          validation_data=(X_cv,y_cv), verbose=1, callbacks=[early_stop])\n",
    "print(\"Training time:\", time.time()-t0)"
   ]
  },
  {
   "cell_type": "code",
   "execution_count": null,
   "metadata": {
    "colab": {
     "base_uri": "https://localhost:8080/",
     "height": 736
    },
    "id": "ZrQkax8OcEA0",
    "outputId": "006aa0e4-6451-43b9-be71-a1c7fa861801"
   },
   "outputs": [
    {
     "data": {
      "text/plain": [
       "<matplotlib.legend.Legend at 0x7fd78054da20>"
      ]
     },
     "execution_count": 106,
     "metadata": {},
     "output_type": "execute_result"
    },
    {
     "data": {
      "image/png": "[encoded data removed]",
      "text/plain": [
       "<Figure size 1500x800 with 1 Axes>"
      ]
     },
     "metadata": {},
     "output_type": "display_data"
    }
   ],
   "source": [
    "# show the graph of model loss in trainig and validation\n",
    "\n",
    "plt.figure(figsize=(15,8))\n",
    "plt.xlabel('Epoch')\n",
    "plt.ylabel('Mean Square Error')\n",
    "plt.plot(history.epoch, history.history['loss'],\n",
    "           label='Train Loss')\n",
    "plt.plot(history.epoch, history.history['val_loss'],\n",
    "           label = 'Val loss')\n",
    "plt.title('Model loss')\n",
    "plt.legend()"
   ]
  },
  {
   "cell_type": "code",
   "execution_count": null,
   "metadata": {
    "colab": {
     "base_uri": "https://localhost:8080/"
    },
    "id": "FZPY1ooIcIP7",
    "outputId": "54168f6f-65a0-4527-ac01-0081e6c43aa9"
   },
   "outputs": [
    {
     "name": "stdout",
     "output_type": "stream",
     "text": [
      "546/546 [==============================] - 1s 2ms/step - loss: 0.0214 - mae: 0.0920\n",
      "Mean square error:  0.021420303732156754\n",
      "Root Mean square error:  0.1463567686584968\n",
      "Mean absolute error:  0.09195499122142792\n"
     ]
    }
   ],
   "source": [
    "#check the model performace in test dataset\n",
    "score = model4.evaluate(X_train, y_train, verbose=1)\n",
    "\n",
    "print('Mean square error: ', score[0])\n",
    "\n",
    "print('Root Mean square error: ', np.sqrt(score[0]))\n",
    "print('Mean absolute error: ', score[1])"
   ]
  },
  {
   "cell_type": "code",
   "execution_count": null,
   "metadata": {
    "colab": {
     "base_uri": "https://localhost:8080/"
    },
    "id": "cDK5f0iEcRHP",
    "outputId": "d69414e1-a63a-465d-d54f-eb6a383e4221"
   },
   "outputs": [
    {
     "name": "stdout",
     "output_type": "stream",
     "text": [
      "117/117 [==============================] - 0s 2ms/step - loss: 0.0257 - mae: 0.0988\n",
      "Mean square error:  0.02565879561007023\n",
      "Root Mean square error:  0.16018363090550242\n",
      "Mean absolute error:  0.0987761989235878\n"
     ]
    }
   ],
   "source": [
    "#check the model performace in test dataset\n",
    "score = model4.evaluate(X_test, y_test, verbose=1)\n",
    "\n",
    "print('Mean square error: ', score[0])\n",
    "\n",
    "print('Root Mean square error: ', np.sqrt(score[0]))\n",
    "print('Mean absolute error: ', score[1])"
   ]
  },
  {
   "cell_type": "code",
   "execution_count": null,
   "metadata": {
    "colab": {
     "base_uri": "https://localhost:8080/"
    },
    "id": "UlFnKyUgwGQV",
    "outputId": "0927c6f6-20b8-4668-eb54-eaefbf59174b"
   },
   "outputs": [
    {
     "name": "stdout",
     "output_type": "stream",
     "text": [
      "234/234 [==============================] - 0s 1ms/step\n",
      "The model performance for testing set\n",
      "--------------------------------------\n",
      "MSE is 0.026042937438243225\n",
      "RMSE is 0.16137824338566592\n",
      "R2 score is 0.9740326502531986\n",
      "SMAPE score is 22.2\n"
     ]
    }
   ],
   "source": [
    "# model evaluation for testing set\n",
    "y_test_predict = model4.predict(X_)\n",
    "mse = (mean_squared_error(y_, y_test_predict))\n",
    "rmse=  np.sqrt(mse)\n",
    "r2 = r2_score(y_, y_test_predict)\n",
    "smape=calculate_smape(y_, y_test_predict)\n",
    "\n",
    "print(\"The model performance for testing set\")\n",
    "print(\"--------------------------------------\")\n",
    "print('MSE is {}'.format(mse))\n",
    "print('RMSE is {}'.format(rmse))\n",
    "print('R2 score is {}'.format(r2))\n",
    "print('SMAPE score is {}'.format(smape))"
   ]
  },
  {
   "cell_type": "code",
   "execution_count": null,
   "metadata": {
    "colab": {
     "base_uri": "https://localhost:8080/"
    },
    "id": "NVOnRH5Fv_X1",
    "outputId": "bbfe81d5-7589-43ae-9d2f-84dc8194c783"
   },
   "outputs": [
    {
     "name": "stdout",
     "output_type": "stream",
     "text": [
      "MAPE score is 0.4571678532108703\n"
     ]
    }
   ],
   "source": [
    "from sklearn.metrics import mean_absolute_percentage_error\n",
    "mape = mean_absolute_percentage_error(y_,y_test_predict)\n",
    "print('MAPE score is {}'.format(mape))"
   ]
  },
  {
   "cell_type": "markdown",
   "metadata": {
    "id": "oB6D23_zbr6z"
   },
   "source": [
    "model5"
   ]
  },
  {
   "cell_type": "code",
   "execution_count": null,
   "metadata": {
    "id": "w5_r6CnwbepQ"
   },
   "outputs": [],
   "source": [
    "#get number of columns in training data\n",
    "n_cols = X_train.shape[1]\n",
    "\n",
    "# builds model\n",
    "model5 = Sequential()\n",
    "\n",
    "model5.add(Dense(9, activation='relu',input_shape=(n_cols,)))\n",
    "model5.add(Dense(9, activation='relu'))\n",
    "model5.add(Dense(9, activation='relu'))\n",
    "model5.add(Dense(8, activation='relu'))\n",
    "\n",
    "model5.add(Dense(1,activation='linear'))"
   ]
  },
  {
   "cell_type": "code",
   "execution_count": null,
   "metadata": {
    "id": "nn7DewCQbuEY"
   },
   "outputs": [],
   "source": [
    "#compile model\n",
    "model5.compile(loss='mse', optimizer='adam', metrics=['mae']) # use metric as mean absolute error"
   ]
  },
  {
   "cell_type": "code",
   "execution_count": null,
   "metadata": {
    "colab": {
     "base_uri": "https://localhost:8080/"
    },
    "id": "hnsJXVOHbxn1",
    "outputId": "70e38cbf-2f48-4ada-cdc9-20ef19e576f9"
   },
   "outputs": [
    {
     "name": "stdout",
     "output_type": "stream",
     "text": [
      "Model: \"sequential_5\"\n",
      "_________________________________________________________________\n",
      " Layer (type)                Output Shape              Param #   \n",
      "=================================================================\n",
      " dense_18 (Dense)            (None, 9)                 99        \n",
      "                                                                 \n",
      " dense_19 (Dense)            (None, 9)                 90        \n",
      "                                                                 \n",
      " dense_20 (Dense)            (None, 9)                 90        \n",
      "                                                                 \n",
      " dense_21 (Dense)            (None, 8)                 80        \n",
      "                                                                 \n",
      " dense_22 (Dense)            (None, 1)                 9         \n",
      "                                                                 \n",
      "=================================================================\n",
      "Total params: 368 (1.44 KB)\n",
      "Trainable params: 368 (1.44 KB)\n",
      "Non-trainable params: 0 (0.00 Byte)\n",
      "_________________________________________________________________\n"
     ]
    }
   ],
   "source": [
    "#inspect the model\n",
    "model5.summary()"
   ]
  },
  {
   "cell_type": "code",
   "execution_count": null,
   "metadata": {
    "colab": {
     "base_uri": "https://localhost:8080/"
    },
    "id": "UPuEwkecb7eX",
    "outputId": "08e63e16-b0d8-4bb6-ea56-0a6f24a514b4"
   },
   "outputs": [
    {
     "name": "stdout",
     "output_type": "stream",
     "text": [
      "Epoch 1/300\n",
      "546/546 [==============================] - 3s 3ms/step - loss: 0.3500 - mae: 0.3682 - val_loss: 0.0892 - val_mae: 0.1939\n",
      "Epoch 2/300\n",
      "546/546 [==============================] - 1s 2ms/step - loss: 0.1190 - mae: 0.1873 - val_loss: 0.0825 - val_mae: 0.1770\n",
      "Epoch 3/300\n",
      "546/546 [==============================] - 1s 3ms/step - loss: 0.0860 - mae: 0.1737 - val_loss: 0.0796 - val_mae: 0.1713\n",
      "Epoch 4/300\n",
      "546/546 [==============================] - 2s 3ms/step - loss: 0.0759 - mae: 0.1666 - val_loss: 0.0763 - val_mae: 0.1632\n",
      "Epoch 5/300\n",
      "546/546 [==============================] - 2s 4ms/step - loss: 0.0737 - mae: 0.1627 - val_loss: 0.0769 - val_mae: 0.1637\n",
      "Epoch 6/300\n",
      "546/546 [==============================] - 2s 4ms/step - loss: 0.0705 - mae: 0.1587 - val_loss: 0.0697 - val_mae: 0.1564\n",
      "Epoch 7/300\n",
      "546/546 [==============================] - 2s 4ms/step - loss: 0.0681 - mae: 0.1561 - val_loss: 0.0674 - val_mae: 0.1549\n",
      "Epoch 8/300\n",
      "546/546 [==============================] - 1s 3ms/step - loss: 0.0653 - mae: 0.1523 - val_loss: 0.0664 - val_mae: 0.1515\n",
      "Epoch 9/300\n",
      "546/546 [==============================] - 1s 2ms/step - loss: 0.0622 - mae: 0.1478 - val_loss: 0.0622 - val_mae: 0.1474\n",
      "Epoch 10/300\n",
      "546/546 [==============================] - 1s 2ms/step - loss: 0.0619 - mae: 0.1456 - val_loss: 0.0590 - val_mae: 0.1428\n",
      "Epoch 11/300\n",
      "546/546 [==============================] - 1s 3ms/step - loss: 0.0590 - mae: 0.1428 - val_loss: 0.0584 - val_mae: 0.1422\n",
      "Epoch 12/300\n",
      "546/546 [==============================] - 1s 2ms/step - loss: 0.0666 - mae: 0.1440 - val_loss: 0.0552 - val_mae: 0.1384\n",
      "Epoch 13/300\n",
      "546/546 [==============================] - 1s 3ms/step - loss: 0.0535 - mae: 0.1377 - val_loss: 0.0558 - val_mae: 0.1388\n",
      "Epoch 14/300\n",
      "546/546 [==============================] - 1s 3ms/step - loss: 0.0517 - mae: 0.1356 - val_loss: 0.0519 - val_mae: 0.1336\n",
      "Epoch 15/300\n",
      "546/546 [==============================] - 2s 3ms/step - loss: 0.0499 - mae: 0.1327 - val_loss: 0.0488 - val_mae: 0.1289\n",
      "Epoch 16/300\n",
      "546/546 [==============================] - 2s 3ms/step - loss: 0.0489 - mae: 0.1319 - val_loss: 0.0462 - val_mae: 0.1246\n",
      "Epoch 17/300\n",
      "546/546 [==============================] - 2s 4ms/step - loss: 0.0466 - mae: 0.1286 - val_loss: 0.0440 - val_mae: 0.1221\n",
      "Epoch 18/300\n",
      "546/546 [==============================] - 2s 3ms/step - loss: 0.0455 - mae: 0.1249 - val_loss: 0.0518 - val_mae: 0.1426\n",
      "Epoch 19/300\n",
      "546/546 [==============================] - 1s 3ms/step - loss: 0.0412 - mae: 0.1216 - val_loss: 0.0403 - val_mae: 0.1229\n",
      "Epoch 20/300\n",
      "546/546 [==============================] - 1s 3ms/step - loss: 0.0379 - mae: 0.1174 - val_loss: 0.0352 - val_mae: 0.1114\n",
      "Epoch 21/300\n",
      "546/546 [==============================] - 1s 3ms/step - loss: 0.0360 - mae: 0.1149 - val_loss: 0.0343 - val_mae: 0.1110\n",
      "Epoch 22/300\n",
      "546/546 [==============================] - 2s 3ms/step - loss: 0.0348 - mae: 0.1136 - val_loss: 0.0365 - val_mae: 0.1127\n",
      "Epoch 23/300\n",
      "546/546 [==============================] - 1s 2ms/step - loss: 0.0342 - mae: 0.1126 - val_loss: 0.0331 - val_mae: 0.1099\n",
      "Epoch 24/300\n",
      "546/546 [==============================] - 1s 3ms/step - loss: 0.0340 - mae: 0.1117 - val_loss: 0.0326 - val_mae: 0.1147\n",
      "Epoch 25/300\n",
      "546/546 [==============================] - 2s 3ms/step - loss: 0.0330 - mae: 0.1097 - val_loss: 0.0343 - val_mae: 0.1147\n",
      "Epoch 26/300\n",
      "546/546 [==============================] - 2s 4ms/step - loss: 0.0341 - mae: 0.1105 - val_loss: 0.0311 - val_mae: 0.1106\n",
      "Epoch 27/300\n",
      "546/546 [==============================] - 2s 4ms/step - loss: 0.0314 - mae: 0.1080 - val_loss: 0.0302 - val_mae: 0.1061\n",
      "Epoch 28/300\n",
      "546/546 [==============================] - 2s 3ms/step - loss: 0.0302 - mae: 0.1058 - val_loss: 0.0340 - val_mae: 0.1088\n",
      "Epoch 29/300\n",
      "546/546 [==============================] - 1s 3ms/step - loss: 0.0294 - mae: 0.1051 - val_loss: 0.0293 - val_mae: 0.1147\n",
      "Epoch 30/300\n",
      "546/546 [==============================] - 1s 3ms/step - loss: 0.0286 - mae: 0.1047 - val_loss: 0.0318 - val_mae: 0.1051\n",
      "Epoch 31/300\n",
      "546/546 [==============================] - 2s 3ms/step - loss: 0.0280 - mae: 0.1029 - val_loss: 0.0325 - val_mae: 0.1095\n",
      "Epoch 32/300\n",
      "546/546 [==============================] - 1s 3ms/step - loss: 0.0278 - mae: 0.1029 - val_loss: 0.0288 - val_mae: 0.1025\n",
      "Epoch 33/300\n",
      "546/546 [==============================] - 1s 3ms/step - loss: 0.0275 - mae: 0.1027 - val_loss: 0.0264 - val_mae: 0.0985\n",
      "Epoch 34/300\n",
      "546/546 [==============================] - 2s 3ms/step - loss: 0.0282 - mae: 0.1034 - val_loss: 0.0274 - val_mae: 0.1015\n",
      "Epoch 35/300\n",
      "546/546 [==============================] - 1s 2ms/step - loss: 0.0278 - mae: 0.1029 - val_loss: 0.0272 - val_mae: 0.0993\n",
      "Epoch 36/300\n",
      "546/546 [==============================] - 2s 3ms/step - loss: 0.0276 - mae: 0.1019 - val_loss: 0.0260 - val_mae: 0.0995\n",
      "Epoch 37/300\n",
      "546/546 [==============================] - 2s 4ms/step - loss: 0.0267 - mae: 0.1012 - val_loss: 0.0263 - val_mae: 0.0971\n",
      "Epoch 38/300\n",
      "546/546 [==============================] - 2s 3ms/step - loss: 0.0264 - mae: 0.1002 - val_loss: 0.0254 - val_mae: 0.0984\n",
      "Epoch 39/300\n",
      "546/546 [==============================] - 2s 3ms/step - loss: 0.0260 - mae: 0.0997 - val_loss: 0.0273 - val_mae: 0.1005\n",
      "Epoch 40/300\n",
      "546/546 [==============================] - 1s 3ms/step - loss: 0.0265 - mae: 0.1002 - val_loss: 0.0271 - val_mae: 0.0984\n",
      "Epoch 41/300\n",
      "546/546 [==============================] - 1s 3ms/step - loss: 0.0266 - mae: 0.1005 - val_loss: 0.0277 - val_mae: 0.1048\n",
      "Epoch 42/300\n",
      "546/546 [==============================] - 1s 3ms/step - loss: 0.0269 - mae: 0.0998 - val_loss: 0.0260 - val_mae: 0.0959\n",
      "Epoch 43/300\n",
      "546/546 [==============================] - 1s 3ms/step - loss: 0.0259 - mae: 0.0984 - val_loss: 0.0257 - val_mae: 0.0964\n",
      "Epoch 44/300\n",
      "546/546 [==============================] - 1s 3ms/step - loss: 0.0260 - mae: 0.0985 - val_loss: 0.0272 - val_mae: 0.0970\n",
      "Epoch 45/300\n",
      "546/546 [==============================] - 1s 2ms/step - loss: 0.0257 - mae: 0.0986 - val_loss: 0.0262 - val_mae: 0.0985\n",
      "Epoch 46/300\n",
      "546/546 [==============================] - 2s 3ms/step - loss: 0.0254 - mae: 0.0983 - val_loss: 0.0264 - val_mae: 0.0966\n",
      "Epoch 47/300\n",
      "546/546 [==============================] - 2s 4ms/step - loss: 0.0255 - mae: 0.0978 - val_loss: 0.0271 - val_mae: 0.0992\n",
      "Epoch 48/300\n",
      "546/546 [==============================] - 2s 4ms/step - loss: 0.0253 - mae: 0.0974 - val_loss: 0.0263 - val_mae: 0.0966\n",
      "Epoch 49/300\n",
      "546/546 [==============================] - 2s 4ms/step - loss: 0.0251 - mae: 0.0967 - val_loss: 0.0268 - val_mae: 0.0957\n",
      "Epoch 50/300\n",
      "546/546 [==============================] - 1s 2ms/step - loss: 0.0251 - mae: 0.0971 - val_loss: 0.0250 - val_mae: 0.0934\n",
      "Epoch 51/300\n",
      "546/546 [==============================] - 1s 3ms/step - loss: 0.0254 - mae: 0.0979 - val_loss: 0.0283 - val_mae: 0.0972\n",
      "Epoch 52/300\n",
      "546/546 [==============================] - 1s 3ms/step - loss: 0.0253 - mae: 0.0970 - val_loss: 0.0260 - val_mae: 0.0960\n",
      "Epoch 53/300\n",
      "546/546 [==============================] - 1s 3ms/step - loss: 0.0251 - mae: 0.0968 - val_loss: 0.0260 - val_mae: 0.0973\n",
      "Epoch 54/300\n",
      "546/546 [==============================] - 1s 3ms/step - loss: 0.0259 - mae: 0.0970 - val_loss: 0.0279 - val_mae: 0.1003\n",
      "Epoch 55/300\n",
      "546/546 [==============================] - 2s 3ms/step - loss: 0.0253 - mae: 0.0967 - val_loss: 0.0258 - val_mae: 0.0951\n",
      "Epoch 56/300\n",
      "546/546 [==============================] - 1s 2ms/step - loss: 0.0250 - mae: 0.0969 - val_loss: 0.0257 - val_mae: 0.0933\n",
      "Epoch 57/300\n",
      "546/546 [==============================] - 2s 4ms/step - loss: 0.0246 - mae: 0.0956 - val_loss: 0.0251 - val_mae: 0.0922\n",
      "Epoch 58/300\n",
      "546/546 [==============================] - 2s 4ms/step - loss: 0.0251 - mae: 0.0963 - val_loss: 0.0254 - val_mae: 0.0930\n",
      "Epoch 59/300\n",
      "546/546 [==============================] - 2s 4ms/step - loss: 0.0248 - mae: 0.0958 - val_loss: 0.0259 - val_mae: 0.0949\n",
      "Epoch 60/300\n",
      "546/546 [==============================] - 2s 3ms/step - loss: 0.0249 - mae: 0.0966 - val_loss: 0.0242 - val_mae: 0.0943\n",
      "Epoch 61/300\n",
      "546/546 [==============================] - 1s 2ms/step - loss: 0.0249 - mae: 0.0956 - val_loss: 0.0288 - val_mae: 0.1044\n",
      "Epoch 62/300\n",
      "546/546 [==============================] - 1s 2ms/step - loss: 0.0250 - mae: 0.0967 - val_loss: 0.0258 - val_mae: 0.0969\n",
      "Epoch 63/300\n",
      "546/546 [==============================] - 1s 2ms/step - loss: 0.0243 - mae: 0.0952 - val_loss: 0.0256 - val_mae: 0.0999\n",
      "Epoch 64/300\n",
      "546/546 [==============================] - 1s 2ms/step - loss: 0.0247 - mae: 0.0955 - val_loss: 0.0259 - val_mae: 0.0953\n",
      "Epoch 65/300\n",
      "546/546 [==============================] - 1s 3ms/step - loss: 0.0246 - mae: 0.0957 - val_loss: 0.0251 - val_mae: 0.0954\n",
      "Epoch 66/300\n",
      "546/546 [==============================] - 1s 3ms/step - loss: 0.0247 - mae: 0.0956 - val_loss: 0.0277 - val_mae: 0.1021\n",
      "Epoch 67/300\n",
      "546/546 [==============================] - 1s 2ms/step - loss: 0.0245 - mae: 0.0957 - val_loss: 0.0247 - val_mae: 0.0944\n",
      "Epoch 68/300\n",
      "546/546 [==============================] - 2s 4ms/step - loss: 0.0245 - mae: 0.0955 - val_loss: 0.0251 - val_mae: 0.0947\n",
      "Epoch 69/300\n",
      "546/546 [==============================] - 2s 4ms/step - loss: 0.0239 - mae: 0.0941 - val_loss: 0.0259 - val_mae: 0.0962\n",
      "Epoch 70/300\n",
      "546/546 [==============================] - 2s 4ms/step - loss: 0.0250 - mae: 0.0961 - val_loss: 0.0257 - val_mae: 0.0957\n",
      "Epoch 71/300\n",
      "546/546 [==============================] - 2s 3ms/step - loss: 0.0247 - mae: 0.0956 - val_loss: 0.0248 - val_mae: 0.0934\n",
      "Epoch 72/300\n",
      "546/546 [==============================] - 1s 3ms/step - loss: 0.0245 - mae: 0.0950 - val_loss: 0.0258 - val_mae: 0.0964\n",
      "Epoch 73/300\n",
      "546/546 [==============================] - 1s 3ms/step - loss: 0.0245 - mae: 0.0951 - val_loss: 0.0257 - val_mae: 0.1031\n",
      "Epoch 74/300\n",
      "546/546 [==============================] - 1s 2ms/step - loss: 0.0247 - mae: 0.0952 - val_loss: 0.0298 - val_mae: 0.1074\n",
      "Epoch 75/300\n",
      "546/546 [==============================] - 1s 2ms/step - loss: 0.0239 - mae: 0.0938 - val_loss: 0.0248 - val_mae: 0.0964\n",
      "Training time: 119.17466807365417\n"
     ]
    }
   ],
   "source": [
    "#train model and perform validation test\n",
    "import time\n",
    "early_stop = EarlyStopping(monitor='val_loss', patience=15) # stops training when it doesn't show improvemnet.\n",
    "t0 = time.time()\n",
    "history = model5.fit(X_train, y_train, epochs=300,\n",
    "          validation_data=(X_cv,y_cv), verbose=1, callbacks=[early_stop])\n",
    "print(\"Training time:\", time.time()-t0)"
   ]
  },
  {
   "cell_type": "code",
   "execution_count": null,
   "metadata": {
    "colab": {
     "base_uri": "https://localhost:8080/",
     "height": 736
    },
    "id": "MQfBmaD7cCaC",
    "outputId": "c7066441-0d07-4dcf-806f-984733da98f7"
   },
   "outputs": [
    {
     "data": {
      "text/plain": [
       "<matplotlib.legend.Legend at 0x7fd77a8d90c0>"
      ]
     },
     "execution_count": 115,
     "metadata": {},
     "output_type": "execute_result"
    },
    {
     "data": {
      "image/png": "[encoded data removed]",
      "text/plain": [
       "<Figure size 1500x800 with 1 Axes>"
      ]
     },
     "metadata": {},
     "output_type": "display_data"
    }
   ],
   "source": [
    "# show the graph of model loss in trainig and validation\n",
    "\n",
    "plt.figure(figsize=(15,8))\n",
    "plt.xlabel('Epoch')\n",
    "plt.ylabel('Mean Square Error')\n",
    "plt.plot(history.epoch, history.history['loss'],\n",
    "           label='Train Loss')\n",
    "plt.plot(history.epoch, history.history['val_loss'],\n",
    "           label = 'Val loss')\n",
    "plt.title('Model loss')\n",
    "plt.legend()"
   ]
  },
  {
   "cell_type": "code",
   "execution_count": null,
   "metadata": {
    "colab": {
     "base_uri": "https://localhost:8080/"
    },
    "id": "eoloraCdcHTH",
    "outputId": "d8b8c9a6-1286-4f81-f824-9dba4d2f9da0"
   },
   "outputs": [
    {
     "name": "stdout",
     "output_type": "stream",
     "text": [
      "546/546 [==============================] - 1s 2ms/step - loss: 0.0253 - mae: 0.0979\n",
      "Mean square error:  0.025250853970646858\n",
      "Root Mean square error:  0.15890517288825703\n",
      "Mean absolute error:  0.09787184000015259\n"
     ]
    }
   ],
   "source": [
    "#check the model performace in test dataset\n",
    "score = model5.evaluate(X_train, y_train, verbose=1)\n",
    "\n",
    "print('Mean square error: ', score[0])\n",
    "\n",
    "print('Root Mean square error: ', np.sqrt(score[0]))\n",
    "print('Mean absolute error: ', score[1])"
   ]
  },
  {
   "cell_type": "code",
   "execution_count": null,
   "metadata": {
    "colab": {
     "base_uri": "https://localhost:8080/"
    },
    "id": "JRFG6m0vcSOd",
    "outputId": "d4509093-0458-4821-e6c3-e6ab4d4d0bf6"
   },
   "outputs": [
    {
     "name": "stdout",
     "output_type": "stream",
     "text": [
      "117/117 [==============================] - 0s 2ms/step - loss: 0.0251 - mae: 0.0962\n",
      "Mean square error:  0.02512235753238201\n",
      "Root Mean square error:  0.1585003392185077\n",
      "Mean absolute error:  0.09622133523225784\n"
     ]
    }
   ],
   "source": [
    "#check the model performace in test dataset\n",
    "score = model5.evaluate(X_test, y_test, verbose=1)\n",
    "\n",
    "print('Mean square error: ', score[0])\n",
    "\n",
    "print('Root Mean square error: ', np.sqrt(score[0]))\n",
    "print('Mean absolute error: ', score[1])"
   ]
  },
  {
   "cell_type": "code",
   "execution_count": null,
   "metadata": {
    "colab": {
     "base_uri": "https://localhost:8080/"
    },
    "id": "Lk_Nd3A2wH6D",
    "outputId": "2fe287cb-8392-4c2b-e3e9-f790a028c945"
   },
   "outputs": [
    {
     "name": "stdout",
     "output_type": "stream",
     "text": [
      "234/234 [==============================] - 0s 1ms/step\n",
      "The model performance for testing set\n",
      "--------------------------------------\n",
      "MSE is 0.024941716811966445\n",
      "RMSE is 0.15792946783917955\n",
      "R2 score is 0.9751306746684064\n",
      "SMAPE score is 21.47\n"
     ]
    }
   ],
   "source": [
    "# model evaluation for testing set\n",
    "y_test_predict = model5.predict(X_)\n",
    "mse = (mean_squared_error(y_, y_test_predict))\n",
    "rmse=  np.sqrt(mse)\n",
    "r2 = r2_score(y_, y_test_predict)\n",
    "smape=calculate_smape(y_, y_test_predict)\n",
    "\n",
    "print(\"The model performance for testing set\")\n",
    "print(\"--------------------------------------\")\n",
    "print('MSE is {}'.format(mse))\n",
    "print('RMSE is {}'.format(rmse))\n",
    "print('R2 score is {}'.format(r2))\n",
    "print('SMAPE score is {}'.format(smape))"
   ]
  },
  {
   "cell_type": "code",
   "execution_count": null,
   "metadata": {
    "colab": {
     "base_uri": "https://localhost:8080/"
    },
    "id": "M7vqLQ4swApX",
    "outputId": "0800faa7-cb29-473d-a83d-e3bc771286e2"
   },
   "outputs": [
    {
     "name": "stdout",
     "output_type": "stream",
     "text": [
      "MAPE score is 0.41833372413823133\n"
     ]
    }
   ],
   "source": [
    "from sklearn.metrics import mean_absolute_percentage_error\n",
    "mape = mean_absolute_percentage_error(y_,y_test_predict)\n",
    "print('MAPE score is {}'.format(mape))"
   ]
  },
  {
   "cell_type": "markdown",
   "metadata": {
    "id": "6xlLvGWksfFP"
   },
   "source": [
    "model6"
   ]
  },
  {
   "cell_type": "code",
   "execution_count": null,
   "metadata": {
    "id": "cBnE7hn8secj"
   },
   "outputs": [],
   "source": [
    "#get number of columns in training data\n",
    "n_cols = X_train.shape[1]\n",
    "\n",
    "# builds model\n",
    "model6 = Sequential()\n",
    "\n",
    "model6.add(Dense(400, activation='relu',input_shape=(n_cols,)))\n",
    "model6.add(Dense(80, activation='relu'))\n",
    "\n",
    "model6.add(Dense(1,activation='linear'))"
   ]
  },
  {
   "cell_type": "code",
   "execution_count": null,
   "metadata": {
    "id": "29FEg-8gsu5B"
   },
   "outputs": [],
   "source": [
    "#compile model\n",
    "model6.compile(loss='mse', optimizer='adam', metrics=['mae']) # use metric as mean absolute error"
   ]
  },
  {
   "cell_type": "code",
   "execution_count": null,
   "metadata": {
    "colab": {
     "base_uri": "https://localhost:8080/"
    },
    "id": "Mqjh7xBDs0J_",
    "outputId": "7a741823-2516-47cf-93b1-1d41be0373ad"
   },
   "outputs": [
    {
     "name": "stdout",
     "output_type": "stream",
     "text": [
      "Model: \"sequential\"\n",
      "_________________________________________________________________\n",
      " Layer (type)                Output Shape              Param #   \n",
      "=================================================================\n",
      " dense (Dense)               (None, 400)               4400      \n",
      "                                                                 \n",
      " dense_1 (Dense)             (None, 80)                32080     \n",
      "                                                                 \n",
      " dense_2 (Dense)             (None, 1)                 81        \n",
      "                                                                 \n",
      "=================================================================\n",
      "Total params: 36561 (142.82 KB)\n",
      "Trainable params: 36561 (142.82 KB)\n",
      "Non-trainable params: 0 (0.00 Byte)\n",
      "_________________________________________________________________\n"
     ]
    }
   ],
   "source": [
    "#inspect the model\n",
    "model6.summary()"
   ]
  },
  {
   "cell_type": "code",
   "execution_count": null,
   "metadata": {
    "colab": {
     "base_uri": "https://localhost:8080/"
    },
    "id": "4SXRJSGvs7HZ",
    "outputId": "12007359-914a-4846-af3a-272185a51cb2"
   },
   "outputs": [
    {
     "name": "stdout",
     "output_type": "stream",
     "text": [
      "Epoch 1/300\n",
      "546/546 [==============================] - 4s 6ms/step - loss: 0.1198 - mae: 0.1847 - val_loss: 0.0784 - val_mae: 0.1672\n",
      "Epoch 2/300\n",
      "546/546 [==============================] - 4s 7ms/step - loss: 0.0698 - mae: 0.1564 - val_loss: 0.0684 - val_mae: 0.1505\n",
      "Epoch 3/300\n",
      "546/546 [==============================] - 3s 5ms/step - loss: 0.0664 - mae: 0.1499 - val_loss: 0.0655 - val_mae: 0.1489\n",
      "Epoch 4/300\n",
      "546/546 [==============================] - 2s 4ms/step - loss: 0.0581 - mae: 0.1386 - val_loss: 0.0575 - val_mae: 0.1392\n",
      "Epoch 5/300\n",
      "546/546 [==============================] - 2s 3ms/step - loss: 0.0479 - mae: 0.1247 - val_loss: 0.0426 - val_mae: 0.1195\n",
      "Epoch 6/300\n",
      "546/546 [==============================] - 2s 4ms/step - loss: 0.0381 - mae: 0.1126 - val_loss: 0.0369 - val_mae: 0.1108\n",
      "Epoch 7/300\n",
      "546/546 [==============================] - 2s 3ms/step - loss: 0.0338 - mae: 0.1084 - val_loss: 0.0372 - val_mae: 0.1102\n",
      "Epoch 8/300\n",
      "546/546 [==============================] - 2s 4ms/step - loss: 0.0301 - mae: 0.1031 - val_loss: 0.0309 - val_mae: 0.1022\n",
      "Epoch 9/300\n",
      "546/546 [==============================] - 3s 6ms/step - loss: 0.0283 - mae: 0.1010 - val_loss: 0.0295 - val_mae: 0.1095\n",
      "Epoch 10/300\n",
      "546/546 [==============================] - 3s 6ms/step - loss: 0.0275 - mae: 0.0992 - val_loss: 0.0271 - val_mae: 0.0980\n",
      "Epoch 11/300\n",
      "546/546 [==============================] - 2s 4ms/step - loss: 0.0289 - mae: 0.0989 - val_loss: 0.0254 - val_mae: 0.0961\n",
      "Epoch 12/300\n",
      "546/546 [==============================] - 2s 4ms/step - loss: 0.0257 - mae: 0.0956 - val_loss: 0.0317 - val_mae: 0.0987\n",
      "Epoch 13/300\n",
      "546/546 [==============================] - 2s 4ms/step - loss: 0.0260 - mae: 0.0946 - val_loss: 0.0274 - val_mae: 0.1017\n",
      "Epoch 14/300\n",
      "546/546 [==============================] - 2s 4ms/step - loss: 0.0244 - mae: 0.0924 - val_loss: 0.0241 - val_mae: 0.0986\n",
      "Epoch 15/300\n",
      "546/546 [==============================] - 2s 4ms/step - loss: 0.0224 - mae: 0.0898 - val_loss: 0.0233 - val_mae: 0.0978\n",
      "Epoch 16/300\n",
      "546/546 [==============================] - 3s 6ms/step - loss: 0.0224 - mae: 0.0908 - val_loss: 0.0236 - val_mae: 0.0951\n",
      "Epoch 17/300\n",
      "546/546 [==============================] - 3s 6ms/step - loss: 0.0213 - mae: 0.0874 - val_loss: 0.0233 - val_mae: 0.0907\n",
      "Epoch 18/300\n",
      "546/546 [==============================] - 2s 4ms/step - loss: 0.0213 - mae: 0.0882 - val_loss: 0.0216 - val_mae: 0.0893\n",
      "Epoch 19/300\n",
      "546/546 [==============================] - 2s 4ms/step - loss: 0.0220 - mae: 0.0893 - val_loss: 0.0247 - val_mae: 0.0922\n",
      "Epoch 20/300\n",
      "546/546 [==============================] - 2s 4ms/step - loss: 0.0204 - mae: 0.0863 - val_loss: 0.0253 - val_mae: 0.0972\n",
      "Epoch 21/300\n",
      "546/546 [==============================] - 2s 4ms/step - loss: 0.0210 - mae: 0.0875 - val_loss: 0.0209 - val_mae: 0.0881\n",
      "Epoch 22/300\n",
      "546/546 [==============================] - 2s 3ms/step - loss: 0.0203 - mae: 0.0859 - val_loss: 0.0235 - val_mae: 0.0905\n",
      "Epoch 23/300\n",
      "546/546 [==============================] - 3s 5ms/step - loss: 0.0199 - mae: 0.0851 - val_loss: 0.0234 - val_mae: 0.0890\n",
      "Epoch 24/300\n",
      "546/546 [==============================] - 4s 7ms/step - loss: 0.0199 - mae: 0.0854 - val_loss: 0.0229 - val_mae: 0.0918\n",
      "Epoch 25/300\n",
      "546/546 [==============================] - 2s 4ms/step - loss: 0.0200 - mae: 0.0854 - val_loss: 0.0221 - val_mae: 0.0900\n",
      "Epoch 26/300\n",
      "546/546 [==============================] - 2s 4ms/step - loss: 0.0206 - mae: 0.0849 - val_loss: 0.0227 - val_mae: 0.0917\n",
      "Epoch 27/300\n",
      "546/546 [==============================] - 2s 4ms/step - loss: 0.0198 - mae: 0.0840 - val_loss: 0.0256 - val_mae: 0.0952\n",
      "Epoch 28/300\n",
      "546/546 [==============================] - 2s 3ms/step - loss: 0.0188 - mae: 0.0825 - val_loss: 0.0207 - val_mae: 0.0888\n",
      "Epoch 29/300\n",
      "546/546 [==============================] - 2s 3ms/step - loss: 0.0186 - mae: 0.0817 - val_loss: 0.0228 - val_mae: 0.0893\n",
      "Epoch 30/300\n",
      "546/546 [==============================] - 4s 7ms/step - loss: 0.0196 - mae: 0.0839 - val_loss: 0.0209 - val_mae: 0.0862\n",
      "Epoch 31/300\n",
      "546/546 [==============================] - 3s 5ms/step - loss: 0.0191 - mae: 0.0829 - val_loss: 0.0214 - val_mae: 0.0860\n",
      "Epoch 32/300\n",
      "546/546 [==============================] - 2s 4ms/step - loss: 0.0191 - mae: 0.0827 - val_loss: 0.0222 - val_mae: 0.0891\n",
      "Epoch 33/300\n",
      "546/546 [==============================] - 3s 5ms/step - loss: 0.0188 - mae: 0.0821 - val_loss: 0.0279 - val_mae: 0.0948\n",
      "Epoch 34/300\n",
      "546/546 [==============================] - 3s 5ms/step - loss: 0.0184 - mae: 0.0817 - val_loss: 0.0222 - val_mae: 0.0862\n",
      "Epoch 35/300\n",
      "546/546 [==============================] - 2s 3ms/step - loss: 0.0177 - mae: 0.0800 - val_loss: 0.0263 - val_mae: 0.0942\n",
      "Epoch 36/300\n",
      "546/546 [==============================] - 2s 4ms/step - loss: 0.0180 - mae: 0.0801 - val_loss: 0.0212 - val_mae: 0.0862\n",
      "Epoch 37/300\n",
      "546/546 [==============================] - 3s 6ms/step - loss: 0.0180 - mae: 0.0803 - val_loss: 0.0209 - val_mae: 0.0865\n",
      "Epoch 38/300\n",
      "546/546 [==============================] - 3s 6ms/step - loss: 0.0181 - mae: 0.0799 - val_loss: 0.0214 - val_mae: 0.0883\n",
      "Epoch 39/300\n",
      "546/546 [==============================] - 3s 6ms/step - loss: 0.0178 - mae: 0.0789 - val_loss: 0.0200 - val_mae: 0.0844\n",
      "Epoch 40/300\n",
      "546/546 [==============================] - 2s 4ms/step - loss: 0.0174 - mae: 0.0785 - val_loss: 0.0253 - val_mae: 0.0897\n",
      "Epoch 41/300\n",
      "546/546 [==============================] - 2s 4ms/step - loss: 0.0177 - mae: 0.0796 - val_loss: 0.0235 - val_mae: 0.0905\n",
      "Epoch 42/300\n",
      "546/546 [==============================] - 2s 4ms/step - loss: 0.0167 - mae: 0.0770 - val_loss: 0.0212 - val_mae: 0.0899\n",
      "Epoch 43/300\n",
      "546/546 [==============================] - 2s 4ms/step - loss: 0.0173 - mae: 0.0786 - val_loss: 0.0242 - val_mae: 0.0955\n",
      "Epoch 44/300\n",
      "546/546 [==============================] - 3s 6ms/step - loss: 0.0169 - mae: 0.0778 - val_loss: 0.0232 - val_mae: 0.0892\n",
      "Epoch 45/300\n",
      "546/546 [==============================] - 3s 5ms/step - loss: 0.0164 - mae: 0.0768 - val_loss: 0.0272 - val_mae: 0.0924\n",
      "Epoch 46/300\n",
      "546/546 [==============================] - 2s 4ms/step - loss: 0.0168 - mae: 0.0777 - val_loss: 0.0250 - val_mae: 0.1044\n",
      "Epoch 47/300\n",
      "546/546 [==============================] - 2s 4ms/step - loss: 0.0166 - mae: 0.0771 - val_loss: 0.0203 - val_mae: 0.0848\n",
      "Epoch 48/300\n",
      "546/546 [==============================] - 2s 4ms/step - loss: 0.0162 - mae: 0.0763 - val_loss: 0.0229 - val_mae: 0.0957\n",
      "Epoch 49/300\n",
      "546/546 [==============================] - 2s 4ms/step - loss: 0.0161 - mae: 0.0762 - val_loss: 0.0248 - val_mae: 0.0926\n",
      "Epoch 50/300\n",
      "546/546 [==============================] - 3s 5ms/step - loss: 0.0170 - mae: 0.0776 - val_loss: 0.0223 - val_mae: 0.0894\n",
      "Epoch 51/300\n",
      "546/546 [==============================] - 3s 6ms/step - loss: 0.0165 - mae: 0.0768 - val_loss: 0.0266 - val_mae: 0.0944\n",
      "Epoch 52/300\n",
      "546/546 [==============================] - 3s 5ms/step - loss: 0.0171 - mae: 0.0771 - val_loss: 0.0235 - val_mae: 0.0903\n",
      "Epoch 53/300\n",
      "546/546 [==============================] - 2s 3ms/step - loss: 0.0161 - mae: 0.0761 - val_loss: 0.0228 - val_mae: 0.0893\n",
      "Epoch 54/300\n",
      "546/546 [==============================] - 2s 3ms/step - loss: 0.0158 - mae: 0.0751 - val_loss: 0.0238 - val_mae: 0.0908\n",
      "Training time: 134.20609951019287\n"
     ]
    }
   ],
   "source": [
    "#train model and perform validation test\n",
    "import time\n",
    "early_stop = EarlyStopping(monitor='val_loss', patience=15) # stops training when it doesn't show improvemnet.\n",
    "t0 = time.time()\n",
    "history = model6.fit(X_train, y_train, epochs=300,\n",
    "          validation_data=(X_cv,y_cv), verbose=1, callbacks=[early_stop])\n",
    "print(\"Training time:\", time.time()-t0)"
   ]
  },
  {
   "cell_type": "code",
   "execution_count": null,
   "metadata": {
    "colab": {
     "base_uri": "https://localhost:8080/",
     "height": 736
    },
    "id": "qsABdxyfs_ix",
    "outputId": "80a7db37-0254-412a-ec97-fd8e6d1bc75f"
   },
   "outputs": [
    {
     "data": {
      "text/plain": [
       "<matplotlib.legend.Legend at 0x7fd7acac6ce0>"
      ]
     },
     "execution_count": 124,
     "metadata": {},
     "output_type": "execute_result"
    },
    {
     "data": {
      "image/png": "[encoded data removed]",
      "text/plain": [
       "<Figure size 1500x800 with 1 Axes>"
      ]
     },
     "metadata": {},
     "output_type": "display_data"
    }
   ],
   "source": [
    "# show the graph of model loss in trainig and validation\n",
    "\n",
    "plt.figure(figsize=(15,8))\n",
    "plt.xlabel('Epoch')\n",
    "plt.ylabel('Mean Square Error')\n",
    "plt.plot(history.epoch, history.history['loss'],\n",
    "           label='Train Loss')\n",
    "plt.plot(history.epoch, history.history['val_loss'],\n",
    "           label = 'Val loss')\n",
    "plt.title('Model loss')\n",
    "plt.legend()"
   ]
  },
  {
   "cell_type": "code",
   "execution_count": null,
   "metadata": {
    "colab": {
     "base_uri": "https://localhost:8080/"
    },
    "id": "JTzVPk-rtCL6",
    "outputId": "ae3d76b8-76b6-4293-ab25-895155ff8de5"
   },
   "outputs": [
    {
     "name": "stdout",
     "output_type": "stream",
     "text": [
      "546/546 [==============================] - 1s 2ms/step - loss: 0.0225 - mae: 0.0917\n",
      "Mean square error:  0.02253258228302002\n",
      "Root Mean square error:  0.15010856831979985\n",
      "Mean absolute error:  0.0917145311832428\n"
     ]
    }
   ],
   "source": [
    "#check the model performace in test dataset\n",
    "score = model6.evaluate(X_train, y_train, verbose=1)\n",
    "\n",
    "print('Mean square error: ', score[0])\n",
    "\n",
    "print('Root Mean square error: ', np.sqrt(score[0]))\n",
    "print('Mean absolute error: ', score[1])"
   ]
  },
  {
   "cell_type": "code",
   "execution_count": null,
   "metadata": {
    "colab": {
     "base_uri": "https://localhost:8080/"
    },
    "id": "qfWJTNWMtEx8",
    "outputId": "28d4950e-638c-48d9-b170-97d6c3a00119"
   },
   "outputs": [
    {
     "name": "stdout",
     "output_type": "stream",
     "text": [
      "117/117 [==============================] - 0s 2ms/step - loss: 0.0258 - mae: 0.0991\n",
      "Mean square error:  0.025816118344664574\n",
      "Root Mean square error:  0.16067395042341048\n",
      "Mean absolute error:  0.09912988543510437\n"
     ]
    }
   ],
   "source": [
    "#check the model performace in test dataset\n",
    "score = model6.evaluate(X_test, y_test, verbose=1)\n",
    "\n",
    "print('Mean square error: ', score[0])\n",
    "\n",
    "print('Root Mean square error: ', np.sqrt(score[0]))\n",
    "print('Mean absolute error: ', score[1])"
   ]
  },
  {
   "cell_type": "code",
   "execution_count": null,
   "metadata": {
    "colab": {
     "base_uri": "https://localhost:8080/"
    },
    "id": "2TN8tnIawJKP",
    "outputId": "29161de6-15de-4d97-c6e3-861857d95314"
   },
   "outputs": [
    {
     "name": "stdout",
     "output_type": "stream",
     "text": [
      "234/234 [==============================] - 0s 2ms/step\n",
      "The model performance for testing set\n",
      "--------------------------------------\n",
      "MSE is 0.0238309766920035\n",
      "RMSE is 0.15437284959475064\n",
      "R2 score is 0.9762381909476772\n",
      "SMAPE score is 20.52\n"
     ]
    }
   ],
   "source": [
    "# model evaluation for testing set\n",
    "y_test_predict = model6.predict(X_)\n",
    "mse = (mean_squared_error(y_, y_test_predict))\n",
    "rmse=  np.sqrt(mse)\n",
    "r2 = r2_score(y_, y_test_predict)\n",
    "smape=calculate_smape(y_, y_test_predict)\n",
    "\n",
    "print(\"The model performance for testing set\")\n",
    "print(\"--------------------------------------\")\n",
    "print('MSE is {}'.format(mse))\n",
    "print('RMSE is {}'.format(rmse))\n",
    "print('R2 score is {}'.format(r2))\n",
    "print('SMAPE score is {}'.format(smape))"
   ]
  },
  {
   "cell_type": "code",
   "execution_count": null,
   "metadata": {
    "colab": {
     "base_uri": "https://localhost:8080/"
    },
    "id": "PV0emNeEwB8C",
    "outputId": "ff2b0eb3-b6bc-4965-afef-604fb836b539"
   },
   "outputs": [
    {
     "name": "stdout",
     "output_type": "stream",
     "text": [
      "MAPE score is 0.3920369413987063\n"
     ]
    }
   ],
   "source": [
    "from sklearn.metrics import mean_absolute_percentage_error\n",
    "mape = mean_absolute_percentage_error(y_,y_test_predict)\n",
    "print('MAPE score is {}'.format(mape))"
   ]
  }
 ],
 "metadata": {
  "colab": {
   "provenance": []
  },
  "kernelspec": {
   "display_name": "Python 3 (ipykernel)",
   "language": "python",
   "name": "python3"
  },
  "language_info": {
   "codemirror_mode": {
    "name": "ipython",
    "version": 3
   },
   "file_extension": ".py",
   "mimetype": "text/x-python",
   "name": "python",
   "nbconvert_exporter": "python",
   "pygments_lexer": "ipython3",
   "version": "3.11.4"
  }
 },
 "nbformat": 4,
 "nbformat_minor": 1
}
